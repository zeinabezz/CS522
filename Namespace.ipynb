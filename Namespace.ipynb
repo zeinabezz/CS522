{
 "cells": [
  {
   "cell_type": "code",
   "execution_count": 6,
   "metadata": {},
   "outputs": [
    {
     "name": "stdout",
     "output_type": "stream",
     "text": [
      "5\n",
      "94194304820096\n"
     ]
    }
   ],
   "source": [
    "x=5\n",
    "print(x)\n",
    "print(id(x))"
   ]
  },
  {
   "cell_type": "code",
   "execution_count": 7,
   "metadata": {},
   "outputs": [
    {
     "name": "stdout",
     "output_type": "stream",
     "text": [
      "5\n",
      "94194304820096\n",
      "94194304820096\n"
     ]
    }
   ],
   "source": [
    "\n",
    "y=x\n",
    "print(y)\n",
    "print(id(y))\n",
    "print(id(x))"
   ]
  },
  {
   "cell_type": "code",
   "execution_count": 8,
   "metadata": {},
   "outputs": [
    {
     "name": "stdout",
     "output_type": "stream",
     "text": [
      "6\n",
      "5\n",
      "94194304820128\n",
      "94194304820096\n"
     ]
    }
   ],
   "source": [
    "x=x+1\n",
    "print(x)\n",
    "print(y)\n",
    "print(id(x))\n",
    "print(id(y))"
   ]
  },
  {
   "cell_type": "code",
   "execution_count": 9,
   "metadata": {},
   "outputs": [
    {
     "name": "stdout",
     "output_type": "stream",
     "text": [
      "5\n",
      "94194304820096\n",
      "5\n",
      "94194304820096\n",
      "94194304820096\n",
      "6\n",
      "5\n",
      "94194304820128\n",
      "94194304820096\n",
      "6\n",
      "5\n",
      "5\n",
      "94194304820128\n",
      "94194304820096\n",
      "94194304820096\n"
     ]
    }
   ],
   "source": [
    "x=5\n",
    "print(x)\n",
    "print(id(x))\n",
    "y=x\n",
    "print(y)\n",
    "print(id(y))\n",
    "print(id(x))\n",
    "x=x+1\n",
    "print(x)\n",
    "print(y)\n",
    "print(id(x))\n",
    "print(id(y))\n",
    "z=5\n",
    "print(x)\n",
    "print(y)\n",
    "print(z)\n",
    "print(id(x))\n",
    "print(id(y))\n",
    "print(id(z))"
   ]
  },
  {
   "cell_type": "code",
   "execution_count": 10,
   "metadata": {},
   "outputs": [
    {
     "name": "stdout",
     "output_type": "stream",
     "text": [
      "[1, 2, 3]\n",
      "140712792781440\n"
     ]
    }
   ],
   "source": [
    "l=[1, 2, 3]\n",
    "print(l)\n",
    "print(id(l))"
   ]
  },
  {
   "cell_type": "code",
   "execution_count": 11,
   "metadata": {},
   "outputs": [
    {
     "name": "stdout",
     "output_type": "stream",
     "text": [
      "[1, 2, 3]\n",
      "[1, 2, 3]\n",
      "140712792781440\n",
      "140712792781440\n"
     ]
    }
   ],
   "source": [
    "l2=l\n",
    "print(l)\n",
    "print(l2)\n",
    "print(id(l))\n",
    "print(id(l2))"
   ]
  },
  {
   "cell_type": "code",
   "execution_count": 13,
   "metadata": {},
   "outputs": [
    {
     "name": "stdout",
     "output_type": "stream",
     "text": [
      "[34, 2, 3]\n",
      "[34, 2, 3]\n",
      "140712792781440\n",
      "140712792781440\n"
     ]
    }
   ],
   "source": [
    "l[0]=34\n",
    "print(l)\n",
    "print(l2)\n",
    "print(id(l))\n",
    "print(id(l2))"
   ]
  },
  {
   "cell_type": "code",
   "execution_count": 15,
   "metadata": {},
   "outputs": [
    {
     "name": "stdout",
     "output_type": "stream",
     "text": [
      "140712792556880\n",
      "140712792781440\n"
     ]
    }
   ],
   "source": [
    "l=[4, 7, 9]\n",
    "print(id(l))\n",
    "print(id(l2))"
   ]
  },
  {
   "cell_type": "code",
   "execution_count": 16,
   "metadata": {},
   "outputs": [
    {
     "name": "stdout",
     "output_type": "stream",
     "text": [
      "140712792556880\n",
      "140712792781440\n",
      "140712792558160\n"
     ]
    }
   ],
   "source": [
    "g=[4, 7, 9]\n",
    "print(id(l))\n",
    "print(id(l2))\n",
    "print(id(g))"
   ]
  },
  {
   "cell_type": "code",
   "execution_count": 20,
   "metadata": {},
   "outputs": [
    {
     "name": "stdout",
     "output_type": "stream",
     "text": [
      "[1, 2, 3]\n",
      "[1, 2, 3]\n",
      "140712792734768\n",
      "140712792734768\n",
      "[10, 2, 3]\n",
      "[10, 2, 3]\n",
      "140712792734768\n",
      "140712792734768\n"
     ]
    }
   ],
   "source": [
    "lst=[1, 2, 3]\n",
    "g=lst\n",
    "print(lst)\n",
    "print(g)\n",
    "print(id(lst))\n",
    "print(id(g))\n",
    "g[0]=10\n",
    "print(lst)\n",
    "print(g)\n",
    "print(id(lst))\n",
    "print(id(g))\n"
   ]
  },
  {
   "cell_type": "code",
   "execution_count": 19,
   "metadata": {},
   "outputs": [
    {
     "name": "stdout",
     "output_type": "stream",
     "text": [
      "[1, 2, 3]\n",
      "[1, 2, 3]\n",
      "140712792767376\n",
      "140712792752288\n",
      "[1, 2, 3]\n",
      "[10, 2, 3]\n",
      "140712792767376\n",
      "140712792752288\n"
     ]
    }
   ],
   "source": [
    "lst=[1, 2, 3]\n",
    "g=lst[:]\n",
    "print(lst)\n",
    "print(g)\n",
    "print(id(lst))\n",
    "print(id(g))\n",
    "g[0]=10\n",
    "print(lst)\n",
    "print(g)\n",
    "print(id(lst))\n",
    "print(id(g))\n"
   ]
  },
  {
   "cell_type": "code",
   "execution_count": 27,
   "metadata": {},
   "outputs": [
    {
     "name": "stdout",
     "output_type": "stream",
     "text": [
      "8097.8736\n"
     ]
    }
   ],
   "source": [
    "a='zeinab'\n",
    "x=5\n",
    "l=[1, 2, 3]\n",
    "t=(2, 5, 7)\n",
    "d={'a':34}\n",
    "s={4, 6, 8}\n",
    "#print(r)\n",
    "globals()['r']=8097.8736\n",
    "print(globals()['r'])"
   ]
  },
  {
   "cell_type": "code",
   "execution_count": 38,
   "metadata": {},
   "outputs": [
    {
     "name": "stdout",
     "output_type": "stream",
     "text": [
      "start f\n"
     ]
    },
    {
     "ename": "NameError",
     "evalue": "name 'j' is not defined",
     "output_type": "error",
     "traceback": [
      "\u001b[0;31m---------------------------------------------------------------------------\u001b[0m",
      "\u001b[0;31mNameError\u001b[0m                                 Traceback (most recent call last)",
      "\u001b[0;32m<ipython-input-38-f7d787a52a88>\u001b[0m in \u001b[0;36m<module>\u001b[0;34m\u001b[0m\n\u001b[1;32m     12\u001b[0m \u001b[0;34m\u001b[0m\u001b[0m\n\u001b[1;32m     13\u001b[0m \u001b[0;31m#x=5\u001b[0m\u001b[0;34m\u001b[0m\u001b[0;34m\u001b[0m\u001b[0;34m\u001b[0m\u001b[0m\n\u001b[0;32m---> 14\u001b[0;31m \u001b[0mf\u001b[0m\u001b[0;34m(\u001b[0m\u001b[0;34m)\u001b[0m\u001b[0;34m\u001b[0m\u001b[0;34m\u001b[0m\u001b[0m\n\u001b[0m\u001b[1;32m     15\u001b[0m \u001b[0mprint\u001b[0m\u001b[0;34m(\u001b[0m\u001b[0;34m'finish'\u001b[0m\u001b[0;34m)\u001b[0m\u001b[0;34m\u001b[0m\u001b[0;34m\u001b[0m\u001b[0m\n\u001b[1;32m     16\u001b[0m \u001b[0mprint\u001b[0m\u001b[0;34m(\u001b[0m\u001b[0mj\u001b[0m\u001b[0;34m)\u001b[0m\u001b[0;34m\u001b[0m\u001b[0;34m\u001b[0m\u001b[0m\n",
      "\u001b[0;32m<ipython-input-38-f7d787a52a88>\u001b[0m in \u001b[0;36mf\u001b[0;34m()\u001b[0m\n\u001b[1;32m      2\u001b[0m     \u001b[0mprint\u001b[0m\u001b[0;34m(\u001b[0m\u001b[0;34m'start f'\u001b[0m\u001b[0;34m)\u001b[0m\u001b[0;34m\u001b[0m\u001b[0;34m\u001b[0m\u001b[0m\n\u001b[1;32m      3\u001b[0m     \u001b[0;31m#x=78\u001b[0m\u001b[0;34m\u001b[0m\u001b[0;34m\u001b[0m\u001b[0;34m\u001b[0m\u001b[0m\n\u001b[0;32m----> 4\u001b[0;31m     \u001b[0mprint\u001b[0m\u001b[0;34m(\u001b[0m\u001b[0mj\u001b[0m\u001b[0;34m)\u001b[0m\u001b[0;34m\u001b[0m\u001b[0;34m\u001b[0m\u001b[0m\n\u001b[0m\u001b[1;32m      5\u001b[0m     \u001b[0;32mdef\u001b[0m \u001b[0mg\u001b[0m\u001b[0;34m(\u001b[0m\u001b[0;34m)\u001b[0m\u001b[0;34m:\u001b[0m\u001b[0;34m\u001b[0m\u001b[0;34m\u001b[0m\u001b[0m\n\u001b[1;32m      6\u001b[0m         \u001b[0;31m#x='jkh'\u001b[0m\u001b[0;34m\u001b[0m\u001b[0;34m\u001b[0m\u001b[0;34m\u001b[0m\u001b[0m\n",
      "\u001b[0;31mNameError\u001b[0m: name 'j' is not defined"
     ]
    }
   ],
   "source": [
    "def f():\n",
    "    print('start f')\n",
    "    x=78\n",
    "    print(j)\n",
    "    def g():\n",
    "        x='jkh'\n",
    "        print('start g')\n",
    "        print()\n",
    "        print('end g')\n",
    "    g()\n",
    "    print('end f')\n",
    "    \n",
    "x=5\n",
    "f()\n",
    "print('finish')   \n",
    "print(j)"
   ]
  },
  {
   "cell_type": "code",
   "execution_count": 39,
   "metadata": {},
   "outputs": [
    {
     "name": "stdout",
     "output_type": "stream",
     "text": [
      "start f\n",
      "end f\n",
      "finish\n"
     ]
    }
   ],
   "source": [
    "def g():\n",
    "        x='jkh'\n",
    "        print('start g')\n",
    "        print('end g')\n",
    "        \n",
    "def f():\n",
    "    print('start f')\n",
    "    x=78\n",
    "    print('end f')\n",
    "    \n",
    "x=5\n",
    "f()\n",
    "print('finish')   \n"
   ]
  },
  {
   "cell_type": "code",
   "execution_count": 47,
   "metadata": {},
   "outputs": [
    {
     "name": "stdout",
     "output_type": "stream",
     "text": [
      "tyu\n",
      "{'x': 'ww', 'y': 34, 'z': 22}\n",
      "finish\n"
     ]
    }
   ],
   "source": [
    "def f(x, y):\n",
    "    z=22\n",
    "    print(locals())\n",
    "    \n",
    "def g(s):\n",
    "    e=12\n",
    "    \n",
    "    print(locals()['s'])\n",
    "    \n",
    "\n",
    "g('tyu')\n",
    "f('ww', 34)\n",
    "print('finish')\n"
   ]
  },
  {
   "cell_type": "code",
   "execution_count": null,
   "metadata": {},
   "outputs": [],
   "source": []
  }
 ],
 "metadata": {
  "kernelspec": {
   "display_name": "Python 3",
   "language": "python",
   "name": "python3"
  },
  "language_info": {
   "codemirror_mode": {
    "name": "ipython",
    "version": 3
   },
   "file_extension": ".py",
   "mimetype": "text/x-python",
   "name": "python",
   "nbconvert_exporter": "python",
   "pygments_lexer": "ipython3",
   "version": "3.7.6"
  }
 },
 "nbformat": 4,
 "nbformat_minor": 4
}
