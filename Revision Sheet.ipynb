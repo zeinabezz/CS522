{
 "cells": [
  {
   "cell_type": "markdown",
   "metadata": {},
   "source": [
    "# MCQ\n",
    "\n",
    "## The following code is equivalent to:"
   ]
  },
  {
   "cell_type": "code",
   "execution_count": null,
   "metadata": {},
   "outputs": [],
   "source": [
    "x=50\n",
    "if x%2==0:\n",
    "    print('even')\n",
    "else:\n",
    "    print('odd')"
   ]
  },
  {
   "cell_type": "markdown",
   "metadata": {},
   "source": [
    "(a) <br>\n",
    "x=50<br>\n",
    "print(('odd', 'even')[x%2==0])\n",
    "\n",
    "(b)<br>\n",
    "x=50 <br>\n",
    "if x%2==0 print('even')   else   print('odd')\n",
    "\n",
    "(c) <br>\n",
    "x=50 <br>\n",
    "print('even') if x%2==0    else   print('odd')\n",
    "\n",
    "(d) <br>\n",
    "x=50 <br>\n",
    "if x%2==0 print('even')   print('odd') else   \n",
    "\n",
    "(e)<br>\n",
    "a&c"
   ]
  },
  {
   "cell_type": "code",
   "execution_count": null,
   "metadata": {},
   "outputs": [],
   "source": [
    "x=[1, 2, 3, 4, 5]\n",
    "for i in range(len(x)):\n",
    "    print(x[i])"
   ]
  },
  {
   "cell_type": "markdown",
   "metadata": {},
   "source": [
    "(a)\n",
    "<br>\n",
    "x=[1, 2, 3, 4, 5]\n",
    "<br>\n",
    "for i in x:\n",
    "<br>\n",
    "$\\;\\;\\;\\;$ print(i)\n",
    "    \n",
    "(b)\n",
    "<br>\n",
    "x=[1, 2, 3, 4, 5] <br>\n",
    "for i in x:<br>\n",
    "$\\;\\;\\;\\;$    print(x)\n",
    "    \n",
    "(c)<br>\n",
    "x=[1, 2, 3, 4, 5]<br>\n",
    "for i in range(len(x)):<br>\n",
    "$\\;\\;\\;\\;$ print(i)\n",
    "    \n",
    "(d) <br>\n",
    "x=[1, 2, 3, 4, 5]\n",
    "<br>for i in range(len(x)):\n",
    "<br> $\\;\\;\\;\\;$print(x)"
   ]
  },
  {
   "cell_type": "markdown",
   "metadata": {},
   "source": [
    "## What is the output of the following:"
   ]
  },
  {
   "cell_type": "code",
   "execution_count": null,
   "metadata": {},
   "outputs": [],
   "source": [
    "a=5\n",
    "A='hello'\n",
    "a=10\n",
    "print(A)"
   ]
  },
  {
   "cell_type": "markdown",
   "metadata": {},
   "source": [
    "(a) hello \n",
    "\n",
    "(b) 10        \n",
    "\n",
    "(c) 5      \n",
    "\n",
    "(d) A"
   ]
  },
  {
   "cell_type": "code",
   "execution_count": null,
   "metadata": {},
   "outputs": [],
   "source": [
    "x=[1, 2, 3, 4, 5]\n",
    "for i in x:\n",
    "    print(i)"
   ]
  },
  {
   "cell_type": "markdown",
   "metadata": {},
   "source": [
    "(a) <br>\n",
    "1   2   3   4   5\n",
    "\n",
    "(b) <br>\n",
    "[1, 2, 3, 4, 5] <br>\n",
    "[1, 2, 3, 4, 5] <br>\n",
    "[1, 2, 3, 4, 5]<br>\n",
    "[1, 2, 3, 4, 5]<br>\n",
    "[1, 2, 3, 4 ,5]\n",
    "\n",
    "(c)<br>\n",
    "0  1  2  3  4\n",
    "\n",
    "(d) <br>\n",
    "i  i  i  i  i"
   ]
  },
  {
   "cell_type": "code",
   "execution_count": null,
   "metadata": {},
   "outputs": [],
   "source": [
    "x={'a':12, 'b':45}\n",
    "for k, v in x.items():\n",
    "    print(k, v)"
   ]
  },
  {
   "cell_type": "markdown",
   "metadata": {},
   "source": [
    "(a)\n",
    "a  12\n",
    "b  45\n",
    "\n",
    "(b) \n",
    "a\n",
    "b\n",
    "\n",
    "(c)\n",
    "12\n",
    "45\n",
    "\n",
    "(d)\n",
    "a&c"
   ]
  },
  {
   "cell_type": "code",
   "execution_count": null,
   "metadata": {},
   "outputs": [],
   "source": [
    "x={'a':12, 'b': 45}\n",
    "for k in x:\n",
    "    print(k, x[k])"
   ]
  },
  {
   "cell_type": "markdown",
   "metadata": {},
   "source": [
    "(a)<br>\n",
    "a   12<br>\n",
    "b   45\n",
    "\n",
    "(b) <br>\n",
    "a<br>\n",
    "b\n",
    "\n",
    "(c)<br>\n",
    "12  <br>\n",
    "45\n",
    "\n",
    "(d) <br>\n",
    "a&c\n"
   ]
  },
  {
   "cell_type": "code",
   "execution_count": null,
   "metadata": {},
   "outputs": [],
   "source": [
    "s={1, 2, 2, 2, 3}\n",
    "print(s)"
   ]
  },
  {
   "cell_type": "markdown",
   "metadata": {},
   "source": [
    "(a) {1, 2, 3}\n",
    "\n",
    "(b) {1, 2, 2, 2, 3}\n",
    "\n",
    "(c) {2}\n",
    "\n",
    "(d) {1, 3}"
   ]
  },
  {
   "cell_type": "code",
   "execution_count": null,
   "metadata": {},
   "outputs": [],
   "source": [
    "#print('hello')   this is a comment"
   ]
  },
  {
   "cell_type": "markdown",
   "metadata": {},
   "source": [
    "(a) hello\n",
    "\n",
    "(b) error\n",
    "\n",
    "(c) no output\n",
    "\n",
    "(d) hello this is a comment"
   ]
  },
  {
   "cell_type": "code",
   "execution_count": null,
   "metadata": {},
   "outputs": [],
   "source": [
    "def fun (*arg):\n",
    "    x=len(arg)\n",
    "    for i in range(x):\n",
    "         print(arg[i])\n",
    "fun(2, 3, 4, 5)"
   ]
  },
  {
   "cell_type": "markdown",
   "metadata": {},
   "source": [
    "(a) 4  4  4  4\n",
    "\n",
    "(b) 2  3  4  5  \n",
    "\n",
    "(c)  4\n",
    "\n",
    "(d) 0  1  2  3  "
   ]
  },
  {
   "cell_type": "code",
   "execution_count": null,
   "metadata": {},
   "outputs": [],
   "source": [
    "def fun (*arg):\n",
    "    x=len(arg)\n",
    "    print(x, type(arg))\n",
    "fun(2, 3, 4, 5)"
   ]
  },
  {
   "cell_type": "markdown",
   "metadata": {},
   "source": [
    "(a) 2  dictionary\n",
    "\n",
    "(b) 2  set\n",
    "\n",
    "(c) 4  float\n",
    "\n",
    "(c) 4  tuple"
   ]
  },
  {
   "cell_type": "code",
   "execution_count": null,
   "metadata": {},
   "outputs": [],
   "source": [
    "def fun (**arg):\n",
    "    x=len(arg)\n",
    "    print(x, type(arg))\n",
    "fun(a=2, b=3, c=4, d=5)"
   ]
  },
  {
   "cell_type": "markdown",
   "metadata": {},
   "source": [
    "(a) 0  tuple\n",
    "\n",
    "(b) 4 dictonary\n",
    "\n",
    "(c) 4 set\n",
    "\n",
    "(d) 0 list"
   ]
  },
  {
   "cell_type": "code",
   "execution_count": null,
   "metadata": {},
   "outputs": [],
   "source": [
    "def fun (a, b, c):\n",
    "    print(c)\n",
    "    print(a)\n",
    "    print(b)\n",
    "\n",
    "fun(b=23, c='hi', a=[1, 2, 3])"
   ]
  },
  {
   "cell_type": "markdown",
   "metadata": {},
   "source": [
    "(a)<br>\n",
    "23<br>\n",
    "hi<br>\n",
    "1 $\\;\\;$ 2 $\\;\\;$ 3\n",
    "\n",
    "(b)<br>\n",
    "1 $\\;\\;$2 $\\;\\;$ 3<br>\n",
    "23 <br>\n",
    "hi\n",
    "\n",
    "(c)<br>\n",
    "hi <br>\n",
    "1$\\;\\;$2$\\;\\;$3 <br>\n",
    "23\n",
    "\n",
    "(d)<br>\n",
    "23<br>\n",
    "1$\\;\\;$ 2$\\;\\;$3 <br>\n",
    "hi"
   ]
  },
  {
   "cell_type": "code",
   "execution_count": null,
   "metadata": {},
   "outputs": [],
   "source": [
    "def fun (a, b, c=34):\n",
    "    print(c)\n",
    "    print(a)\n",
    "    print(b)\n",
    "\n",
    "fun(13, 0)"
   ]
  },
  {
   "cell_type": "markdown",
   "metadata": {},
   "source": [
    "(a) 34   13  0\n",
    "\n",
    "(b) error\n",
    "\n",
    "(c) 13  0\n",
    "\n",
    "(d)  a&c"
   ]
  },
  {
   "cell_type": "code",
   "execution_count": null,
   "metadata": {},
   "outputs": [],
   "source": [
    "for i in range(3):\n",
    "    if i==1:\n",
    "        break\n",
    "    print(i)\n",
    "else:\n",
    "    print('other')"
   ]
  },
  {
   "cell_type": "markdown",
   "metadata": {},
   "source": [
    "(a) 0  other\n",
    "\n",
    "(b) 0  \n",
    "\n",
    "(c) 0  1  2 other\n",
    "\n",
    "(d) 0  1  2"
   ]
  },
  {
   "cell_type": "code",
   "execution_count": null,
   "metadata": {},
   "outputs": [],
   "source": [
    "for i in range(3):\n",
    "    if i==1:\n",
    "        continue\n",
    "    print(i)\n",
    "else:\n",
    "    print('other')"
   ]
  },
  {
   "cell_type": "markdown",
   "metadata": {},
   "source": [
    "(a) 0  2  other\n",
    "\n",
    "(b) 0  1  2  other\n",
    "\n",
    "(c) 0  2  \n",
    "\n",
    "(d)  0  1  2 "
   ]
  },
  {
   "cell_type": "code",
   "execution_count": null,
   "metadata": {},
   "outputs": [],
   "source": [
    "for i in range(3):\n",
    "    if i==1:\n",
    "        break\n",
    "    print(i)"
   ]
  },
  {
   "cell_type": "markdown",
   "metadata": {},
   "source": [
    "(a)  0\n",
    "\n",
    "(b)  0  1  \n",
    "\n",
    "(c)  0  1  2\n",
    "\n",
    "(d)  0  2"
   ]
  },
  {
   "cell_type": "code",
   "execution_count": null,
   "metadata": {},
   "outputs": [],
   "source": [
    "for i in range(3):\n",
    "    if i==1:\n",
    "        continue\n",
    "    print(i)"
   ]
  },
  {
   "cell_type": "markdown",
   "metadata": {},
   "source": [
    "(a)  0  1  2\n",
    "\n",
    "(b)  0  1\n",
    "\n",
    "(c)  0  2\n",
    "\n",
    "(d)  1  2"
   ]
  },
  {
   "cell_type": "code",
   "execution_count": null,
   "metadata": {},
   "outputs": [],
   "source": [
    "for i in range(3):\n",
    "    print(i)\n",
    "else:\n",
    "    print('other')"
   ]
  },
  {
   "cell_type": "markdown",
   "metadata": {},
   "source": [
    "(a) 0  1  2  other\n",
    "\n",
    "(b) 0  1  2\n",
    "\n",
    "(c) other\n",
    "\n",
    "(d) 3 other"
   ]
  },
  {
   "cell_type": "code",
   "execution_count": null,
   "metadata": {},
   "outputs": [],
   "source": [
    "for i in range(3):\n",
    "    print(i)"
   ]
  },
  {
   "cell_type": "markdown",
   "metadata": {},
   "source": [
    "(a) 0  1  2\n",
    "\n",
    "(b) 0  1  2  3\n",
    "\n",
    "(c) 1  2  3\n",
    "\n",
    "(d) i  i  i"
   ]
  },
  {
   "cell_type": "code",
   "execution_count": null,
   "metadata": {},
   "outputs": [],
   "source": [
    "x=lambda a, b:a+b\n",
    "print(x(1, 2))"
   ]
  },
  {
   "cell_type": "markdown",
   "metadata": {},
   "source": [
    "(a) 1\n",
    "\n",
    "(b) 2\n",
    "\n",
    "(c) 3\n",
    "\n",
    "(d) 0"
   ]
  },
  {
   "cell_type": "markdown",
   "metadata": {},
   "source": [
    "## Choose the error line number in each of the following:"
   ]
  },
  {
   "cell_type": "code",
   "execution_count": null,
   "metadata": {},
   "outputs": [],
   "source": [
    "1. class Person:\n",
    "2.     def __init__(self, a, b):\n",
    "3.         self.a=a\n",
    "4.         self.b=b\n",
    "\n",
    "5. p=Person()"
   ]
  },
  {
   "cell_type": "markdown",
   "metadata": {},
   "source": [
    "(a) line 1\n",
    "\n",
    "(b) line 3\n",
    "\n",
    "(c) line 4\n",
    "\n",
    "(d) line 5"
   ]
  },
  {
   "cell_type": "code",
   "execution_count": null,
   "metadata": {},
   "outputs": [],
   "source": [
    "1. class Person:\n",
    "2.     def __init__(self, a, b):\n",
    "3.         self.__a=a\n",
    "4.         self.__b=b\n",
    "\n",
    "5. p=Person(3, 5)\n",
    "6. print(p.__a)"
   ]
  },
  {
   "cell_type": "markdown",
   "metadata": {},
   "source": [
    "(a) line 1\n",
    "\n",
    "(b) line 2\n",
    "\n",
    "(c) line 5\n",
    "\n",
    "(d) line 6"
   ]
  },
  {
   "cell_type": "code",
   "execution_count": null,
   "metadata": {},
   "outputs": [],
   "source": [
    "1. class Person:\n",
    "2.     def __init__(self, a, b):\n",
    "3.         self.__a=a\n",
    "4.         self.__b=b\n",
    "5.     def __foo(self, x):\n",
    "6.         return self.__a + x\n",
    "\n",
    "7. p=Person(3, 5)\n",
    "8. print(p.__foo(10))"
   ]
  },
  {
   "cell_type": "markdown",
   "metadata": {},
   "source": [
    "(a) line 2\n",
    "\n",
    "(b) line 4\n",
    "\n",
    "(c) line 7\n",
    "\n",
    "(d) line 8"
   ]
  },
  {
   "cell_type": "code",
   "execution_count": null,
   "metadata": {},
   "outputs": [],
   "source": [
    "1. class Person:\n",
    "2.     def __init__(self, a, b):\n",
    "3.         self.__a=a\n",
    "4.         self.__b=b\n",
    "5.     def foo(self, x):\n",
    "6.         return self.__a + x\n",
    "\n",
    "7. p=Person(3, 5)\n",
    "8. print(Person.foo(10))"
   ]
  },
  {
   "cell_type": "markdown",
   "metadata": {},
   "source": [
    "(a) line 2\n",
    "\n",
    "(b) line 4\n",
    "\n",
    "(c) line 6\n",
    "\n",
    "(d) line 8"
   ]
  },
  {
   "cell_type": "code",
   "execution_count": null,
   "metadata": {},
   "outputs": [],
   "source": [
    "1. class Person:\n",
    "2.     def __init__(self, a, b):\n",
    "3.         self.__a=a\n",
    "4.         self.__b=b\n",
    "5.     def foo(x):\n",
    "6.         return self.__a + x\n",
    "\n",
    "7. p=Person(3, 5)\n",
    "8. print(Person.foo(10))"
   ]
  },
  {
   "cell_type": "markdown",
   "metadata": {},
   "source": [
    "(a)  line 2\n",
    "\n",
    "(b) line 4\n",
    "\n",
    "(c) line 6\n",
    "\n",
    "(d) line 7"
   ]
  },
  {
   "cell_type": "code",
   "execution_count": null,
   "metadata": {},
   "outputs": [],
   "source": [
    "1. class Person:\n",
    "2.     def __init__(self, a, b):\n",
    "3.         self.__a=a\n",
    "4.         self.__b=b\n",
    "5.     def foo(x):\n",
    "6.         return  x**2\n",
    "\n",
    "7. x=Person(3, 5)\n",
    "8. print(x.foo(10))"
   ]
  },
  {
   "cell_type": "markdown",
   "metadata": {},
   "source": [
    "(a) line 2\n",
    "\n",
    "(b) line 4\n",
    "\n",
    "(c) line 6\n",
    "\n",
    "(d) line 8"
   ]
  },
  {
   "cell_type": "code",
   "execution_count": null,
   "metadata": {},
   "outputs": [],
   "source": [
    "1. class Person:\n",
    "2.     def __init__(self, a, b):\n",
    "3.         self.__a=a\n",
    "4.         self.__b=b\n",
    "5.     def foo(x):\n",
    "6.         return  x**2\n",
    "7.  class Employee(Person):\n",
    "8.      pass\n",
    "\n",
    "9. a=Employee()"
   ]
  },
  {
   "cell_type": "markdown",
   "metadata": {},
   "source": [
    "(a) line 3\n",
    "\n",
    "(b) line 5\n",
    "\n",
    "(c) line 6\n",
    "\n",
    "(d) line 9"
   ]
  },
  {
   "cell_type": "code",
   "execution_count": 58,
   "metadata": {},
   "outputs": [],
   "source": [
    "1. class Person:\n",
    "2.     def __init__(self, a, b):\n",
    "3.         self.__a=a\n",
    "4.         self.__b=b\n",
    "5.     def foo(x):\n",
    "6.         return  x**2\n",
    "7.  class Employee(Person):\n",
    "8.      def __init__(self, x, y, z):\n",
    "9.          super().__init__(x, y)\n",
    "10.         self.__z=z\n",
    "\n",
    "11. a=Employee(1, 2)"
   ]
  },
  {
   "cell_type": "markdown",
   "metadata": {},
   "source": [
    "(a) line 2\n",
    "\n",
    "(b) line 5\n",
    "\n",
    "(c) line 7\n",
    "\n",
    "(d) line 11"
   ]
  },
  {
   "cell_type": "markdown",
   "metadata": {},
   "source": [
    "## What is the output of the following:"
   ]
  },
  {
   "cell_type": "code",
   "execution_count": null,
   "metadata": {},
   "outputs": [],
   "source": [
    "class Person:\n",
    "    def __init__(self, a, b):\n",
    "        self.__a=a\n",
    "        self.__b=b\n",
    "    def foo(self, x):\n",
    "        print(self.__a + x)\n",
    "class Employee(Person):\n",
    "     def foo(self, x):\n",
    "        super().foo(x)\n",
    "        print(x**2)\n",
    "\n",
    "x=Employee(23, 12)\n",
    "x.foo(5)"
   ]
  },
  {
   "cell_type": "markdown",
   "metadata": {},
   "source": [
    "(a) 28  25\n",
    "\n",
    "(b) 28\n",
    "\n",
    "(c) 25\n",
    "\n",
    "(d) no output\n"
   ]
  },
  {
   "cell_type": "code",
   "execution_count": null,
   "metadata": {},
   "outputs": [],
   "source": [
    "class Person:\n",
    "    def __init__(self, a, b):\n",
    "        self.__a=a\n",
    "        self.__b=b\n",
    "    def _foo(self, x):\n",
    "        print(self.__a + x)\n",
    "class Employee(Person):\n",
    "     def _foo(self, x):\n",
    "        super()._foo(x)\n",
    "        print(x**2)\n",
    "\n",
    "x=Employee(23, 12)\n",
    "x._foo(5)"
   ]
  },
  {
   "cell_type": "markdown",
   "metadata": {},
   "source": [
    "(a) 28  25\n",
    "\n",
    "(b) 28\n",
    "\n",
    "(c) 25\n",
    "\n",
    "(d) error"
   ]
  },
  {
   "cell_type": "code",
   "execution_count": null,
   "metadata": {},
   "outputs": [],
   "source": [
    "class Person:\n",
    "    def __init__(self, a, b):\n",
    "        self.__a=a\n",
    "        self.__b=b\n",
    "    def __foo(self, x):\n",
    "        print(self.__a + x)\n",
    "class Employee(Person):\n",
    "     def __foo(self, x):\n",
    "        super().__foo(x)\n",
    "        print(x**2)\n",
    "\n",
    "x=Employee(23, 12)\n",
    "x.__foo(5)"
   ]
  },
  {
   "cell_type": "markdown",
   "metadata": {},
   "source": [
    "(a) 28  25\n",
    "\n",
    "(b) 28\n",
    "\n",
    "(c) 25\n",
    "\n",
    "(d) error"
   ]
  },
  {
   "cell_type": "code",
   "execution_count": null,
   "metadata": {},
   "outputs": [],
   "source": [
    "class A:\n",
    "    def foo(self, x):\n",
    "        print(x**2)\n",
    "class B(A):\n",
    "    pass\n",
    "class C(B):\n",
    "    pass\n",
    "\n",
    "m=C()\n",
    "m.foo(5)"
   ]
  },
  {
   "cell_type": "markdown",
   "metadata": {},
   "source": [
    "(a) 25\n",
    "\n",
    "(b) 5\n",
    "\n",
    "(c) no output\n",
    "\n",
    "(d) error"
   ]
  },
  {
   "cell_type": "code",
   "execution_count": null,
   "metadata": {},
   "outputs": [],
   "source": [
    "class A:\n",
    "    def __init__(self, x):\n",
    "        self.__x=x\n",
    "\n",
    "class B:\n",
    "    def __init__(self, a, b):\n",
    "        self.__a=a\n",
    "        self.__b=b\n",
    "        \n",
    "class C(B, A):\n",
    "    pass\n",
    "\n",
    "m=C(3, 4, 5)"
   ]
  },
  {
   "cell_type": "markdown",
   "metadata": {},
   "source": [
    "(a) error\n",
    "\n",
    "(b)  3\n",
    "\n",
    "(c)  4\n",
    "\n",
    "(d)  5"
   ]
  },
  {
   "cell_type": "code",
   "execution_count": null,
   "metadata": {},
   "outputs": [],
   "source": [
    "x=[1, 2, 3]\n",
    "y=x\n",
    "if(id(y)==id(x)):\n",
    "    print('same')\n",
    "else:\n",
    "    print('different')"
   ]
  },
  {
   "cell_type": "markdown",
   "metadata": {},
   "source": [
    "(a) same\n",
    "\n",
    "(b) different\n",
    "\n",
    "(c) 123345432\n",
    "\n",
    "(d) error"
   ]
  },
  {
   "cell_type": "code",
   "execution_count": null,
   "metadata": {},
   "outputs": [],
   "source": [
    "x=[1, 2, 3]\n",
    "y=x[:]\n",
    "if(id(y)==id(x)):\n",
    "    print('same')\n",
    "else:\n",
    "    print('different')"
   ]
  },
  {
   "cell_type": "markdown",
   "metadata": {},
   "source": [
    "(a) same\n",
    "\n",
    "(b) different\n",
    "\n",
    "(c) 123345432\n",
    "\n",
    "(d) error"
   ]
  },
  {
   "cell_type": "code",
   "execution_count": null,
   "metadata": {},
   "outputs": [],
   "source": []
  }
 ],
 "metadata": {
  "kernelspec": {
   "display_name": "Python 3",
   "language": "python",
   "name": "python3"
  },
  "language_info": {
   "codemirror_mode": {
    "name": "ipython",
    "version": 3
   },
   "file_extension": ".py",
   "mimetype": "text/x-python",
   "name": "python",
   "nbconvert_exporter": "python",
   "pygments_lexer": "ipython3",
   "version": "3.7.6"
  }
 },
 "nbformat": 4,
 "nbformat_minor": 4
}
