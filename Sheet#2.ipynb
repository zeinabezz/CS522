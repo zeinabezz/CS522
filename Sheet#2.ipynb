{
 "cells": [
  {
   "cell_type": "code",
   "execution_count": 1,
   "metadata": {},
   "outputs": [
    {
     "name": "stdout",
     "output_type": "stream",
     "text": [
      "a>50 & a!=b\n"
     ]
    }
   ],
   "source": [
    "a=500\n",
    "b=300\n",
    "if a==b:\n",
    "    print('a=b')\n",
    "elif a>50:\n",
    "    print('a>50 & a!=b')\n",
    "else:\n",
    "    print('a>=50 & a!=b')"
   ]
  },
  {
   "cell_type": "code",
   "execution_count": 2,
   "metadata": {},
   "outputs": [
    {
     "name": "stdout",
     "output_type": "stream",
     "text": [
      "a>50 & a!=b\n"
     ]
    }
   ],
   "source": [
    "a=500\n",
    "b=300\n",
    "print('a=b')if a==b else print('a>50 & a!=b')if a>50 else print('a>=50 & a!=b')"
   ]
  },
  {
   "cell_type": "code",
   "execution_count": 3,
   "metadata": {},
   "outputs": [
    {
     "name": "stdout",
     "output_type": "stream",
     "text": [
      "i is less than 15\n"
     ]
    }
   ],
   "source": [
    "i=10\n",
    "if i<15:\n",
    "    print('i is less than 15')"
   ]
  },
  {
   "cell_type": "code",
   "execution_count": 4,
   "metadata": {},
   "outputs": [
    {
     "name": "stdout",
     "output_type": "stream",
     "text": [
      "i is less than 15\n"
     ]
    }
   ],
   "source": [
    "i=10\n",
    "if i<15: print('i is less than 15')"
   ]
  },
  {
   "cell_type": "code",
   "execution_count": 6,
   "metadata": {},
   "outputs": [
    {
     "name": "stdout",
     "output_type": "stream",
     "text": [
      "i is greater than or equals to 15\n"
     ]
    }
   ],
   "source": [
    "i=100\n",
    "if i<15:\n",
    "    print('i is less than 15')\n",
    "else: \n",
    "    print('i is greater than or equals to 15')"
   ]
  },
  {
   "cell_type": "code",
   "execution_count": 7,
   "metadata": {},
   "outputs": [
    {
     "name": "stdout",
     "output_type": "stream",
     "text": [
      "i is greater than or equals to 15\n"
     ]
    }
   ],
   "source": [
    "i=100\n",
    "print('i is less than 15') if i<15 else print('i is greater than or equals to 15')"
   ]
  },
  {
   "cell_type": "code",
   "execution_count": 8,
   "metadata": {},
   "outputs": [
    {
     "name": "stdout",
     "output_type": "stream",
     "text": [
      "i is greater than 15\n"
     ]
    }
   ],
   "source": [
    "i=100\n",
    "if i<15:\n",
    "    print('i is less than 15')\n",
    "elif i>15:\n",
    "    print('i is greater than 15')\n",
    "else: \n",
    "    print('i is equals to 15')"
   ]
  },
  {
   "cell_type": "code",
   "execution_count": 11,
   "metadata": {},
   "outputs": [
    {
     "name": "stdout",
     "output_type": "stream",
     "text": [
      "[1, 2, 3, 4, 5]\n"
     ]
    }
   ],
   "source": [
    "x=[1, 2, 3, 4, 5]\n",
    "y=[]\n",
    "for i in range(len(x)):\n",
    "    y[i:]=[x[i]]\n",
    "print(y)"
   ]
  },
  {
   "cell_type": "code",
   "execution_count": 13,
   "metadata": {},
   "outputs": [
    {
     "name": "stdout",
     "output_type": "stream",
     "text": [
      "[1, 2, 3, 4, 5]\n"
     ]
    }
   ],
   "source": [
    "x=[1, 2, 3, 4, 5]\n",
    "z=[ x[i] for i in range(len(x))]\n",
    "print(z)"
   ]
  },
  {
   "cell_type": "code",
   "execution_count": 14,
   "metadata": {},
   "outputs": [
    {
     "name": "stdout",
     "output_type": "stream",
     "text": [
      "[(1, 'a'), (2, 'b'), (3, 'c'), (4, 'd'), (5, 'e')]\n"
     ]
    }
   ],
   "source": [
    "x=[1, 2, 3, 4, 5, ]\n",
    "y=['a', 'b', 'c', 'd', 'e']\n",
    "z=[]\n",
    "for i in range(len(x)):\n",
    "    for j in range(len(y)):\n",
    "        if i==j:\n",
    "            z[i:]=[(x[i], y[i])]\n",
    "print(z)"
   ]
  },
  {
   "cell_type": "code",
   "execution_count": 23,
   "metadata": {},
   "outputs": [
    {
     "name": "stdout",
     "output_type": "stream",
     "text": [
      "[(1, 'a'), (2, 'b'), (3, 'c'), (4, 'd'), (5, 'e')]\n"
     ]
    }
   ],
   "source": [
    "x=[1, 2, 3, 4, 5, ]\n",
    "y=['a', 'b', 'c', 'd', 'e']\n",
    "\n",
    "z=[ (x[i], y[i])  for i in range(len(x)) for j in range(len(y)) if i==j ]\n",
    "\n",
    "print(z)"
   ]
  },
  {
   "cell_type": "code",
   "execution_count": 24,
   "metadata": {},
   "outputs": [
    {
     "name": "stdout",
     "output_type": "stream",
     "text": [
      "[(1, 'a'), ('b', 1), ('a', 2), (2, 'b'), ('a', 3), ('b', 3)]\n"
     ]
    }
   ],
   "source": [
    "x=[1, 2, 3]\n",
    "y=['a', 'b']\n",
    "z=[]\n",
    "k=0\n",
    "for i in range(len(x)):\n",
    "    for j in range(len(y)):\n",
    "        if i==j:\n",
    "            z[k:]=[(x[i], y[j])]\n",
    "        else:\n",
    "            z[k:]=[(y[j], x[i])]\n",
    "        k=k+1\n",
    "print(z)"
   ]
  },
  {
   "cell_type": "code",
   "execution_count": 27,
   "metadata": {},
   "outputs": [
    {
     "name": "stdout",
     "output_type": "stream",
     "text": [
      "[(1, 'a'), ('b', 1), ('a', 2), (2, 'b'), ('a', 3), ('b', 3)]\n"
     ]
    }
   ],
   "source": [
    "x=[1, 2, 3]\n",
    "y=['a', 'b']\n",
    "k=0\n",
    "[(x[i], y[j]) if i==j else (y[j], x[i]) for i in range(len(x)) for j in range(len(y))]\n",
    "print(z)"
   ]
  },
  {
   "cell_type": "code",
   "execution_count": 28,
   "metadata": {},
   "outputs": [
    {
     "name": "stdout",
     "output_type": "stream",
     "text": [
      "[(1, 'a'), ('b', 1), ('a', 2), (2, 'b'), (2, 2), (2, 2)]\n"
     ]
    }
   ],
   "source": [
    "x=[1, 2, 3]\n",
    "y=['a', 'b']\n",
    "z=[]\n",
    "k=0\n",
    "for i in range(len(x)):\n",
    "    for j in range(len(y)):\n",
    "        if i==j:\n",
    "            z[k:]=[(x[i], y[j])]\n",
    "        elif i==2:\n",
    "            z[k:]=[(2, 2)]\n",
    "        else:\n",
    "            z[k:]=[(y[j], x[i])]\n",
    "        k=k+1\n",
    "print(z)"
   ]
  },
  {
   "cell_type": "code",
   "execution_count": 29,
   "metadata": {},
   "outputs": [
    {
     "name": "stdout",
     "output_type": "stream",
     "text": [
      "[(1, 'a'), ('b', 1), ('a', 2), (2, 'b'), (2, 2), (2, 2)]\n"
     ]
    }
   ],
   "source": [
    "x=[1, 2, 3]\n",
    "y=['a', 'b']\n",
    "z=[(x[i], y[j]) if i==j else (2, 2) if i==2 else (y[j], x[i]) for i in range(len(x)) for j in range(len(y))]\n",
    "\n",
    "print(z)"
   ]
  },
  {
   "cell_type": "code",
   "execution_count": 30,
   "metadata": {},
   "outputs": [
    {
     "name": "stdout",
     "output_type": "stream",
     "text": [
      "[1, 2, 3, 4, 5]\n"
     ]
    }
   ],
   "source": [
    "x=[1, 2, 3, 4, 5]\n",
    "y=[x[i] for i in range(len(x))]\n",
    "print(y)"
   ]
  },
  {
   "cell_type": "code",
   "execution_count": 36,
   "metadata": {},
   "outputs": [
    {
     "name": "stdout",
     "output_type": "stream",
     "text": [
      "[1, 2, 3, 4, 5]\n"
     ]
    }
   ],
   "source": [
    "x=[1, 2, 3, 4, 5]\n",
    "y=[]\n",
    "for i in range(len(x)):\n",
    "    y[i:]=[x[i]]\n",
    "print(y)"
   ]
  },
  {
   "cell_type": "code",
   "execution_count": 37,
   "metadata": {},
   "outputs": [
    {
     "name": "stdout",
     "output_type": "stream",
     "text": [
      "[(1, 'a'), (2, 'b')]\n"
     ]
    }
   ],
   "source": [
    "x=[1, 2, 3]\n",
    "y=['a', 'b']\n",
    "z=[(x[i], y[j]) for i in range(len(x)) for j in range (len(y)) if i==j]\n",
    "print(z)\n"
   ]
  },
  {
   "cell_type": "code",
   "execution_count": 39,
   "metadata": {},
   "outputs": [
    {
     "name": "stdout",
     "output_type": "stream",
     "text": [
      "[(1, 'a'), (2, 'b')]\n"
     ]
    }
   ],
   "source": [
    "x=[1, 2, 3]\n",
    "y=['a', 'b']\n",
    "z=[]\n",
    "k=0\n",
    "for i in range(len(x)):\n",
    "    for j in range (len(y)):\n",
    "        if i==j:\n",
    "            z[k:]=[(x[i], y[j])]\n",
    "            k=k+1\n",
    "\n",
    "print(z)\n"
   ]
  },
  {
   "cell_type": "code",
   "execution_count": 40,
   "metadata": {},
   "outputs": [
    {
     "name": "stdout",
     "output_type": "stream",
     "text": [
      "even\n"
     ]
    }
   ],
   "source": [
    "x=34\n",
    "s=('odd', 'even')[x%2==0]\n",
    "print(s)"
   ]
  },
  {
   "cell_type": "code",
   "execution_count": 5,
   "metadata": {},
   "outputs": [
    {
     "name": "stdout",
     "output_type": "stream",
     "text": [
      "main program: before foo\n",
      "x value is: 10 \n",
      "y value is: 20\n",
      "foo function STARTS\n",
      "x value is: 10 \n",
      "y value is: 20\n",
      "\n",
      "x value is: 20 \n",
      "y value is: 200\n",
      "foo function ENDS\n",
      "main program: after foo\n",
      "x value is: 10 \n",
      "y value is: 20\n"
     ]
    }
   ],
   "source": [
    "def foo(x, y):\n",
    "    print('foo function STARTS\\nx value is:', x,'\\ny value is:',y)\n",
    "    x=x*2\n",
    "    y=y*10\n",
    "    print('\\nx value is:', x,'\\ny value is:',y)\n",
    "    print('foo function ENDS')\n",
    "    return \n",
    "x, y=10, 20\n",
    "print('main program: before foo\\nx value is:', x,'\\ny value is:',y)\n",
    "foo(x, y)\n",
    "print('main program: after foo\\nx value is:', x,'\\ny value is:',y)\n"
   ]
  },
  {
   "cell_type": "code",
   "execution_count": 6,
   "metadata": {},
   "outputs": [
    {
     "name": "stdout",
     "output_type": "stream",
     "text": [
      "main program: before foo\n",
      "x value is: 10 \n",
      "y value is: 20\n",
      "foo function STARTS\n",
      "x value is: 20 \n",
      "y value is: 10\n",
      "\n",
      "x value is: 40 \n",
      "y value is: 100\n",
      "foo function ENDS\n",
      "main program: after foo\n",
      "x value is: 10 \n",
      "y value is: 20\n"
     ]
    }
   ],
   "source": [
    "def foo(x, y):\n",
    "    print('foo function STARTS\\nx value is:', x,'\\ny value is:',y)\n",
    "    x=x*2\n",
    "    y=y*10\n",
    "    print('\\nx value is:', x,'\\ny value is:',y)\n",
    "    print('foo function ENDS')\n",
    "    return \n",
    "x, y=10, 20\n",
    "print('main program: before foo\\nx value is:', x,'\\ny value is:',y)\n",
    "foo(y, x)\n",
    "print('main program: after foo\\nx value is:', x,'\\ny value is:',y)"
   ]
  },
  {
   "cell_type": "code",
   "execution_count": 9,
   "metadata": {},
   "outputs": [
    {
     "name": "stdout",
     "output_type": "stream",
     "text": [
      "main program: before foo\n",
      "x value is: [1, 2, 3] \n",
      "y value is: [10, 20, 30]\n",
      "foo function STARTS\n",
      "x value is: [1, 2, 3] \n",
      "y value is: [10, 20, 30]\n",
      "\n",
      "x value is: [2, 4, 6] \n",
      "y value is: [14, 16, 17]\n",
      "foo function ENDS\n",
      "main program: after foo\n",
      "x value is: [2, 4, 6] \n",
      "y value is: [10, 20, 30]\n"
     ]
    }
   ],
   "source": [
    "def foo(x, y):\n",
    "    print('foo function STARTS\\nx value is:', x,'\\ny value is:',y)\n",
    "    for i in range(len(x)):\n",
    "        x[i]=x[i]*2\n",
    "    y=[14, 16, 17]\n",
    "    #y=y*10\n",
    "    print('\\nx value is:', x,'\\ny value is:',y)\n",
    "    print('foo function ENDS')\n",
    "     \n",
    "x=[1, 2, 3]\n",
    "y=[10, 20, 30]\n",
    "print('main program: before foo\\nx value is:', x,'\\ny value is:',y)\n",
    "foo(x, y)\n",
    "print('main program: after foo\\nx value is:', x,'\\ny value is:',y)\n"
   ]
  },
  {
   "cell_type": "code",
   "execution_count": 11,
   "metadata": {},
   "outputs": [
    {
     "name": "stdout",
     "output_type": "stream",
     "text": [
      "main program:\n",
      "x value is: [1, 2, 3] \n",
      "y value is: [10, 20, 30]\n",
      "z & x refer to the same object\n",
      "w& x refer to diferent object\n"
     ]
    }
   ],
   "source": [
    "\n",
    "x=[1, 2, 3]\n",
    "y=[10, 20, 30]\n",
    "print('main program:\\nx value is:', x,'\\ny value is:',y)\n",
    "z=x\n",
    "print(('x&z refer to different object', 'z & x refer to the same object')[id(z)==id(x)])\n",
    "w=x[:]\n",
    "print(('w& x refer to diferent object', 'w&x refer to the same object')[id(w)==id(x)])\n"
   ]
  },
  {
   "cell_type": "code",
   "execution_count": 13,
   "metadata": {},
   "outputs": [
    {
     "name": "stdout",
     "output_type": "stream",
     "text": [
      "99\n"
     ]
    }
   ],
   "source": [
    "def equation (a, b, c):\n",
    "    return a+b+c*2\n",
    "x, y, z= 10, 25, 39\n",
    "print(equation(z, x, y))"
   ]
  },
  {
   "cell_type": "code",
   "execution_count": 27,
   "metadata": {},
   "outputs": [
    {
     "name": "stdout",
     "output_type": "stream",
     "text": [
      "<class 'tuple'>\n",
      "12\n",
      "\n",
      "\n",
      "\n",
      "<class 'tuple'>\n",
      "12\n",
      "34\n",
      "\n",
      "\n",
      "\n",
      "<class 'tuple'>\n",
      "45\n",
      "68\n",
      "[67, 45, '45']\n",
      "\n",
      "\n",
      "\n",
      "<class 'tuple'>\n",
      "(2, 4, 7, 'g')\n",
      "67\n",
      "\n",
      "\n",
      "\n",
      "<class 'tuple'>\n",
      "hello\n",
      "{'34', 12}\n",
      "\n",
      "\n",
      "\n",
      "<class 'tuple'>\n",
      "{'a': 2, 'f': 67}\n",
      "567\n",
      "fgh\n",
      "\n",
      "\n",
      "\n"
     ]
    }
   ],
   "source": [
    "def foo(*t):\n",
    "    print(type(t))\n",
    "    for i in range(len(t)):\n",
    "        print(t[i])\n",
    "    print('\\n\\n')\n",
    "    #t[0]=12\n",
    "foo(12)\n",
    "foo(12, '34')\n",
    "foo(45, 68, [67,45,'45'])\n",
    "foo((2,4,7,'g'), 67)\n",
    "foo('hello', {12, '34'})\n",
    "foo({'a':2, 'f':67}, 567, 'fgh')"
   ]
  },
  {
   "cell_type": "code",
   "execution_count": 23,
   "metadata": {},
   "outputs": [
    {
     "name": "stdout",
     "output_type": "stream",
     "text": [
      "my name is:  Ahmed\n",
      "i am:  20 years old\n",
      "I live in:  Giza\n",
      "\n",
      "\n",
      "my name is:  Ahmed\n",
      "i am:  20 years old\n",
      "I live in:  Giza\n",
      "\n",
      "\n"
     ]
    }
   ],
   "source": [
    "def foo(name, age, add):\n",
    "    print('my name is: ', name)\n",
    "    print('i am: ',age, 'years old')\n",
    "    print('I live in: ', add)\n",
    "    print('\\n')\n",
    "myname, myaddress, myage= 'Ahmed', 'Giza', 20\n",
    "foo(myname, myage, myaddress)\n",
    "foo(add=myaddress, name=myname, age=myage)\n"
   ]
  },
  {
   "cell_type": "code",
   "execution_count": 26,
   "metadata": {},
   "outputs": [
    {
     "name": "stdout",
     "output_type": "stream",
     "text": [
      "my name is:  Ahmed\n",
      "i am:  20 years old\n",
      "I live in:  Cairo\n",
      "\n",
      "\n",
      "my name is:  Ahmed\n",
      "i am:  20 years old\n",
      "I live in:  Giza\n",
      "\n",
      "\n",
      "my name is:  Ahmed\n",
      "i am:  20 years old\n",
      "I live in:  Cairo\n",
      "\n",
      "\n",
      "my name is:  Ahmed\n",
      "i am:  20 years old\n",
      "I live in:  Giza\n",
      "\n",
      "\n"
     ]
    }
   ],
   "source": [
    "def foo(name, age, add='Giza'):\n",
    "    print('my name is: ', name)\n",
    "    print('i am: ',age, 'years old')\n",
    "    print('I live in: ', add)\n",
    "    print('\\n')\n",
    "myname, myaddress, myage= 'Ahmed', 'Cairo', 20\n",
    "foo(myname, myage, myaddress)\n",
    "foo(myname, myage)\n",
    "foo(add=myaddress, name=myname, age=myage)\n",
    "foo(name=myname, age=myage)\n"
   ]
  },
  {
   "cell_type": "code",
   "execution_count": 41,
   "metadata": {},
   "outputs": [
    {
     "name": "stdout",
     "output_type": "stream",
     "text": [
      "<class 'dict'>\n",
      "a : 34\n",
      "\n",
      "\n",
      "\n",
      "<class 'dict'>\n",
      "a : 34\n",
      "d : 56\n",
      "\n",
      "\n",
      "\n",
      "<class 'dict'>\n",
      "a : 34\n",
      "d : 56\n",
      "t : 67\n",
      "\n",
      "\n",
      "\n",
      "<class 'dict'>\n",
      "a : 45\n",
      "f : 67\n",
      "y : 89\n",
      "\n",
      "\n",
      "\n"
     ]
    }
   ],
   "source": [
    "def foo(**t):\n",
    "    print(type(t))\n",
    "    for i, j in t.items():\n",
    "        print(i, ':',j)\n",
    "    print('\\n\\n')\n",
    "    #t[0]=12\n",
    "foo(a=34)\n",
    "foo(a=34, d=56)\n",
    "foo(a=34, d=56, t=67)\n",
    "x={'a':45, 'f':67, 'y':89}\n",
    "foo(**x)"
   ]
  },
  {
   "cell_type": "code",
   "execution_count": 40,
   "metadata": {},
   "outputs": [
    {
     "name": "stdout",
     "output_type": "stream",
     "text": [
      "I study:  ['CS522']\n",
      "\n",
      "\n",
      "I study:  ['CS522', 'CS602']\n",
      "\n",
      "\n",
      "I study:  ['CS522', 'CS602', 'CS505']\n",
      "\n",
      "\n"
     ]
    }
   ],
   "source": [
    "def foo(currentcourses, courses=[]):\n",
    "    courses.append(currentcourses)\n",
    "    print('I study: ', courses)\n",
    "    print('\\n')\n",
    "foo('CS522')\n",
    "foo('CS602')\n",
    "foo(currentcourses='CS505')\n"
   ]
  },
  {
   "cell_type": "code",
   "execution_count": 44,
   "metadata": {},
   "outputs": [
    {
     "data": {
      "text/plain": [
       "32"
      ]
     },
     "execution_count": 44,
     "metadata": {},
     "output_type": "execute_result"
    }
   ],
   "source": [
    "def powers(num, pown):\n",
    "    if pown==1:\n",
    "        return num\n",
    "    return num *powers(num, pown-1)\n",
    "powers(2, 5)"
   ]
  },
  {
   "cell_type": "code",
   "execution_count": null,
   "metadata": {},
   "outputs": [],
   "source": []
  }
 ],
 "metadata": {
  "kernelspec": {
   "display_name": "Python 3",
   "language": "python",
   "name": "python3"
  },
  "language_info": {
   "codemirror_mode": {
    "name": "ipython",
    "version": 3
   },
   "file_extension": ".py",
   "mimetype": "text/x-python",
   "name": "python",
   "nbconvert_exporter": "python",
   "pygments_lexer": "ipython3",
   "version": "3.7.6"
  }
 },
 "nbformat": 4,
 "nbformat_minor": 4
}
