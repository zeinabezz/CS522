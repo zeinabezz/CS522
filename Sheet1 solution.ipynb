{
 "cells": [
  {
   "cell_type": "code",
   "execution_count": 5,
   "metadata": {},
   "outputs": [
    {
     "name": "stdin",
     "output_type": "stream",
     "text": [
      "enter a letter: e\n"
     ]
    },
    {
     "name": "stdout",
     "output_type": "stream",
     "text": [
      "vowel letter\n"
     ]
    }
   ],
   "source": [
    "#Question 1\n",
    "alpha=input('enter a letter:')\n",
    "print('vowel letter') if alpha=='a'or alpha=='o' or alpha=='i' or alpha =='e' or alpha=='u' else  print('consonant')"
   ]
  },
  {
   "cell_type": "code",
   "execution_count": 7,
   "metadata": {},
   "outputs": [
    {
     "name": "stdin",
     "output_type": "stream",
     "text": [
      "enter a letter: r\n"
     ]
    },
    {
     "name": "stdout",
     "output_type": "stream",
     "text": [
      "consonant\n"
     ]
    }
   ],
   "source": [
    "#Question1\n",
    "alpha=input('enter a letter:')\n",
    "vowel=['a', 'i', 'o', 'u', 'e']\n",
    "if alpha in vowel:\n",
    "    print('vowel')\n",
    "else:\n",
    "    print('consonant')"
   ]
  },
  {
   "cell_type": "code",
   "execution_count": 8,
   "metadata": {},
   "outputs": [
    {
     "name": "stdin",
     "output_type": "stream",
     "text": [
      "enter a letter: e\n"
     ]
    },
    {
     "name": "stdout",
     "output_type": "stream",
     "text": [
      "vowel\n"
     ]
    }
   ],
   "source": [
    "#question 1\n",
    "alpha=input('enter a letter:')\n",
    "vowel=['a', 'i', 'o', 'u', 'e']\n",
    "print('vowel') if alpha in vowel else print('consonant')"
   ]
  },
  {
   "cell_type": "code",
   "execution_count": 14,
   "metadata": {},
   "outputs": [
    {
     "name": "stdin",
     "output_type": "stream",
     "text": [
      "enter a number 34\n"
     ]
    },
    {
     "name": "stdout",
     "output_type": "stream",
     "text": [
      "even\n"
     ]
    }
   ],
   "source": [
    "#Question2\n",
    "num=input('enter a number')\n",
    "if num.isdigit():\n",
    "   num=int(num)\n",
    "   if num%2==0:\n",
    "      print('even')\n",
    "   else:\n",
    "      print('odd')\n",
    "else:\n",
    "    print('ERROR!!')"
   ]
  },
  {
   "cell_type": "code",
   "execution_count": 15,
   "metadata": {},
   "outputs": [
    {
     "name": "stdin",
     "output_type": "stream",
     "text": [
      "enter a number er\n"
     ]
    },
    {
     "name": "stdout",
     "output_type": "stream",
     "text": [
      "ERRORR!!!!\n"
     ]
    },
    {
     "name": "stdin",
     "output_type": "stream",
     "text": [
      "enter a number fgh\n"
     ]
    },
    {
     "name": "stdout",
     "output_type": "stream",
     "text": [
      "ERRORR!!!!\n"
     ]
    },
    {
     "name": "stdin",
     "output_type": "stream",
     "text": [
      "enter a number fg\n"
     ]
    },
    {
     "name": "stdout",
     "output_type": "stream",
     "text": [
      "ERRORR!!!!\n"
     ]
    },
    {
     "name": "stdin",
     "output_type": "stream",
     "text": [
      "enter a number xfddg\n"
     ]
    },
    {
     "name": "stdout",
     "output_type": "stream",
     "text": [
      "ERRORR!!!!\n"
     ]
    },
    {
     "name": "stdin",
     "output_type": "stream",
     "text": [
      "enter a number g\n"
     ]
    },
    {
     "name": "stdout",
     "output_type": "stream",
     "text": [
      "ERRORR!!!!\n"
     ]
    },
    {
     "name": "stdin",
     "output_type": "stream",
     "text": [
      "enter a number rty\n"
     ]
    },
    {
     "name": "stdout",
     "output_type": "stream",
     "text": [
      "ERRORR!!!!\n"
     ]
    },
    {
     "name": "stdin",
     "output_type": "stream",
     "text": [
      "enter a number rt54\n"
     ]
    },
    {
     "name": "stdout",
     "output_type": "stream",
     "text": [
      "ERRORR!!!!\n"
     ]
    },
    {
     "name": "stdin",
     "output_type": "stream",
     "text": [
      "enter a number 4rt\n"
     ]
    },
    {
     "name": "stdout",
     "output_type": "stream",
     "text": [
      "ERRORR!!!!\n"
     ]
    },
    {
     "name": "stdin",
     "output_type": "stream",
     "text": [
      "enter a number 45\n"
     ]
    },
    {
     "name": "stdout",
     "output_type": "stream",
     "text": [
      "odd\n"
     ]
    }
   ],
   "source": [
    "#Question2\n",
    "num=input('enter a number')\n",
    "while(not(num.isdigit())):\n",
    "    print('ERRORR!!!!')\n",
    "    num=input('enter a number')\n",
    "     \n",
    "num=int(num)\n",
    "if num%2==0:\n",
    "     print('even')\n",
    "else:\n",
    "     print('odd')"
   ]
  },
  {
   "cell_type": "code",
   "execution_count": 30,
   "metadata": {},
   "outputs": [
    {
     "name": "stdin",
     "output_type": "stream",
     "text": [
      "enter a charcter:  2sdfZ#\n"
     ]
    },
    {
     "name": "stdout",
     "output_type": "stream",
     "text": [
      "digit\n"
     ]
    }
   ],
   "source": [
    "#Question 3\n",
    "ch=input('enter a charcter: ')\n",
    "if 'z'>=ch>='a':\n",
    "    print('small letter')\n",
    "elif ch>='A' and ch<='Z':\n",
    "    print('Capital letter')\n",
    "elif ch>='0' and ch<='9':\n",
    "    print('digit')\n",
    "elif ch in ['#', '$', '!', '%']:\n",
    "    print('special character')\n",
    "else:\n",
    "    print('OTHER')"
   ]
  },
  {
   "cell_type": "code",
   "execution_count": 34,
   "metadata": {},
   "outputs": [
    {
     "name": "stdin",
     "output_type": "stream",
     "text": [
      "enter a charcter:  w3re\n"
     ]
    },
    {
     "name": "stdout",
     "output_type": "stream",
     "text": [
      "w is small letter\n",
      "3 is digit\n",
      "r is small letter\n",
      "e is small letter\n"
     ]
    }
   ],
   "source": [
    "#Question 3\n",
    "ch=input('enter a charcter: ')\n",
    "for i in range(len(ch)):\n",
    "  if 'z'>=ch[i]>='a':\n",
    "    print(ch[i], 'is small letter')\n",
    "  elif ch[i]>='A' and ch[i]<='Z':\n",
    "    print(ch[i], 'is Capital letter')\n",
    "  elif ch[i]>='0' and ch[i]<='9':\n",
    "    print(ch[i], 'is digit')\n",
    "  elif ch[i] in ['#', '$', '!', '%']:\n",
    "    print(ch[i], 'is special character')\n",
    "  else:\n",
    "    print(ch[i], 'OTHER')"
   ]
  },
  {
   "cell_type": "code",
   "execution_count": 37,
   "metadata": {},
   "outputs": [
    {
     "name": "stdin",
     "output_type": "stream",
     "text": [
      "enter a number:  0\n"
     ]
    },
    {
     "name": "stdout",
     "output_type": "stream",
     "text": [
      "0\n"
     ]
    }
   ],
   "source": [
    "#Question 4\n",
    "num=int(input('enter a number: '))\n",
    "if num>0:\n",
    "    print('+ve')\n",
    "elif num<0:\n",
    "    print('-ve')\n",
    "else:\n",
    "    print('0')"
   ]
  },
  {
   "cell_type": "code",
   "execution_count": 40,
   "metadata": {},
   "outputs": [
    {
     "name": "stdin",
     "output_type": "stream",
     "text": [
      "enter 1stnumber:  2\n",
      "enter the operation /\n",
      "enter 2nd number:  0\n"
     ]
    },
    {
     "name": "stdout",
     "output_type": "stream",
     "text": [
      "ERRORR!!!\n"
     ]
    }
   ],
   "source": [
    "#Question 5\n",
    "num1=float(input('enter 1stnumber: '))\n",
    "op=input('enter the operation')\n",
    "num2=float(input('enter 2nd number: '))\n",
    "\n",
    "if op=='-':\n",
    "    print(num1-num2)\n",
    "elif op=='+':\n",
    "    print(num1+num2)\n",
    "elif op=='*':\n",
    "    print(num1*num2)\n",
    "elif op=='/':\n",
    "    if num2==0:\n",
    "        print('ERRORR!!!')\n",
    "    else:\n",
    "        print(num1/num2)\n",
    "else:\n",
    "    print('Undefined operation')"
   ]
  },
  {
   "cell_type": "code",
   "execution_count": 46,
   "metadata": {},
   "outputs": [
    {
     "name": "stdin",
     "output_type": "stream",
     "text": [
      "enter a number: 4\n",
      "enter a number: 6\n",
      "enter a number: 8\n",
      "enter a number: 9\n",
      "enter a number: 4\n"
     ]
    },
    {
     "name": "stdout",
     "output_type": "stream",
     "text": [
      "[4, 6, 8, 9, 4]\n"
     ]
    }
   ],
   "source": [
    "#Question 6\n",
    "l=[]\n",
    "\n",
    "for i in range(5):\n",
    "    l[i:]=[int(input('enter a number:'))]     #l.append(int(input('enter a number:')))\n",
    "    #l[i]=int(input('enter a number:'))   ERRORRRRRRRRRR\n",
    "\n",
    "print(l)"
   ]
  },
  {
   "cell_type": "code",
   "execution_count": 49,
   "metadata": {},
   "outputs": [
    {
     "name": "stdout",
     "output_type": "stream",
     "text": [
      "1\n",
      "4\n",
      "5\n",
      "8\n",
      "9\n"
     ]
    }
   ],
   "source": [
    "#Question 7\n",
    "l=[1, 4, 5, 8, 9]\n",
    "for i in range(len(l)):\n",
    "    print(l[i])"
   ]
  },
  {
   "cell_type": "code",
   "execution_count": 53,
   "metadata": {},
   "outputs": [
    {
     "name": "stdout",
     "output_type": "stream",
     "text": [
      "9\n",
      "8\n",
      "5\n",
      "4\n",
      "1\n"
     ]
    }
   ],
   "source": [
    "#Question 8\n",
    "l=[1, 4, 5, 8, 9]\n",
    "for i in range(len(l)):\n",
    "    print(l[len(l)-i-1])"
   ]
  },
  {
   "cell_type": "code",
   "execution_count": 55,
   "metadata": {},
   "outputs": [
    {
     "name": "stdout",
     "output_type": "stream",
     "text": [
      "9\n",
      "8\n",
      "5\n",
      "4\n",
      "1\n"
     ]
    }
   ],
   "source": [
    "#Question 8\n",
    "l=[1, 4, 5, 8, 9]\n",
    "for i in range(4, -1, -1):\n",
    "    print(l[i])"
   ]
  },
  {
   "cell_type": "code",
   "execution_count": 56,
   "metadata": {},
   "outputs": [
    {
     "name": "stdout",
     "output_type": "stream",
     "text": [
      "9\n",
      "8\n",
      "5\n",
      "4\n",
      "1\n"
     ]
    }
   ],
   "source": [
    "#Question 8\n",
    "l=[1, 4, 5, 8, 9]\n",
    "for i in range(-1, -1*(len(l)+1), -1):\n",
    "    print(l[i])"
   ]
  },
  {
   "cell_type": "code",
   "execution_count": 61,
   "metadata": {},
   "outputs": [
    {
     "name": "stdin",
     "output_type": "stream",
     "text": [
      "enter a number 2\n",
      "enter a number 4\n",
      "enter a number 6\n",
      "enter a number 9\n",
      "enter a number 6\n"
     ]
    },
    {
     "name": "stdout",
     "output_type": "stream",
     "text": [
      "27\n",
      "5.4\n"
     ]
    }
   ],
   "source": [
    "#Question 9\n",
    "l=[]\n",
    "summ=0\n",
    "for i in range(5):   \n",
    "    l[i:]=[int(input('enter a number'))  ]\n",
    "    summ=summ+l[i]\n",
    "print(summ)\n",
    "print(summ/5)"
   ]
  },
  {
   "cell_type": "code",
   "execution_count": 63,
   "metadata": {},
   "outputs": [
    {
     "name": "stdin",
     "output_type": "stream",
     "text": [
      "enter a number 1\n",
      "enter a number 2\n",
      "enter a number 3\n",
      "enter a number 8\n",
      "enter a number 7\n"
     ]
    },
    {
     "name": "stdout",
     "output_type": "stream",
     "text": [
      "10\n",
      "5.0\n"
     ]
    }
   ],
   "source": [
    "#Question 10\n",
    "l=[]\n",
    "summ=0\n",
    "count=0\n",
    "for i in range(5):   \n",
    "    l[i:]=[int(input('enter a number'))  ]\n",
    "    if l[i]%2==0:\n",
    "        summ=summ+l[i]\n",
    "        count+=1\n",
    "print(summ)\n",
    "print(summ/count)"
   ]
  },
  {
   "cell_type": "code",
   "execution_count": 65,
   "metadata": {},
   "outputs": [
    {
     "name": "stdin",
     "output_type": "stream",
     "text": [
      "enter a number -34\n",
      "enter a number -789\n",
      "enter a number 0\n",
      "enter a number 456\n",
      "enter a number 23\n"
     ]
    },
    {
     "name": "stdout",
     "output_type": "stream",
     "text": [
      "min -789\n",
      "max 456\n"
     ]
    }
   ],
   "source": [
    "#Question 11\n",
    "l=[]\n",
    "\n",
    "for i in range(5):   \n",
    "    l[i:]=[int(input('enter a number'))  ]\n",
    "    \n",
    "minn=l[0]\n",
    "maxn=l[0]\n",
    "\n",
    "for i in range(5):\n",
    "    if l[i]>maxn:\n",
    "        maxn=l[i]\n",
    "    if l[i]<minn:\n",
    "        minn=l[i]\n",
    "        \n",
    "print('min', minn)\n",
    "print('max', maxn)\n"
   ]
  },
  {
   "cell_type": "code",
   "execution_count": 68,
   "metadata": {},
   "outputs": [
    {
     "name": "stdin",
     "output_type": "stream",
     "text": [
      "enter the list size: 2\n",
      "enter a number 3\n",
      "enter a number 5\n",
      "entera number to search 3\n"
     ]
    },
    {
     "name": "stdout",
     "output_type": "stream",
     "text": [
      "3 found at index 0\n"
     ]
    }
   ],
   "source": [
    "#Question 12\n",
    "l=[]\n",
    "lSize=int(input('enter the list size:'))\n",
    "for i in range(lSize):\n",
    "    l[i:]=[int(input('enter a number'))]\n",
    "\n",
    "flag=0\n",
    "number=int(input('entera number to search'))\n",
    "for i in range(lSize):\n",
    "    if l[i]==number:\n",
    "        print(number, 'found at index', i)\n",
    "        flag=1\n",
    "        break\n",
    "        \n",
    "if flag==0:\n",
    "    print('Not Found')\n",
    "        "
   ]
  },
  {
   "cell_type": "code",
   "execution_count": 69,
   "metadata": {},
   "outputs": [
    {
     "name": "stdin",
     "output_type": "stream",
     "text": [
      "enter the list size: 8\n",
      "enter a number 1\n",
      "enter a number 3\n",
      "enter a number 1\n",
      "enter a number 6\n",
      "enter a number 1\n",
      "enter a number 8\n",
      "enter a number 1\n",
      "enter a number 9\n",
      "entera number to search 1\n"
     ]
    },
    {
     "name": "stdout",
     "output_type": "stream",
     "text": [
      "1 found at index 0\n",
      "1 found at index 2\n",
      "1 found at index 4\n",
      "1 found at index 6\n",
      "1 occures 4 time\n"
     ]
    }
   ],
   "source": [
    "#Question 13\n",
    "l=[]\n",
    "lSize=int(input('enter the list size:'))\n",
    "for i in range(lSize):\n",
    "    l[i:]=[int(input('enter a number'))]\n",
    "\n",
    "count=0\n",
    "number=int(input('entera number to search'))\n",
    "for i in range(lSize):\n",
    "    if l[i]==number:\n",
    "        print(number, 'found at index', i)\n",
    "        count+=1\n",
    "        \n",
    "        \n",
    "if count==0:\n",
    "    print('Not Found')\n",
    "else:\n",
    "    print(number, 'occures', count, 'time')"
   ]
  },
  {
   "cell_type": "code",
   "execution_count": 75,
   "metadata": {},
   "outputs": [
    {
     "name": "stdout",
     "output_type": "stream",
     "text": [
      "[2, 4, 5, 7, 9, 'd', 'w']\n"
     ]
    }
   ],
   "source": [
    "#Question 14\n",
    "l=[2, 4, 5, 7]\n",
    "s=[9, 'd', 'w']\n",
    "mergedList=[]\n",
    "for i in range(len(l)):\n",
    "    mergedList[i:]=[l[i]]\n",
    "#print(mergedList)\n",
    "for i in range(len(s)):\n",
    "    mergedList[len(l)+i:]=[s[i]]\n",
    "print(mergedList)\n"
   ]
  },
  {
   "cell_type": "code",
   "execution_count": 77,
   "metadata": {},
   "outputs": [
    {
     "name": "stdout",
     "output_type": "stream",
     "text": [
      "[2, 4, 5, 7, 9, 'd', 'w']\n"
     ]
    }
   ],
   "source": [
    "#Question 14\n",
    "l=[2, 4, 5, 7]\n",
    "s=[9, 'd', 'w']\n",
    "mergeList=l+s\n",
    "print(mergeList)"
   ]
  },
  {
   "cell_type": "code",
   "execution_count": 80,
   "metadata": {},
   "outputs": [
    {
     "name": "stdout",
     "output_type": "stream",
     "text": [
      "[2, 4, 5, 7, 9, 'd', 'w']\n"
     ]
    }
   ],
   "source": [
    "#Question 14\n",
    "l=[2, 4, 5, 7]\n",
    "s=[9, 'd', 'w']\n",
    "mergedList[:]=l[:]\n",
    "mergedList[len(l):]=s[:]\n",
    "print(mergedList)"
   ]
  },
  {
   "cell_type": "code",
   "execution_count": 3,
   "metadata": {},
   "outputs": [
    {
     "name": "stdin",
     "output_type": "stream",
     "text": [
      "enter a number: 1\n",
      "enter a number: 2\n",
      "enter a number: 3\n",
      "enter a number: 4\n",
      "enter a number: 5\n"
     ]
    },
    {
     "name": "stdout",
     "output_type": "stream",
     "text": [
      "[2, 4]\n",
      "[1, 3, 5]\n"
     ]
    }
   ],
   "source": [
    "# Question 15\n",
    "l=[]\n",
    "el=[]\n",
    "ol=[]\n",
    "ei=0\n",
    "oi=0\n",
    "\n",
    "for i in range(5):\n",
    "    l[i:]=[int(input('enter a number:'))]\n",
    "    if l[i]%2==0:\n",
    "        el[ei:]=[l[i]]\n",
    "        ei+=1\n",
    "    else:\n",
    "        ol[oi:]=[l[i]]\n",
    "        oi+=1\n",
    "        \n",
    "print(el)\n",
    "print(ol)\n"
   ]
  },
  {
   "cell_type": "code",
   "execution_count": 89,
   "metadata": {},
   "outputs": [
    {
     "name": "stdin",
     "output_type": "stream",
     "text": [
      "entera number: 5\n"
     ]
    },
    {
     "name": "stdout",
     "output_type": "stream",
     "text": [
      "120\n"
     ]
    }
   ],
   "source": [
    "#Question 16\n",
    "x=int(input('enter a number:'))\n",
    "factorial=1\n",
    "for i in range(x, 0, -1):\n",
    "    factorial*=i\n",
    "print(factorial)"
   ]
  },
  {
   "cell_type": "code",
   "execution_count": 103,
   "metadata": {},
   "outputs": [
    {
     "name": "stdin",
     "output_type": "stream",
     "text": [
      "enter a number 3\n",
      "enter the power 3\n"
     ]
    },
    {
     "name": "stdout",
     "output_type": "stream",
     "text": [
      "27\n"
     ]
    }
   ],
   "source": [
    "#Question 17\n",
    "def calPower():\n",
    "    result=1\n",
    "    for i in range(pown):\n",
    "        result=result*num\n",
    "    return result\n",
    "\n",
    "num=int(input('enter a number'))\n",
    "pown=int(input('enter the power'))\n",
    "print(calPower())\n",
    "\n"
   ]
  },
  {
   "cell_type": "code",
   "execution_count": 98,
   "metadata": {},
   "outputs": [
    {
     "name": "stdin",
     "output_type": "stream",
     "text": [
      "enter a number: 1024\n"
     ]
    },
    {
     "name": "stdout",
     "output_type": "stream",
     "text": [
      "Not Prime\n"
     ]
    }
   ],
   "source": [
    "#Question 18\n",
    "def isPrime():\n",
    "   x=int(input('enter a number:'))\n",
    "   cnt=0\n",
    "   for i in range(2, x):\n",
    "       if x%i==0:\n",
    "           print('Not Prime')\n",
    "           cnt+=1\n",
    "           break\n",
    "   if cnt==0:\n",
    "    print('prime')\n",
    "\n",
    "isPrime()"
   ]
  },
  {
   "cell_type": "code",
   "execution_count": null,
   "metadata": {},
   "outputs": [],
   "source": []
  }
 ],
 "metadata": {
  "kernelspec": {
   "display_name": "Python 3",
   "language": "python",
   "name": "python3"
  },
  "language_info": {
   "codemirror_mode": {
    "name": "ipython",
    "version": 3
   },
   "file_extension": ".py",
   "mimetype": "text/x-python",
   "name": "python",
   "nbconvert_exporter": "python",
   "pygments_lexer": "ipython3",
   "version": "3.7.6"
  }
 },
 "nbformat": 4,
 "nbformat_minor": 4
}
