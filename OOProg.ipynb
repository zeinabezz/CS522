{
  "cells": [
    {
      "cell_type": "markdown",
      "metadata": {
        "id": "view-in-github",
        "colab_type": "text"
      },
      "source": [
        "<a href=\"https://colab.research.google.com/github/zeinabezz/CS522/blob/main/OOProg.ipynb\" target=\"_parent\"><img src=\"https://colab.research.google.com/assets/colab-badge.svg\" alt=\"Open In Colab\"/></a>"
      ]
    },
    {
      "cell_type": "markdown",
      "metadata": {
        "id": "B6TsYlMy0eCp"
      },
      "source": [
        "## Empty Class"
      ]
    },
    {
      "cell_type": "code",
      "execution_count": null,
      "metadata": {
        "id": "6tmy3-E30eCu"
      },
      "outputs": [],
      "source": [
        "class List:\n",
        "    pass"
      ]
    },
    {
      "cell_type": "markdown",
      "metadata": {
        "id": "5AvNrMyd0eCw"
      },
      "source": [
        "<font color=red>Class </font> can contains <font color=purple>properties (members or attributes or variables) </font> and <font color=purple> methods (functions)</font>\n",
        "\n",
        "<font color=red>properties </font> can be <font color=purple>class property</font> or <font color=purple>instance property </font>\n",
        "\n",
        "<font color=red>methods</font> can be <font color=purple>class method</font> or <font color=purple> instance method</font>, or <font color=purple> static method</font>"
      ]
    },
    {
      "cell_type": "markdown",
      "metadata": {
        "id": "pLK3uA7I0eCy"
      },
      "source": [
        "# Class Properties"
      ]
    },
    {
      "cell_type": "code",
      "execution_count": null,
      "metadata": {
        "id": "UG9QaBYe0eCz"
      },
      "outputs": [],
      "source": [
        "class Person:\n",
        "    can_eat=True\n",
        "    can_sleep=True"
      ]
    },
    {
      "cell_type": "markdown",
      "metadata": {
        "id": "6IhonqM60eC0"
      },
      "source": [
        "# Calling the class property "
      ]
    },
    {
      "cell_type": "code",
      "execution_count": null,
      "metadata": {
        "id": "jSp9zzGf0eC1",
        "outputId": "70fd7909-7d90-4715-8e16-8eed74d9b6c3"
      },
      "outputs": [
        {
          "name": "stdout",
          "output_type": "stream",
          "text": [
            "False\n"
          ]
        }
      ],
      "source": [
        "print(Person().can_eat)"
      ]
    },
    {
      "cell_type": "markdown",
      "metadata": {
        "id": "zP5kZ5YA0eC2"
      },
      "source": [
        "# <font color='red'> Big Problem"
      ]
    },
    {
      "cell_type": "code",
      "execution_count": null,
      "metadata": {
        "id": "8HDgTxtT0eC3",
        "outputId": "a18b890d-2f9a-48a7-ec6a-3e01b7b04990"
      },
      "outputs": [
        {
          "name": "stdout",
          "output_type": "stream",
          "text": [
            "False\n"
          ]
        }
      ],
      "source": [
        "Person.can_eat=False\n",
        "print(Person.can_eat)"
      ]
    },
    {
      "cell_type": "markdown",
      "metadata": {
        "id": "RrGvF6Dn0eC5"
      },
      "source": [
        "# That is why we need to <font color='red'>Encapsulation"
      ]
    },
    {
      "cell_type": "code",
      "execution_count": null,
      "metadata": {
        "id": "rZ3BwDzQ0eC6"
      },
      "outputs": [],
      "source": [
        "class Person:\n",
        "    __can_eat=True\n",
        "    __can_sleep=True"
      ]
    },
    {
      "cell_type": "markdown",
      "metadata": {
        "id": "l7G6Nv3q0eC7"
      },
      "source": [
        "## <font color='brown'>Private acess modifier: \\__\n",
        "    \n",
        "\\__can_eat and \\__can_sleep are two private class properties\n",
        "    \n",
        "(__) private is an access modifier\n",
        "    \n",
        "(__) means that this propoerty can only be seen inside the class"
      ]
    },
    {
      "cell_type": "code",
      "execution_count": null,
      "metadata": {
        "id": "v_bNh4hf0eC8",
        "outputId": "69fc7ff5-dcd3-435e-a261-949437e93129"
      },
      "outputs": [
        {
          "ename": "AttributeError",
          "evalue": "type object 'Person' has no attribute '__can_eat'",
          "output_type": "error",
          "traceback": [
            "\u001b[0;31m---------------------------------------------------------------------------\u001b[0m\n\u001b[0;31mAttributeError\u001b[0m                            Traceback (most recent call last)",
            "File \u001b[0;34m/home/z/anaconda3/lib/python3.7/site-packages/IPython/core/interactiveshell.py\u001b[0m, in \u001b[0;32mrun_code\u001b[0m:\nLine \u001b[0;34m3441\u001b[0m:  exec(code_obj, \u001b[36mself\u001b[39;49;00m.user_global_ns, \u001b[36mself\u001b[39;49;00m.user_ns)\n",
            "In  \u001b[0;34m[20]\u001b[0m:\nLine \u001b[0;34m1\u001b[0m:     \u001b[36mprint\u001b[39;49;00m(Person.__can_eat)\n",
            "\u001b[0;31mAttributeError\u001b[0m: type object 'Person' has no attribute '__can_eat'\n\u001b[0;31m---------------------------------------------------------------------------\u001b[0m"
          ]
        }
      ],
      "source": [
        "print(Person.__can_eat)"
      ]
    },
    {
      "cell_type": "markdown",
      "metadata": {
        "id": "obmwXyL10eC9"
      },
      "source": [
        "But how can we access the class properties??\n",
        "getter and setter"
      ]
    },
    {
      "cell_type": "code",
      "execution_count": null,
      "metadata": {
        "id": "5KAllgpX0eC-"
      },
      "outputs": [],
      "source": [
        "class Person:\n",
        "    __can_eat=True\n",
        "    __can_sleep=True\n",
        "    \n",
        "    @classmethod\n",
        "    def set__can_eat(cls, val):\n",
        "        if val in [\"Yes\", \"true\", \"yes\", True]: cls.__can_eat=val\n",
        "        \n",
        "    @classmethod\n",
        "    def get__can_eat(cls):\n",
        "        return cls.__can_eat\n",
        "    \n",
        "    @classmethod\n",
        "    def set__can_sleep(cls, val):\n",
        "        cls.__can_sleep=val\n",
        "        \n",
        "    @classmethod\n",
        "    def get__can_sleep(cls):\n",
        "        return cls.__can_sleep"
      ]
    },
    {
      "cell_type": "code",
      "execution_count": null,
      "metadata": {
        "id": "NeSmtTJP0eDA",
        "outputId": "b89401ab-f175-4468-b27d-1ecf360b0722"
      },
      "outputs": [
        {
          "name": "stdout",
          "output_type": "stream",
          "text": [
            "True\n",
            "yes\n",
            "yes\n"
          ]
        }
      ],
      "source": [
        "print(Person.get__can_eat())\n",
        "Person.set__can_eat(\"yes\")\n",
        "print(Person.get__can_eat())\n",
        "Person.set__can_eat(\"false\")\n",
        "print(Person.get__can_eat())"
      ]
    },
    {
      "cell_type": "markdown",
      "metadata": {
        "id": "18C1rsgd0eDB"
      },
      "source": [
        "## <font color='brown'>Note: \n",
        "Access Modifiers in python\n",
        "    \n",
        "(<font color=red>**__**</font>)  : <font color=purple>private </font>   : can only be accessed inside the class\n",
        "    \n",
        "(<font color=red>**_**</font>)   : <font color=purple>protected </font> : can only be accessed via child (sub) classes\n",
        "    \n",
        "( )    :<font color=purple>public</font>      : can be accessed every where\n",
        "     \n",
        "     \n",
        "Thus,\n",
        "\n",
        "get_can_eat(), get__can_sleep(), set__can_eat(), set__can_sleep() are public class methods\n",
        "\n",
        "\\__can_eat, \\__can_sleep are private class properties"
      ]
    },
    {
      "cell_type": "markdown",
      "metadata": {
        "id": "6JkNqtJN0eDC"
      },
      "source": [
        "## <font color= 'green'>class method\n",
        "    \n",
        "starts with @classmethod\n",
        "    \n",
        "must take as its first parameter: cls (class)\n",
        "    \n",
        "can modifies class  properties only\n",
        "    \n",
        "can be used to overload the class constructor\n"
      ]
    },
    {
      "cell_type": "markdown",
      "metadata": {
        "id": "A5ibWlEo0eDD"
      },
      "source": [
        "# <font color='red'>Class Constructor\n",
        "    is a special instance method that is called only when an object is created\n",
        "    It must take as its first parameter self(object)"
      ]
    },
    {
      "cell_type": "code",
      "execution_count": null,
      "metadata": {
        "id": "qnAaUe600eDD"
      },
      "outputs": [],
      "source": [
        "class Person:\n",
        "    __can_eat=True\n",
        "    __can_sleep=True\n",
        "    __nopersons=0\n",
        "    \n",
        "    def __init__(self, myname, myage, myaddress):\n",
        "        self.__name=myname\n",
        "        self.__age=myage\n",
        "        self.__address=myaddress"
      ]
    },
    {
      "cell_type": "markdown",
      "metadata": {
        "id": "cU-OncDI0eDE"
      },
      "source": [
        "# Creating object from the class"
      ]
    },
    {
      "cell_type": "code",
      "execution_count": null,
      "metadata": {
        "id": "1YBaoKVT0eDF"
      },
      "outputs": [],
      "source": [
        "p=Person(\"ahmed\", 23, \"Giza\")"
      ]
    },
    {
      "cell_type": "markdown",
      "metadata": {
        "id": "6NK9A2ij0eDG"
      },
      "source": [
        "# <font color='red'>Instance Methods\n",
        "    \n",
        "    It must take self (object) as its first parameter\n",
        "    \n",
        "    can only access and modify any instance property via the self\n",
        "    \n",
        "    can access class property via the class name"
      ]
    },
    {
      "cell_type": "code",
      "execution_count": null,
      "metadata": {
        "id": "GvRv12lw0eDH"
      },
      "outputs": [],
      "source": [
        "class Person:\n",
        "    \n",
        "    def __init__(self, myname, myage, myaddress):\n",
        "        self.__name=myname\n",
        "        self.__age=myage\n",
        "        self.__address=myaddress\n",
        "        \n",
        "    def set__name(self, name):\n",
        "        self.__name=name\n",
        "        \n",
        "    def set__age(self, age):\n",
        "        self.__age=age\n",
        "        \n",
        "    def set__address(self, address):\n",
        "        self.__address=address\n",
        "    \n",
        "    def get__name(self):\n",
        "        return self.__name\n",
        "    \n",
        "    def get__age(self):\n",
        "        return self.__age\n",
        "    \n",
        "    def get__address(self):\n",
        "        return self.__address"
      ]
    },
    {
      "cell_type": "code",
      "execution_count": null,
      "metadata": {
        "id": "0VUPCWrg0eDI",
        "outputId": "bca9d326-d17d-4668-b6a0-a82ba8237a1c"
      },
      "outputs": [
        {
          "name": "stdout",
          "output_type": "stream",
          "text": [
            "ahmed\n",
            "Cairo\n"
          ]
        }
      ],
      "source": [
        "p1=Person(\"ahmed\", 23, \"Giza\")\n",
        "p2=Person(\"ali\", 12, 'Cairo')\n",
        "\n",
        "print(p1.get__name())\n",
        "print(p2.get__address())\n"
      ]
    },
    {
      "cell_type": "code",
      "execution_count": null,
      "metadata": {
        "id": "cFrGNBgB0eDJ"
      },
      "outputs": [],
      "source": [
        "class Person:\n",
        "    __can_eat=True\n",
        "    __can_sleep=True\n",
        "    __nopersons=0\n",
        "    \n",
        "    def __init__(self, myname, myage, myaddress):\n",
        "        self.__name=myname\n",
        "        self.__age=myage\n",
        "        self.__address=myaddress\n",
        "        Person.__nopersons+=1\n",
        "        \n",
        "    def set__name(self, name):\n",
        "        self.__name=name\n",
        "        \n",
        "    def set__age(self, age):\n",
        "        self.__age=age\n",
        "        \n",
        "    def set__address(self, address):\n",
        "        self.__address=address\n",
        "    \n",
        "    def get__name(self):\n",
        "        return self.__name\n",
        "    \n",
        "    def get__age(self):\n",
        "        return self.__age\n",
        "    \n",
        "    def get__address(self):\n",
        "        return self.__address\n",
        "    \n",
        "    @classmethod\n",
        "    def get__nopersons(cls):\n",
        "        return cls.__nopersons\n",
        "    \n",
        "    @classmethod\n",
        "    def get__can_eat(cls):\n",
        "        return cls.__can_eat\n",
        "    \n",
        "    @classmethod\n",
        "    def get__can_sleep(cls):\n",
        "        return cls.__can_sleep\n",
        "    \n",
        "    @classmethod\n",
        "    def fourparam(cls, fname, lname, age, address):\n",
        "        return cls(fname+\" \" +lname, age, address)"
      ]
    },
    {
      "cell_type": "code",
      "execution_count": null,
      "metadata": {
        "id": "5qnrVaWM0eDJ",
        "outputId": "89015422-4ce9-42e8-e749-1c9816077338"
      },
      "outputs": [
        {
          "name": "stdout",
          "output_type": "stream",
          "text": [
            "ahmed\n",
            "Cairo\n",
            "2\n",
            "mohammed ahmed\n"
          ]
        }
      ],
      "source": [
        "p1=Person(\"ahmed\", 23, \"Giza\")\n",
        "p2=Person(\"ali\", 12, 'Cairo')\n",
        "print(p1.get__name())\n",
        "print(p2.get__address())\n",
        "print(Person.get__nopersons())\n",
        "p3=Person.fourparam(\"mohammed\", \"ahmed\", 23, \"Giza\")\n",
        "print(p3.get__name())"
      ]
    },
    {
      "cell_type": "code",
      "execution_count": null,
      "metadata": {
        "id": "txeN5FI_0eDK",
        "outputId": "19796bf3-9507-4a53-c6ac-7662b6a23125"
      },
      "outputs": [
        {
          "name": "stdout",
          "output_type": "stream",
          "text": [
            "<__main__.Person object at 0x7f11b2fdb090>\n"
          ]
        }
      ],
      "source": [
        "print(p3)"
      ]
    },
    {
      "cell_type": "code",
      "execution_count": null,
      "metadata": {
        "id": "oUEPq8270eDL",
        "outputId": "659ef6f2-6657-4f0a-86c0-4dffa8a4b548"
      },
      "outputs": [
        {
          "name": "stdout",
          "output_type": "stream",
          "text": [
            "['_Person__address', '_Person__age', '_Person__can_eat', '_Person__can_sleep', '_Person__name', '_Person__nopersons', '__class__', '__delattr__', '__dict__', '__dir__', '__doc__', '__eq__', '__format__', '__ge__', '__getattribute__', '__gt__', '__hash__', '__init__', '__init_subclass__', '__le__', '__lt__', '__module__', '__ne__', '__new__', '__reduce__', '__reduce_ex__', '__repr__', '__setattr__', '__sizeof__', '__str__', '__subclasshook__', '__weakref__', 'fourparam', 'get__address', 'get__age', 'get__can_eat', 'get__can_sleep', 'get__name', 'get__nopersons', 'set__address', 'set__age', 'set__name']\n"
          ]
        }
      ],
      "source": [
        "print(dir(p3))   # print dunder"
      ]
    },
    {
      "cell_type": "code",
      "execution_count": null,
      "metadata": {
        "id": "Olr5L2Mm0eDM"
      },
      "outputs": [],
      "source": [
        "class Person:\n",
        "    __can_eat=True\n",
        "    __can_sleep=True\n",
        "    __nopersons=0\n",
        "    \n",
        "    def __init__(self, myname, myage, myaddress):\n",
        "        self.__name=myname\n",
        "        self.__age=myage\n",
        "        self.__address=myaddress\n",
        "        Person.__nopersons+=1\n",
        "        \n",
        "    def set__name(self, name):\n",
        "        self.__name=name\n",
        "        \n",
        "    def set__age(self, age):\n",
        "        self.__age=age\n",
        "        \n",
        "    def set__address(self, address):\n",
        "        self.__address=address\n",
        "    \n",
        "    def get__name(self):\n",
        "        return self.__name\n",
        "    \n",
        "    def get__age(self):\n",
        "        return self.__age\n",
        "    \n",
        "    def get__address(self):\n",
        "        return self.__address\n",
        "    \n",
        "    @classmethod\n",
        "    def get__nopersons(cls):\n",
        "        return cls.__nopersons\n",
        "    \n",
        "    @classmethod\n",
        "    def get__can_eat(cls):\n",
        "        return cls.__can_eat\n",
        "    \n",
        "    @classmethod\n",
        "    def get__can_sleep(cls):\n",
        "        return cls.__can_sleep\n",
        "    \n",
        "    @classmethod\n",
        "    def fourparam(cls, fname, lname, age, address):\n",
        "        return cls(fname+\" \" +lname, age, address)\n",
        "    \n",
        "    def __str__(self):\n",
        "        return f\"your name is {self.__name}. your age is {self.__age} and lives in {self.__address}\""
      ]
    },
    {
      "cell_type": "code",
      "execution_count": null,
      "metadata": {
        "id": "qHrABQ3v0eDN",
        "outputId": "a7bbf0b6-6d96-42cb-e978-623afd64281e"
      },
      "outputs": [
        {
          "name": "stdout",
          "output_type": "stream",
          "text": [
            "mohammed ahmed\n",
            "your name is mohammed ahmed. your age is 23 and lives in Giza\n"
          ]
        }
      ],
      "source": [
        "p3=Person.fourparam(\"mohammed\", \"ahmed\", 23, \"Giza\")\n",
        "print(p3.get__name())\n",
        "print(p3)"
      ]
    },
    {
      "cell_type": "markdown",
      "metadata": {
        "id": "syjDXOgX0eDP"
      },
      "source": [
        "# <font color=red> Polymorphism: \n",
        "    overload methods: methods with the same name but with different parameter list\n",
        "    override methods: methods with the same name and the same parameter list  [in case of inheritance]\n",
        "    overload methods are developed with *args or **kwargs.\n",
        "    Example on overload method"
      ]
    },
    {
      "cell_type": "code",
      "execution_count": null,
      "metadata": {
        "id": "y6Yod-d00eDP"
      },
      "outputs": [],
      "source": [
        "class Person:\n",
        "    __nopersons=0\n",
        "    \n",
        "    def __init__(self, myname, myage, *myaddress):\n",
        "        self.__name=myname\n",
        "        self.__age=myage\n",
        "        self.__address=\"\"\n",
        "        for address in myaddress:\n",
        "           address+=\", \"\n",
        "           self.__address= self.__address + address\n",
        "        Person.__nopersons+=1\n",
        "        \n",
        "    def set__name(self, *name):\n",
        "        self.__name=\"\"\n",
        "        for n in name: \n",
        "           n+=\" \"\n",
        "           self.__name+=n\n",
        "        \n",
        "    def set__age(self, age):\n",
        "        self.__age=age\n",
        "        \n",
        "    def set__address(self, address):\n",
        "        self.__address=address\n",
        "    \n",
        "    def get__name(self):\n",
        "        return self.__name\n",
        "    \n",
        "    def get__age(self):\n",
        "        return self.__age\n",
        "    \n",
        "    def get__address(self):\n",
        "        return self.__address\n",
        "    \n",
        "    @classmethod\n",
        "    def get__nopersons(cls):\n",
        "        return cls.__nopersons\n",
        "\n",
        "    \n",
        "    def __str__(self):\n",
        "        return f\"your name is {self.__name}. your age is {self.__age} and lives in {self.__address}\""
      ]
    },
    {
      "cell_type": "code",
      "execution_count": null,
      "metadata": {
        "id": "MmE28vNZ0eDQ",
        "outputId": "61b1c27f-998b-4520-ee7f-618e5560f936"
      },
      "outputs": [
        {
          "name": "stdout",
          "output_type": "stream",
          "text": [
            "ahmed\n",
            "mohammed \n",
            "ali mahmoud \n",
            "ali mahmoud mohammed \n"
          ]
        }
      ],
      "source": [
        "p1=Person(\"ahmed\", 23, \"Giza\")\n",
        "print(p1.get__name())\n",
        "\n",
        "\n",
        "p1.set__name(\"mohammed\")\n",
        "print(p1.get__name())\n",
        "\n",
        "p1.set__name(\"ali\", \"mahmoud\")\n",
        "print(p1.get__name())\n",
        "\n",
        "p1.set__name(\"ali\", \"mahmoud\", \"mohammed\")\n",
        "print(p1.get__name())"
      ]
    },
    {
      "cell_type": "code",
      "execution_count": null,
      "metadata": {
        "id": "CXf7QuOB0eDR",
        "outputId": "fc6fd5d1-03d7-4e62-d35f-f35c27dd735f"
      },
      "outputs": [
        {
          "name": "stdout",
          "output_type": "stream",
          "text": [
            "your name is ahmed. your age is 23 and lives in Giza, \n",
            "your name is mohammed. your age is 24 and lives in Giza, Ahmed Zewail st., \n",
            "your name is mahmoud. your age is 25 and lives in Giza, Ahmed Zewail st., Cairo Uni., \n"
          ]
        }
      ],
      "source": [
        "p1=Person(\"ahmed\", 23, \"Giza\")\n",
        "print(p1)\n",
        "p2=Person(\"mohammed\", 24, \"Giza\", \"Ahmed Zewail st.\")\n",
        "print(p2)\n",
        "p3=Person(\"mahmoud\", 25, \"Giza\", \"Ahmed Zewail st.\", \"Cairo Uni.\")\n",
        "print(p3)"
      ]
    },
    {
      "cell_type": "code",
      "execution_count": null,
      "metadata": {
        "id": "u0MqCcRf0eDS",
        "outputId": "ff475a02-f39c-407c-a05f-d45204135ab0"
      },
      "outputs": [
        {
          "data": {
            "text/plain": [
              "'Giza, Ahmed Zewail st., '"
            ]
          },
          "execution_count": 48,
          "metadata": {},
          "output_type": "execute_result"
        }
      ],
      "source": [
        "p2.get__address()"
      ]
    },
    {
      "cell_type": "markdown",
      "metadata": {
        "id": "Hkxs_ltN0eDS"
      },
      "source": [
        "# <font color=red>Static Method</font>\n",
        "\n",
        "It starts with @staticmethod\n",
        "\n",
        "It cannot take self and cls parameters\n",
        "\n",
        "it can only be accessed by the class name\n",
        "\n",
        "It acts as a helper method"
      ]
    },
    {
      "cell_type": "code",
      "execution_count": null,
      "metadata": {
        "id": "3qR8oqfN0eDT"
      },
      "outputs": [],
      "source": [
        "class Person:\n",
        "    __nopersons=0\n",
        "    \n",
        "    def __init__(self, myname, myage, *myaddress):\n",
        "        self.__name=myname\n",
        "        self.__age=myage\n",
        "        self.__address=\"\"\n",
        "\n",
        "        self.__address = Person.concat_string(*myaddress)\n",
        "        Person.__nopersons+=1\n",
        "        \n",
        "    def set__name(self, *name):\n",
        "        self.__name=\"\"\n",
        "        for n in name: \n",
        "           n+=\" \"\n",
        "           self.__name+=n\n",
        "        \n",
        "    def set__age(self, age):\n",
        "        self.__age=age\n",
        "        \n",
        "    def set__address(self, address):\n",
        "        self.__address=address\n",
        "    \n",
        "    def get__name(self):\n",
        "        return self.__name\n",
        "    \n",
        "    def get__age(self):\n",
        "        return self.__age\n",
        "    \n",
        "    def get__address(self):\n",
        "        return self.__address\n",
        "    \n",
        "    @classmethod\n",
        "    def get__nopersons(cls):\n",
        "        return cls.__nopersons\n",
        "    \n",
        "    @staticmethod\n",
        "    def concat_string(*stgs):\n",
        "        con_str=\"\"\n",
        "        for stg in stgs:\n",
        "           stg+=\", \"\n",
        "           con_str+=stg\n",
        "        return con_str\n",
        "    \n",
        "    def __str__(self):\n",
        "        return f\"your name is {self.__name}. your age is {self.__age} and lives in {self.__address}\""
      ]
    },
    {
      "cell_type": "code",
      "execution_count": null,
      "metadata": {
        "id": "MCaTSZ-90eDU",
        "outputId": "eed63ee3-ee07-432b-f5ce-cbb190c63edf"
      },
      "outputs": [
        {
          "name": "stdout",
          "output_type": "stream",
          "text": [
            "ahmed\n",
            "mohammed \n",
            "ali mahmoud \n",
            "ali mahmoud mohammed \n",
            "your name is ahmed. your age is 23 and lives in Giza, \n",
            "your name is mohammed. your age is 24 and lives in Giza, Ahmed Zewail st., \n",
            "your name is mahmoud. your age is 25 and lives in Giza, Ahmed Zewail st., Cairo Uni., \n"
          ]
        }
      ],
      "source": [
        "p1=Person(\"ahmed\", 23, \"Giza\")\n",
        "print(p1)\n",
        "p2=Person(\"mohammed\", 24, \"Giza\", \"Ahmed Zewail st.\")\n",
        "print(p2)\n",
        "p3=Person(\"mahmoud\", 25, \"Giza\", \"Ahmed Zewail st.\", \"Cairo Uni.\")\n",
        "print(p3)"
      ]
    },
    {
      "cell_type": "markdown",
      "metadata": {
        "id": "9ci9t6lj0eDU"
      },
      "source": [
        "## Another Example"
      ]
    },
    {
      "cell_type": "code",
      "execution_count": null,
      "metadata": {
        "id": "JzcOn-e90eDV",
        "outputId": "be0c71c6-85c1-4c66-c0e2-240ea4560cf6"
      },
      "outputs": [
        {
          "name": "stdout",
          "output_type": "stream",
          "text": [
            "Welcome to Shape class\n",
            "This class is used for representing different shapes.\n",
            "\n",
            "Shape is of category:  Geometrical\n",
            "And shape is:  Triangle\n",
            "Shape is of category:  Geometrical\n",
            "And shape is:  Square\n",
            "Shape is of category:  Geometrical\n",
            "And shape is:  rectangle\n",
            "Shape is of category:  Geometrical\n",
            "And shape is:  Triangle\n"
          ]
        }
      ],
      "source": [
        "class Shape:\n",
        "    # class property \n",
        "    __cat = 'Geometrical'\n",
        "    \n",
        "    def __init__(self, type):\n",
        "        # instance property\n",
        "        self.__type = type\n",
        "    \n",
        "    # instance method to show data\n",
        "    def show(self):\n",
        "        # accessing class property\n",
        "        print('Shape is of category: ', Shape.__cat)\n",
        "        # accessing instance property\n",
        "        print('And shape is: ', self.__type)\n",
        "     \n",
        "    @staticmethod\n",
        "    def info(msg):\n",
        "        # show custom message\n",
        "        print(msg)\n",
        "        print(\"This class is used for representing different shapes.\\n\")\n",
        "        #print(self.__type)\n",
        "        \n",
        "Shape.info('Welcome to Shape class')\n",
        "\n",
        "tr = Shape('Triangle')\n",
        "sq = Shape('Square')\n",
        "rec = Shape('rectangle')\n",
        "\n",
        "tr.show()\n",
        "sq.show()\n",
        "rec.show()\n",
        "\n",
        "Shape.show(tr)"
      ]
    },
    {
      "cell_type": "markdown",
      "metadata": {
        "id": "rTMO9VYy0eDV"
      },
      "source": [
        "# <font color =red>Inheritance\n",
        "## Base Class \n",
        "   "
      ]
    },
    {
      "cell_type": "code",
      "execution_count": null,
      "metadata": {
        "id": "K9ZnrSYT0eDW"
      },
      "outputs": [],
      "source": [
        "class person:\n",
        "    def __init__(self, name, age, address):\n",
        "        self.__name=name\n",
        "        self.__age=age\n",
        "        \n",
        "    def setName(self, name):\n",
        "        self.__name=name\n",
        "        \n",
        "    def setAge(self, age):\n",
        "        self.__age=age\n",
        "            \n",
        "    def setAddress(self, address):\n",
        "        self.__address=address\n",
        "    \n",
        "    def getName(self):\n",
        "        return self.__name\n",
        "        \n",
        "    def getAge(self):\n",
        "        return self.__age\n",
        "            \n",
        "    def getAddress(self):\n",
        "        return self.__address"
      ]
    },
    {
      "cell_type": "markdown",
      "metadata": {
        "id": "ppNxr2KX0eDX"
      },
      "source": [
        "# Child Class"
      ]
    },
    {
      "cell_type": "code",
      "execution_count": null,
      "metadata": {
        "id": "eKl0XBUC0eDX"
      },
      "outputs": [],
      "source": [
        "class student(person):\n",
        "    pass"
      ]
    },
    {
      "cell_type": "code",
      "execution_count": null,
      "metadata": {
        "id": "KEyF_uPN0eDY",
        "outputId": "bdd62e44-8ad2-481a-d599-0ad3ffebaa1d"
      },
      "outputs": [
        {
          "name": "stdout",
          "output_type": "stream",
          "text": [
            "23\n"
          ]
        }
      ],
      "source": [
        "std1=student('ali', 23, 'Giza')\n",
        "print(std1.getAge())"
      ]
    },
    {
      "cell_type": "markdown",
      "metadata": {
        "id": "V5WIpRXd0eDY"
      },
      "source": [
        "## override the constructor from the child class\n"
      ]
    },
    {
      "cell_type": "code",
      "execution_count": null,
      "metadata": {
        "id": "JXGqfQA10eDY"
      },
      "outputs": [],
      "source": [
        "class person:\n",
        "    def __init__(self, name, age, address):\n",
        "        self.__name=name\n",
        "        self.__age=age\n",
        "        \n",
        "    def setName(self, name):\n",
        "        self.__name=name\n",
        "        \n",
        "    def setAge(self, age):\n",
        "        self.__age=age\n",
        "            \n",
        "    def setAddress(self, address):\n",
        "        self.__address=address\n",
        "    \n",
        "    def getName(self):\n",
        "        return self.__name\n",
        "        \n",
        "    def getAge(self):\n",
        "        return self.__age\n",
        "            \n",
        "    def getAddress(self):\n",
        "        return self.__address"
      ]
    },
    {
      "cell_type": "code",
      "execution_count": null,
      "metadata": {
        "id": "XOJTXzKx0eDZ"
      },
      "outputs": [],
      "source": [
        "class student(person):\n",
        "    def __init__(self, name, age, address, studied_courses, current_courses):\n",
        "        self.__name=name\n",
        "        self.__age=age\n",
        "        self.__address=address\n",
        "        self.__studied_courses=studied_courses\n",
        "        self.__current_courses=current_courses\n",
        "    \n",
        "    def setStudiedCourses(self, studiedCourses):\n",
        "        for i in range(len(studiedCourses)):\n",
        "            __studied_courses[i:]=studiedCourses\n",
        "    \n",
        "    def setCurrentCourses(self, CurrentCourses):\n",
        "        for i in range(len(CurrentCourses)):\n",
        "            __current_courses[i:]=CurrentCourses\n",
        "            \n",
        "    def getStudiedCourses(self):\n",
        "        return self.__studied_courses\n",
        "\n",
        "    def getCurrentCourses(self):\n",
        "        return self.__current_courses\n",
        "        \n",
        "    def printStudiedCourses(self):\n",
        "        sc=self.getStudiedCourses\n",
        "        for i in range(len(sc)):\n",
        "            print(sc[i])\n",
        "        \n",
        "    def printCurrentCourses(self):\n",
        "        cc=self.getCurrentCourses()\n",
        "        for i in range(len(cc)):\n",
        "            print(cc[i])"
      ]
    },
    {
      "cell_type": "code",
      "execution_count": null,
      "metadata": {
        "id": "XDq2dVnd0eDa",
        "outputId": "a73bcb1f-030c-4fc8-946e-4627b58022ee"
      },
      "outputs": [
        {
          "name": "stdout",
          "output_type": "stream",
          "text": [
            "CS522\n",
            "CS505\n"
          ]
        }
      ],
      "source": [
        "std2=student('ali', current_courses=['CS522', 'CS505'], age=23, studied_courses=['CS500', 'IT500', 'OR500', 'MS500', 'DB500'], address='Cairo')\n",
        "std2.printCurrentCourses()"
      ]
    },
    {
      "cell_type": "markdown",
      "metadata": {
        "id": "n1bqYOrR0eDa"
      },
      "source": [
        "## Calling the superclass constructor"
      ]
    },
    {
      "cell_type": "code",
      "execution_count": null,
      "metadata": {
        "id": "ShfrkD9X0eDb"
      },
      "outputs": [],
      "source": [
        "class person:\n",
        "    def __init__(self, name, age, address):\n",
        "        self.__name=name\n",
        "        self.__age=age\n",
        "        \n",
        "    def setName(self, name):\n",
        "        self.__name=name\n",
        "        \n",
        "    def setAge(self, age):\n",
        "        self.__age=age\n",
        "            \n",
        "    def setAddress(self, address):\n",
        "        self.__address=address\n",
        "    \n",
        "    def getName(self):\n",
        "        return self.__name\n",
        "        \n",
        "    def getAge(self):\n",
        "        return self.__age\n",
        "            \n",
        "    def getAddress(self):\n",
        "        return self.__address"
      ]
    },
    {
      "cell_type": "code",
      "execution_count": null,
      "metadata": {
        "id": "POMcb2pe0eDc"
      },
      "outputs": [],
      "source": [
        "class student(person):\n",
        "    def __init__(self, name, age, address, studied_courses, current_courses):\n",
        "        person.__init__(self, name, age, address)\n",
        "        self.__studied_courses=studied_courses\n",
        "        self.__current_courses=current_courses\n",
        "    \n",
        "    def setStudiedCourses(self, studiedCourses):\n",
        "        for i in range(len(studiedCourses)):\n",
        "            __studied_courses[i:]=studiedCourses\n",
        "    \n",
        "    def setCurrentCourses(self, CurrentCourses):\n",
        "        for i in range(len(CurrentCourses)):\n",
        "            __current_courses[i:]=CurrentCourses\n",
        "            \n",
        "    def getStudiedCourses(self):\n",
        "        return self.__studied_courses\n",
        "\n",
        "    def getCurrentCourses(self):\n",
        "        return self.__current_courses\n",
        "        \n",
        "    def printStudiedCourses(self):\n",
        "        sc=self.getStudiedCourses()\n",
        "        for i in range(len(sc)):\n",
        "            print(sc[i])\n",
        "        \n",
        "    def printCurrentCourses(self):\n",
        "        cc=self.getCurrentCourses()\n",
        "        for i in range(len(cc)):\n",
        "            print(cc[i])"
      ]
    },
    {
      "cell_type": "code",
      "execution_count": null,
      "metadata": {
        "id": "K-wOZ-B90eDc",
        "outputId": "7b56fe6a-a273-4c5f-dd65-ec32b0ac1122"
      },
      "outputs": [
        {
          "name": "stdout",
          "output_type": "stream",
          "text": [
            "CS522\n",
            "CS505\n"
          ]
        }
      ],
      "source": [
        "std2=student('ali', current_courses=['CS522', 'CS505'], age=23, studied_courses=['CS500', 'IT500', 'OR500', 'MS500', 'DB500'], address='Cairo')\n",
        "std2.printCurrentCourses()"
      ]
    },
    {
      "cell_type": "markdown",
      "metadata": {
        "id": "O0JTZXPe0eDd"
      },
      "source": [
        "## Calling the superclass constructor using super()"
      ]
    },
    {
      "cell_type": "code",
      "execution_count": null,
      "metadata": {
        "id": "RwC3KhFu0eDd"
      },
      "outputs": [],
      "source": [
        "class person:\n",
        "    def __init__(self, name, age, address):\n",
        "        self.__name=name\n",
        "        self.__age=age\n",
        "        \n",
        "    def setName(self, name):\n",
        "        self.__name=name\n",
        "        \n",
        "    def setAge(self, age):\n",
        "        self.__age=age\n",
        "            \n",
        "    def setAddress(self, address):\n",
        "        self.__address=address\n",
        "    \n",
        "    def getName(self):\n",
        "        return self.__name\n",
        "        \n",
        "    def getAge(self):\n",
        "        return self.__age\n",
        "            \n",
        "    def getAddress(self):\n",
        "        return self.__address"
      ]
    },
    {
      "cell_type": "code",
      "execution_count": null,
      "metadata": {
        "id": "m8WQm-c90eDe"
      },
      "outputs": [],
      "source": [
        "class student(person):\n",
        "    def __init__(self, name, age, address, studied_courses, current_courses):\n",
        "        super().__init__(name, age, address)\n",
        "        self.__studied_courses=studied_courses\n",
        "        self.__current_courses=current_courses\n",
        "    \n",
        "    def setStudiedCourses(self, studiedCourses):\n",
        "        for i in range(len(studiedCourses)):\n",
        "            __studied_courses[i:]=studiedCourses\n",
        "    \n",
        "    def setCurrentCourses(self, CurrentCourses):\n",
        "        for i in range(len(CurrentCourses)):\n",
        "            __current_courses[i:]=CurrentCourses\n",
        "            \n",
        "    def getStudiedCourses(self):\n",
        "        return self.__studied_courses\n",
        "\n",
        "    def getCurrentCourses(self):\n",
        "        return self.__current_courses\n",
        "        \n",
        "    def printStudiedCourses(self):\n",
        "        sc=self.getStudiedCourses\n",
        "        for i in range(len(sc)):\n",
        "            print(sc[i])\n",
        "        \n",
        "    def printCurrentCourses(self):\n",
        "        cc=self.getCurrentCourses()\n",
        "        for i in range(len(cc)):\n",
        "            print(cc[i])"
      ]
    },
    {
      "cell_type": "code",
      "execution_count": null,
      "metadata": {
        "id": "PDkKOO6O0eDf",
        "outputId": "17b1a59d-239b-41ad-87fd-7ff5b677a966"
      },
      "outputs": [
        {
          "name": "stdout",
          "output_type": "stream",
          "text": [
            "CS522\n",
            "CS505\n"
          ]
        }
      ],
      "source": [
        "std2=student('ali', current_courses=['CS522', 'CS505'], age=23, studied_courses=['CS500', 'IT500', 'OR500', 'MS500', 'DB500'], address='Cairo')\n",
        "std2.printCurrentCourses()"
      ]
    },
    {
      "cell_type": "markdown",
      "metadata": {
        "id": "jqjl8QpC0eDf"
      },
      "source": [
        "## Multi-level Inheritance\n"
      ]
    },
    {
      "cell_type": "code",
      "execution_count": null,
      "metadata": {
        "id": "bbc2dYa10eDf"
      },
      "outputs": [],
      "source": [
        "class livingOrganism:\n",
        "    def __init__(self, class_type, can_eat, can_drink, can_sleep):\n",
        "        self.__class_type=class_type\n",
        "        self.__can_eat=can_eat\n",
        "        self.__can_drink=can_drink\n",
        "        self.__can_sleep=can_sleep\n",
        "        \n",
        "    def setType(self, class_type):\n",
        "        self.__class_type=class_type\n",
        "      \n",
        "    def getType(self):\n",
        "        return self.__class_type          "
      ]
    },
    {
      "cell_type": "code",
      "execution_count": null,
      "metadata": {
        "id": "OHkP-w-90eDg"
      },
      "outputs": [],
      "source": [
        "class person(livingOrganism):\n",
        "    def __init__(self, name, age, address):\n",
        "        super().__init__('human',True, True, True )\n",
        "        self.__name=name\n",
        "        self.__age=age\n",
        "        \n",
        "    def setName(self, name):\n",
        "        self.__name=name\n",
        "        \n",
        "    def setAge(self, age):\n",
        "        self.__age=age\n",
        "            \n",
        "    def setAddress(self, address):\n",
        "        self.__address=address\n",
        "    \n",
        "    def getName(self):\n",
        "        return self.__name\n",
        "        \n",
        "    def getAge(self):\n",
        "        return self.__age\n",
        "            \n",
        "    def getAddress(self):\n",
        "        return self.__address"
      ]
    },
    {
      "cell_type": "code",
      "execution_count": null,
      "metadata": {
        "id": "GxG65OBA0eDg"
      },
      "outputs": [],
      "source": [
        "class student(person):\n",
        "    def __init__(self, name, age, address, studied_courses, current_courses):\n",
        "        super().__init__(name, age, address)\n",
        "        self.__studied_courses=studied_courses\n",
        "        self.__current_courses=current_courses\n",
        "    \n",
        "    def setStudiedCourses(self, studiedCourses):\n",
        "        for i in range(len(studiedCourses)):\n",
        "            __studied_courses[i:]=studiedCourses\n",
        "    \n",
        "    def setCurrentCourses(self, CurrentCourses):\n",
        "        for i in range(len(CurrentCourses)):\n",
        "            __current_courses[i:]=CurrentCourses\n",
        "            \n",
        "    def getStudiedCourses(self):\n",
        "        return self.__studied_courses\n",
        "\n",
        "    def getCurrentCourses(self):\n",
        "        return self.__current_courses\n",
        "        \n",
        "    def printStudiedCourses(self):\n",
        "        sc=self.getStudiedCourses\n",
        "        for i in range(len(sc)):\n",
        "            print(sc[i])\n",
        "        \n",
        "    def printCurrentCourses(self):\n",
        "        cc=self.getCurrentCourses()\n",
        "        for i in range(len(cc)):\n",
        "            print(cc[i])"
      ]
    },
    {
      "cell_type": "code",
      "execution_count": null,
      "metadata": {
        "id": "OfiHn_yX0eDh",
        "outputId": "f01b91b6-f17c-406d-8b09-198b7afed7a1"
      },
      "outputs": [
        {
          "name": "stdout",
          "output_type": "stream",
          "text": [
            "CS522\n",
            "CS505\n"
          ]
        },
        {
          "data": {
            "text/plain": [
              "'human'"
            ]
          },
          "execution_count": 82,
          "metadata": {},
          "output_type": "execute_result"
        }
      ],
      "source": [
        "std2=student('ali', current_courses=['CS522', 'CS505'], age=23, studied_courses=['CS500', 'IT500', 'OR500', 'MS500', 'DB500'], address='Cairo')\n",
        "std2.printCurrentCourses()\n",
        "std2.getType()"
      ]
    },
    {
      "cell_type": "markdown",
      "metadata": {
        "id": "Lby_oAhs0eDh"
      },
      "source": [
        "##  Inheritance Example"
      ]
    },
    {
      "cell_type": "code",
      "execution_count": null,
      "metadata": {
        "id": "fdTj2M7p0eDh"
      },
      "outputs": [],
      "source": [
        "class livingOrganism:\n",
        "    def __init__(self, class_type, can_eat, can_drink, can_sleep):\n",
        "        self.__class_type=class_type\n",
        "        self.__can_eat=can_eat\n",
        "        self.__can_drink=can_drink\n",
        "        self.__can_sleep=can_sleep\n",
        "        \n",
        "    def setType(self, class_type):\n",
        "        self.__class_type=class_type\n",
        "      \n",
        "    def getType(self):\n",
        "        return self.__class_type          "
      ]
    },
    {
      "cell_type": "code",
      "execution_count": null,
      "metadata": {
        "id": "FHYYLfc90eDi"
      },
      "outputs": [],
      "source": [
        "class person(livingOrganism):\n",
        "    def __init__(self, name, age, address):\n",
        "        super().__init__('human',True, True, True )\n",
        "        self.__name=name\n",
        "        self.__age=age\n",
        "        \n",
        "    def setName(self, name):\n",
        "        self.__name=name\n",
        "        \n",
        "    def setAge(self, age):\n",
        "        self.__age=age\n",
        "            \n",
        "    def setAddress(self, address):\n",
        "        self.__address=address\n",
        "    \n",
        "    def getName(self):\n",
        "        return self.__name\n",
        "        \n",
        "    def getAge(self):\n",
        "        return self.__age\n",
        "            \n",
        "    def getAddress(self):\n",
        "        return self.__address"
      ]
    },
    {
      "cell_type": "code",
      "execution_count": null,
      "metadata": {
        "id": "UgZpaReb0eDj"
      },
      "outputs": [],
      "source": [
        "class employee(person):\n",
        "    def __init__(self, name, age, address, department):\n",
        "        person.__init__(self, name, age, address)\n",
        "        self.__department=department\n",
        "    \n",
        "    def setDepartment(self, department):\n",
        "        self.__department=department\n",
        "    \n",
        "    def getDepartment(self):\n",
        "        return self.__department"
      ]
    },
    {
      "cell_type": "code",
      "execution_count": null,
      "metadata": {
        "id": "aG8QCbR80eDk"
      },
      "outputs": [],
      "source": [
        "class instructorStuff(employee):\n",
        "    def __init__(self, name, age, address, department, degree):\n",
        "        super().__init__(name, age, address, department)\n",
        "        self.__degree=degree\n",
        "    \n",
        "    def setDegree(self, degree):\n",
        "        self.__degree=degree\n",
        "        \n",
        "    def getDegree(self):\n",
        "        return self.__degree"
      ]
    },
    {
      "cell_type": "code",
      "execution_count": null,
      "metadata": {
        "id": "6xfj1ssV0eDk"
      },
      "outputs": [],
      "source": [
        "class adminstrationStuff(employee):\n",
        "    def __init__(self, name, age, address, department, position):\n",
        "        super().__init__(name, age, address, department)\n",
        "        self.__position=position\n",
        "    \n",
        "    def setPosition(self, position):\n",
        "        self.__position=position\n",
        "        \n",
        "    def getPosition(self):\n",
        "        return self.__position\n",
        "    "
      ]
    },
    {
      "cell_type": "code",
      "execution_count": null,
      "metadata": {
        "id": "lRlSW8el0eDl",
        "outputId": "afde1c76-d469-4187-868d-d7b82acdcd65"
      },
      "outputs": [
        {
          "name": "stdout",
          "output_type": "stream",
          "text": [
            "manager\n",
            "dept2\n",
            "Msc\n"
          ]
        }
      ],
      "source": [
        "a=adminstrationStuff('a', 12, 'C', 'dept', 'manager')\n",
        "a2=adminstrationStuff('a2', 22, 'C2', 'dept2', 'hr')\n",
        "i=instructorStuff('i', 22, 'Giza', 'dept2', 'Msc')\n",
        "print(a.getPosition())\n",
        "print(a2.getDepartment())\n",
        "print(i.getDegree())"
      ]
    },
    {
      "cell_type": "markdown",
      "metadata": {
        "id": "bLlA1ICv0eDl"
      },
      "source": [
        "## Multiple inheritance"
      ]
    },
    {
      "cell_type": "code",
      "execution_count": null,
      "metadata": {
        "id": "HrMjTrv30eDl"
      },
      "outputs": [],
      "source": [
        "class A:\n",
        "    def __init__(self, a, b):\n",
        "        self.__a=a\n",
        "        self.__b=b\n",
        "    \n",
        "    def setA(self, a):\n",
        "        self.__a=a\n",
        "    \n",
        "    def getA(self):\n",
        "        return self.__a"
      ]
    },
    {
      "cell_type": "code",
      "execution_count": null,
      "metadata": {
        "id": "-Ad2YWq-0eDn"
      },
      "outputs": [],
      "source": [
        "class B:\n",
        "    def __init__(self, x, y):\n",
        "        self.__x=x\n",
        "        self.__y=y\n",
        "    \n",
        "    def setY(self, y):\n",
        "        self.__y=y\n",
        "    \n",
        "    def getY(self):\n",
        "        return self.__y"
      ]
    },
    {
      "cell_type": "code",
      "execution_count": null,
      "metadata": {
        "id": "gAkczISa0eDo"
      },
      "outputs": [],
      "source": [
        "class C(A, B):\n",
        "    def __init__(self, a, b, x, y, m):\n",
        "        A.__init__(self, a, b)\n",
        "        B.__init__(self, x, y)\n",
        "        self.__m=m\n",
        "    \n",
        "    def setM(self, m):\n",
        "        self.__m=m\n",
        "        self.getM()\n",
        "    \n",
        "    def getM(self):\n",
        "        return self.__m"
      ]
    },
    {
      "cell_type": "code",
      "execution_count": null,
      "metadata": {
        "id": "bUSWf3Yl0eDp"
      },
      "outputs": [],
      "source": [
        "c=C(1, 2, 3, 4, 5)\n",
        "print(c.getA())\n",
        "c.setM(10)\n",
        "print(c.getM())"
      ]
    },
    {
      "cell_type": "markdown",
      "metadata": {
        "id": "nn4LinrG0eDp"
      },
      "source": [
        "# <font color=red>Abstract Class, Abstract Method"
      ]
    },
    {
      "cell_type": "code",
      "execution_count": null,
      "metadata": {
        "id": "nNTwajC20eDp",
        "outputId": "da720137-d672-42b6-c0f4-6e42c4d1b496"
      },
      "outputs": [
        {
          "name": "stdout",
          "output_type": "stream",
          "text": [
            "I have 3 sides\n",
            "I have 4 sides\n",
            "I have 5 sides\n",
            "I have 6 sides\n"
          ]
        }
      ],
      "source": [
        "# abstract base class work\n",
        "\n",
        "from abc import ABC, abstractmethod\n",
        "\n",
        "class Polygon(ABC):\n",
        "\n",
        "    @abstractmethod\n",
        "    def noofsides(self):\n",
        "        pass\n",
        "\n",
        "class Triangle(Polygon):\n",
        "\n",
        "    # overriding abstract method\n",
        "    def noofsides(self):\n",
        "        print(\"I have 3 sides\")\n",
        "\n",
        "class Pentagon(Polygon):\n",
        "\n",
        "    # overriding abstract method\n",
        "    def noofsides(self):\n",
        "        print(\"I have 5 sides\")\n",
        "\n",
        "class Hexagon(Polygon):\n",
        "\n",
        "    # overriding abstract method\n",
        "    def noofsides(self):\n",
        "        print(\"I have 6 sides\")\n",
        "\n",
        "class Quadrilateral(Polygon):\n",
        "\n",
        "    # overriding abstract method\n",
        "    def noofsides(self):\n",
        "        print(\"I have 4 sides\")\n",
        "\n",
        "\n",
        "R = Triangle()\n",
        "R.noofsides()\n",
        "\n",
        "K = Quadrilateral()\n",
        "K.noofsides()\n",
        "\n",
        "R = Pentagon()\n",
        "R.noofsides()\n",
        "\n",
        "K = Hexagon()\n",
        "K.noofsides()\n"
      ]
    },
    {
      "cell_type": "markdown",
      "metadata": {
        "id": "3_jVVAjA0eDq"
      },
      "source": [
        "## NOTE:\n",
        "   # Python Can't instantiate abstract class P with abstract methods"
      ]
    },
    {
      "cell_type": "code",
      "execution_count": null,
      "metadata": {
        "id": "1HPtcptK0eDq",
        "outputId": "8138cdff-390f-4173-c61e-332a89023889"
      },
      "outputs": [
        {
          "ename": "TypeError",
          "evalue": "Can't instantiate abstract class P with abstract methods noofsides, noofsides2",
          "output_type": "error",
          "traceback": [
            "\u001b[0;31m---------------------------------------------------------------------------\u001b[0m\n\u001b[0;31mTypeError\u001b[0m                                 Traceback (most recent call last)",
            "File \u001b[0;34m/home/z/anaconda3/lib/python3.7/site-packages/IPython/core/interactiveshell.py\u001b[0m, in \u001b[0;32mrun_code\u001b[0m:\nLine \u001b[0;34m3441\u001b[0m:  exec(code_obj, \u001b[36mself\u001b[39;49;00m.user_global_ns, \u001b[36mself\u001b[39;49;00m.user_ns)\n",
            "In  \u001b[0;34m[110]\u001b[0m:\nLine \u001b[0;34m12\u001b[0m:    p=P()\n",
            "\u001b[0;31mTypeError\u001b[0m: Can't instantiate abstract class P with abstract methods noofsides, noofsides2\n\u001b[0;31m---------------------------------------------------------------------------\u001b[0m"
          ]
        }
      ],
      "source": [
        "from abc import ABC, abstractmethod\n",
        "class P(ABC):\n",
        "\n",
        "    @abstractmethod\n",
        "    def noofsides(self):\n",
        "        pass\n",
        "    \n",
        "    @abstractmethod\n",
        "    def noofsides2(self):\n",
        "        pass\n",
        "\n",
        "p=P()"
      ]
    },
    {
      "cell_type": "markdown",
      "metadata": {
        "id": "H3pPQYAH0eDs"
      },
      "source": [
        "## Employee Example"
      ]
    },
    {
      "cell_type": "code",
      "execution_count": null,
      "metadata": {
        "id": "gqau8HM20eDs",
        "outputId": "23548d2d-53bd-4970-ad36-5d73dc3ef4f7"
      },
      "outputs": [
        {
          "name": "stdout",
          "output_type": "stream",
          "text": [
            "0.5\n",
            "ahmed\n",
            "20000\n",
            "120000.0\n"
          ]
        }
      ],
      "source": [
        "class employee:\n",
        "    __stat=13\n",
        "    __tax=0.2\n",
        "    \n",
        "    def __init__(self, name, age, address, position, salary):\n",
        "        self.__name=name\n",
        "        self.__age=age\n",
        "        self.__position=position\n",
        "        self.__address=address\n",
        "        self.__salary=salary\n",
        "        \n",
        "    def setName(a, name):\n",
        "        a.__name=name\n",
        "\n",
        "    def getName(self):\n",
        "        return self.__name\n",
        "    \n",
        "    def setAge(self, age):\n",
        "        self.__age=age\n",
        "\n",
        "    def setposition(self, position):\n",
        "        self.__position=position\n",
        "\n",
        "    def getposition(self):\n",
        "        return self.__position\n",
        "        \n",
        "    def getName(self):\n",
        "        return self.__name\n",
        "    \n",
        "    def setSalary(self, salary):\n",
        "        self.__salary=salary\n",
        "    \n",
        "    def getSalary(self):\n",
        "        return self.__salary\n",
        "    \n",
        "    def setStat(stat):\n",
        "        employee.__stat=stat\n",
        "    \n",
        "    def getStat():\n",
        "        return employee.__stat\n",
        "    \n",
        "\n",
        "        \n",
        "    def setTax(tax):\n",
        "        employee.__tax=tax\n",
        "    \n",
        "    def getTax():\n",
        "        return employee.__tax\n",
        "    \n",
        "\n",
        "    \n",
        "    def calNetAnnualSalary(self):\n",
        "        return (self.getSalary()-(self.getSalary()*employee.getTax()))*12\n",
        "\n",
        "\n",
        "employee.setTax(0.5)\n",
        "print(employee.getTax())\n",
        "e=employee('ahmed', 34, 'Cairo', 'manager', 20000)\n",
        "print(e.getName())\n",
        "print(e.getSalary())\n",
        "print(e.calNetAnnualSalary())"
      ]
    },
    {
      "cell_type": "code",
      "execution_count": null,
      "metadata": {
        "id": "HwU738ER0eDt",
        "outputId": "e1554efe-90fd-4763-92b5-153ae85f7d60"
      },
      "outputs": [
        {
          "name": "stdout",
          "output_type": "stream",
          "text": [
            "Requirement already satisfied: zope in ./anaconda3/lib/python3.7/site-packages (5.5.1)\n",
            "Requirement already satisfied: z3c.pt in ./anaconda3/lib/python3.7/site-packages (from zope) (3.3.1)\n",
            "Requirement already satisfied: zope.schema in ./anaconda3/lib/python3.7/site-packages (from zope) (6.2.0)\n",
            "Requirement already satisfied: zope.ptresource in ./anaconda3/lib/python3.7/site-packages (from zope) (4.3.0)\n",
            "Requirement already satisfied: Chameleon>=3.7.0 in ./anaconda3/lib/python3.7/site-packages (from zope) (3.10.1)\n",
            "Requirement already satisfied: transaction>=2.4 in ./anaconda3/lib/python3.7/site-packages (from zope) (3.0.1)\n",
            "Requirement already satisfied: zope.tales>=5.0.2 in ./anaconda3/lib/python3.7/site-packages (from zope) (5.1)\n",
            "Requirement already satisfied: zope.traversing in ./anaconda3/lib/python3.7/site-packages (from zope) (4.4.1)\n",
            "Requirement already satisfied: zExceptions>=3.4 in ./anaconda3/lib/python3.7/site-packages (from zope) (4.2)\n",
            "Requirement already satisfied: zope.component in ./anaconda3/lib/python3.7/site-packages (from zope) (5.0.1)\n",
            "Requirement already satisfied: zope.testing in ./anaconda3/lib/python3.7/site-packages (from zope) (4.10)\n",
            "Requirement already satisfied: zope.pagetemplate>=4.0.2 in ./anaconda3/lib/python3.7/site-packages (from zope) (4.6.0)\n",
            "Requirement already satisfied: zope.sequencesort in ./anaconda3/lib/python3.7/site-packages (from zope) (4.2)\n",
            "Requirement already satisfied: PasteDeploy in ./anaconda3/lib/python3.7/site-packages (from zope) (2.1.1)\n",
            "Requirement already satisfied: ZConfig>=2.9.2 in ./anaconda3/lib/python3.7/site-packages (from zope) (3.6.0)\n",
            "Requirement already satisfied: zope.configuration in ./anaconda3/lib/python3.7/site-packages (from zope) (4.4.1)\n",
            "Requirement already satisfied: ExtensionClass in ./anaconda3/lib/python3.7/site-packages (from zope) (4.6)\n",
            "Requirement already satisfied: zope.location in ./anaconda3/lib/python3.7/site-packages (from zope) (4.2)\n",
            "Requirement already satisfied: zope.tal in ./anaconda3/lib/python3.7/site-packages (from zope) (4.5)\n",
            "Requirement already satisfied: zope.exceptions in ./anaconda3/lib/python3.7/site-packages (from zope) (4.5)\n",
            "Requirement already satisfied: Persistence in ./anaconda3/lib/python3.7/site-packages (from zope) (3.3)\n",
            "Requirement already satisfied: MultiMapping in ./anaconda3/lib/python3.7/site-packages (from zope) (4.1)\n",
            "Requirement already satisfied: zope.globalrequest in ./anaconda3/lib/python3.7/site-packages (from zope) (1.5)\n",
            "Requirement already satisfied: zope.site in ./anaconda3/lib/python3.7/site-packages (from zope) (4.5.0)\n",
            "Requirement already satisfied: zope.processlifetime in ./anaconda3/lib/python3.7/site-packages (from zope) (2.3.0)\n",
            "Requirement already satisfied: zope.publisher in ./anaconda3/lib/python3.7/site-packages (from zope) (6.1.0)\n",
            "Requirement already satisfied: zope.viewlet in ./anaconda3/lib/python3.7/site-packages (from zope) (4.3)\n",
            "Requirement already satisfied: zope.lifecycleevent in ./anaconda3/lib/python3.7/site-packages (from zope) (4.4)\n",
            "Requirement already satisfied: DateTime in ./anaconda3/lib/python3.7/site-packages (from zope) (4.4)\n",
            "Requirement already satisfied: zope.proxy in ./anaconda3/lib/python3.7/site-packages (from zope) (4.5.0)\n",
            "Requirement already satisfied: setuptools>=36.2 in ./anaconda3/lib/python3.7/site-packages (from zope) (45.2.0.post20200210)\n",
            "Requirement already satisfied: AccessControl>=5.2 in ./anaconda3/lib/python3.7/site-packages (from zope) (5.3.1)\n",
            "Requirement already satisfied: RestrictedPython in ./anaconda3/lib/python3.7/site-packages (from zope) (5.2)\n",
            "Requirement already satisfied: DocumentTemplate>=4.0 in ./anaconda3/lib/python3.7/site-packages (from zope) (4.0)\n",
            "Requirement already satisfied: zope.browsermenu in ./anaconda3/lib/python3.7/site-packages (from zope) (4.4)\n",
            "Requirement already satisfied: Acquisition in ./anaconda3/lib/python3.7/site-packages (from zope) (4.10)\n",
            "Requirement already satisfied: ZODB in ./anaconda3/lib/python3.7/site-packages (from zope) (5.7.0)\n",
            "Requirement already satisfied: BTrees in ./anaconda3/lib/python3.7/site-packages (from zope) (4.10.0)\n",
            "Requirement already satisfied: zope.deferredimport in ./anaconda3/lib/python3.7/site-packages (from zope) (4.4)\n",
            "Requirement already satisfied: zope.browser in ./anaconda3/lib/python3.7/site-packages (from zope) (2.4)\n",
            "Requirement already satisfied: waitress in ./anaconda3/lib/python3.7/site-packages (from zope) (2.1.1)\n",
            "Requirement already satisfied: zope.event in ./anaconda3/lib/python3.7/site-packages (from zope) (4.5.0)\n",
            "Requirement already satisfied: zope.browserpage>=4.4.0.dev0 in ./anaconda3/lib/python3.7/site-packages (from zope) (4.4.0)\n",
            "Requirement already satisfied: zope.browserresource>=3.11 in ./anaconda3/lib/python3.7/site-packages (from zope) (4.4)\n",
            "Requirement already satisfied: zope.contentprovider in ./anaconda3/lib/python3.7/site-packages (from zope) (4.2.1)\n",
            "Requirement already satisfied: zope.interface>=3.8 in ./anaconda3/lib/python3.7/site-packages (from zope) (5.4.0)\n",
            "Requirement already satisfied: zope.testbrowser in ./anaconda3/lib/python3.7/site-packages (from zope) (5.6.1)\n",
            "Requirement already satisfied: zope.datetime in ./anaconda3/lib/python3.7/site-packages (from zope) (4.3.0)\n",
            "Requirement already satisfied: zope.security in ./anaconda3/lib/python3.7/site-packages (from zope) (5.3)\n",
            "Requirement already satisfied: zope.i18n[zcml] in ./anaconda3/lib/python3.7/site-packages (from zope) (4.9.0)\n",
            "Requirement already satisfied: zope.size in ./anaconda3/lib/python3.7/site-packages (from zope) (4.3)\n",
            "Requirement already satisfied: zope.container in ./anaconda3/lib/python3.7/site-packages (from zope) (4.5.0)\n",
            "Requirement already satisfied: zope.contenttype in ./anaconda3/lib/python3.7/site-packages (from zope) (4.5.0)\n",
            "Requirement already satisfied: zope.i18nmessageid in ./anaconda3/lib/python3.7/site-packages (from zope) (5.0.1)\n",
            "Requirement already satisfied: six in ./anaconda3/lib/python3.7/site-packages (from z3c.pt->zope) (1.14.0)\n",
            "Requirement already satisfied: zope.hookable>=4.2.0 in ./anaconda3/lib/python3.7/site-packages (from zope.component->zope) (5.1.0)\n",
            "Requirement already satisfied: persistent>=4.1.1 in ./anaconda3/lib/python3.7/site-packages (from Persistence->zope) (4.9.0)\n",
            "Requirement already satisfied: zope.deprecation in ./anaconda3/lib/python3.7/site-packages (from zope.site->zope) (4.4.0)\n",
            "Requirement already satisfied: zope.annotation in ./anaconda3/lib/python3.7/site-packages (from zope.site->zope) (4.7.0)\n",
            "Requirement already satisfied: multipart; python_version >= \"3\" in ./anaconda3/lib/python3.7/site-packages (from zope.publisher->zope) (0.2.4)\n",
            "Requirement already satisfied: pytz in ./anaconda3/lib/python3.7/site-packages (from DateTime->zope) (2019.3)\n",
            "Requirement already satisfied: AuthEncoding in ./anaconda3/lib/python3.7/site-packages (from AccessControl>=5.2->zope) (4.3)\n",
            "Requirement already satisfied: roman in ./anaconda3/lib/python3.7/site-packages (from DocumentTemplate>=4.0->zope) (3.3)\n",
            "Requirement already satisfied: zope.structuredtext in ./anaconda3/lib/python3.7/site-packages (from DocumentTemplate>=4.0->zope) (4.4)\n",
            "Requirement already satisfied: zc.lockfile in ./anaconda3/lib/python3.7/site-packages (from ZODB->zope) (2.0)\n",
            "Requirement already satisfied: zodbpickle>=1.0.1 in ./anaconda3/lib/python3.7/site-packages (from ZODB->zope) (2.3)\n",
            "Requirement already satisfied: SoupSieve>=1.9.0 in ./anaconda3/lib/python3.7/site-packages (from zope.testbrowser->zope) (1.9.5)\n",
            "Requirement already satisfied: WSGIProxy2 in ./anaconda3/lib/python3.7/site-packages (from zope.testbrowser->zope) (0.5.1)\n",
            "Requirement already satisfied: WebTest>=2.0.30 in ./anaconda3/lib/python3.7/site-packages (from zope.testbrowser->zope) (3.0.0)\n",
            "Requirement already satisfied: BeautifulSoup4 in ./anaconda3/lib/python3.7/site-packages (from zope.testbrowser->zope) (4.8.2)\n",
            "Requirement already satisfied: zope.cachedescriptors in ./anaconda3/lib/python3.7/site-packages (from zope.testbrowser->zope) (4.3.1)\n",
            "Requirement already satisfied: python-gettext in ./anaconda3/lib/python3.7/site-packages (from zope.i18n[zcml]->zope) (4.0)\n",
            "Requirement already satisfied: zope.filerepresentation in ./anaconda3/lib/python3.7/site-packages (from zope.container->zope) (5.0.0)\n",
            "Requirement already satisfied: zope.dottedname in ./anaconda3/lib/python3.7/site-packages (from zope.container->zope) (4.3)\n",
            "Requirement already satisfied: cffi; platform_python_implementation == \"CPython\" in ./anaconda3/lib/python3.7/site-packages (from persistent>=4.1.1->Persistence->zope) (1.14.0)\n",
            "Requirement already satisfied: webob in ./anaconda3/lib/python3.7/site-packages (from WSGIProxy2->zope.testbrowser->zope) (1.8.7)\n",
            "Requirement already satisfied: pycparser in ./anaconda3/lib/python3.7/site-packages (from cffi; platform_python_implementation == \"CPython\"->persistent>=4.1.1->Persistence->zope) (2.19)\n"
          ]
        }
      ],
      "source": [
        "!pip install zope"
      ]
    },
    {
      "cell_type": "markdown",
      "metadata": {
        "id": "8qfsUb-x0eDu"
      },
      "source": [
        "# <font color=red>Interface Class</font>\n",
        "\n",
        "<font color='green'>Syntax : </font>\n",
        "\n",
        "import zope.interface\n",
        "\n",
        "\n",
        "class MyInterface(zope.interface.Interface):\n",
        "\n",
        "     #methods without implementation"
      ]
    },
    {
      "cell_type": "code",
      "execution_count": null,
      "metadata": {
        "id": "m8vluYG40eDu"
      },
      "outputs": [],
      "source": [
        "import zope.interface\n",
        "\n",
        "\n",
        "class MyInterface(zope.interface.Interface):\n",
        "    x = zope.interface.Attribute(\"foo\")\n",
        "    def method1(self, x):\n",
        "        pass\n",
        "    def method2(self):\n",
        "        pass\n"
      ]
    },
    {
      "cell_type": "markdown",
      "metadata": {
        "id": "9XNEOiOj0eDv"
      },
      "source": [
        "# <font color=red>Implementer Class</font>\n",
        "\n",
        "<font color='green'>Syntax : </font>\n",
        "\n",
        "\n",
        "@zope.interface.implementer(*interfaces)\n",
        "\n",
        "class Class_name:\n",
        "\n",
        "    # methods"
      ]
    },
    {
      "cell_type": "code",
      "execution_count": null,
      "metadata": {
        "id": "wzbOVGt30eDv"
      },
      "outputs": [],
      "source": [
        "@zope.interface.implementer(MyInterface)\n",
        "class MyClass:\n",
        "    def method1(self, x):\n",
        "        return x**2\n",
        "    def method2(self):\n",
        "        return \"foo\"\n"
      ]
    },
    {
      "cell_type": "code",
      "execution_count": null,
      "metadata": {
        "scrolled": true,
        "id": "G-1qr3RY0eDw",
        "outputId": "b83097d6-6466-4338-da56-ce4e52a80136"
      },
      "outputs": [
        {
          "name": "stdout",
          "output_type": "stream",
          "text": [
            "ERROR: unknown command \"inatall\" - maybe you meant \"install\"\n"
          ]
        }
      ],
      "source": [
        "import zope.interface\n",
        "\n",
        "@zope.interface.implementer(MyInterface)\n",
        "class MyClass:\n",
        "    def method1(self, x):\n",
        "        return x**2\n",
        "    def method2(self):\n",
        "        return \"foo\"\n"
      ]
    },
    {
      "cell_type": "code",
      "execution_count": null,
      "metadata": {
        "id": "6FHEIfac0eDx",
        "outputId": "6d0d7b3f-5831-45b5-c93e-11fe3d0dc447"
      },
      "outputs": [
        {
          "name": "stdout",
          "output_type": "stream",
          "text": [
            "25\n",
            "foo\n"
          ]
        }
      ],
      "source": [
        "m=MyClass()\n",
        "print(m.method1(5))\n",
        "print(m.method2())"
      ]
    },
    {
      "cell_type": "markdown",
      "metadata": {
        "id": "Mwwv_UIv0eDy"
      },
      "source": [
        "# Interface Inheritance"
      ]
    },
    {
      "cell_type": "code",
      "execution_count": null,
      "metadata": {
        "id": "pKqBJw4Z0eDy",
        "outputId": "34a953a5-15e5-448e-c37b-8fd85a8f566d"
      },
      "outputs": [
        {
          "name": "stdout",
          "output_type": "stream",
          "text": [
            "27\n"
          ]
        }
      ],
      "source": [
        "import zope.interface\n",
        "\n",
        "\n",
        "class BaseI(zope.interface.Interface):\n",
        "    def m1(self, x):\n",
        "        pass\n",
        "    def m2(self):\n",
        "        pass\n",
        "\n",
        "class DerivedI(BaseI):\n",
        "    def m3(self, x, y):\n",
        "        pass\n",
        "\n",
        "@zope.interface.implementer(DerivedI)\n",
        "class cls:\n",
        "    def m1(self, z):\n",
        "        return z**3\n",
        "    def m2(self):\n",
        "        return 'foo'\n",
        "    def m3(self, x, y):\n",
        "        return x ^ y\n",
        "\n",
        "c=cls()\n",
        "print(c.m1(3))\n"
      ]
    },
    {
      "cell_type": "code",
      "execution_count": null,
      "metadata": {
        "id": "GRasAsGc0eDz"
      },
      "outputs": [],
      "source": [
        ""
      ]
    }
  ],
  "metadata": {
    "kernelspec": {
      "display_name": "Python 3.7 (XPython)",
      "language": "python",
      "name": "xpython"
    },
    "language_info": {
      "file_extension": ".py",
      "mimetype": "text/x-python",
      "name": "python",
      "version": "3.7.10"
    },
    "colab": {
      "name": "OOProg.ipynb",
      "provenance": [],
      "include_colab_link": true
    }
  },
  "nbformat": 4,
  "nbformat_minor": 0
}