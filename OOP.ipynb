{
 "cells": [
  {
   "cell_type": "markdown",
   "metadata": {},
   "source": [
    "## Creating an empty Class"
   ]
  },
  {
   "cell_type": "code",
   "execution_count": 3,
   "metadata": {},
   "outputs": [],
   "source": [
    "class myClass:\n",
    "    pass"
   ]
  },
  {
   "cell_type": "markdown",
   "metadata": {},
   "source": [
    "## Creating a Class Property"
   ]
  },
  {
   "cell_type": "code",
   "execution_count": 4,
   "metadata": {},
   "outputs": [],
   "source": [
    "class myClass:\n",
    "    x=5\n",
    "    y=8\n",
    "    z=[1, 2 , 4, 5,]"
   ]
  },
  {
   "cell_type": "markdown",
   "metadata": {},
   "source": [
    "## Creating a Class Object"
   ]
  },
  {
   "cell_type": "code",
   "execution_count": 5,
   "metadata": {},
   "outputs": [],
   "source": [
    "class myClass:\n",
    "    x=5\n",
    "    y=8\n",
    "    z=[1, 2 , 4, 5,]\n",
    "obj=myClass()"
   ]
  },
  {
   "cell_type": "markdown",
   "metadata": {},
   "source": [
    "## Access a Class Property From object"
   ]
  },
  {
   "cell_type": "code",
   "execution_count": 9,
   "metadata": {},
   "outputs": [
    {
     "name": "stdout",
     "output_type": "stream",
     "text": [
      "5\n"
     ]
    }
   ],
   "source": [
    "class myClass:\n",
    "    x=5\n",
    "    y=8\n",
    "    z=[1, 2 , 4, 5,]\n",
    "obj=myClass()\n",
    "print(obj.x)"
   ]
  },
  {
   "cell_type": "markdown",
   "metadata": {},
   "source": [
    "## Modify a class member from object"
   ]
  },
  {
   "cell_type": "code",
   "execution_count": 42,
   "metadata": {},
   "outputs": [
    {
     "name": "stdout",
     "output_type": "stream",
     "text": [
      "5\n",
      "aaaa\n"
     ]
    }
   ],
   "source": [
    "class myClass:\n",
    "    x=5\n",
    "    y=8\n",
    "    z=[1, 2 , 4, 5,]\n",
    "obj=myClass()\n",
    "print(obj.x)\n",
    "obj.x='aaaa'\n",
    "print(obj.x)"
   ]
  },
  {
   "cell_type": "markdown",
   "metadata": {},
   "source": [
    "## Creating a Class Member"
   ]
  },
  {
   "cell_type": "code",
   "execution_count": 12,
   "metadata": {},
   "outputs": [],
   "source": [
    "class myClass:\n",
    "    x=5\n",
    "    y=8\n",
    "    z=[1, 2 , 4, 5,]\n",
    "    def setX(self, x):\n",
    "        self.x=x\n",
    "    def setY(self, value):\n",
    "        self.y=value"
   ]
  },
  {
   "cell_type": "markdown",
   "metadata": {},
   "source": [
    "## Access a Class Member from object"
   ]
  },
  {
   "cell_type": "code",
   "execution_count": 15,
   "metadata": {},
   "outputs": [
    {
     "name": "stdout",
     "output_type": "stream",
     "text": [
      "25\n"
     ]
    }
   ],
   "source": [
    "class myClass:\n",
    "    x=5\n",
    "    y=8\n",
    "    z=[1, 2 , 4, 5,]\n",
    "    def setX(self, x):\n",
    "        self.x=x\n",
    "    def setY(self, value):\n",
    "        self.y=value\n",
    "    def getX(self):\n",
    "        return self.x\n",
    "obj=myClass()\n",
    "obj.setX(25)\n",
    "print(obj.getX())"
   ]
  },
  {
   "cell_type": "markdown",
   "metadata": {},
   "source": [
    "## Creating a Class Constructor"
   ]
  },
  {
   "cell_type": "code",
   "execution_count": 89,
   "metadata": {},
   "outputs": [
    {
     "name": "stdout",
     "output_type": "stream",
     "text": [
      "2\n",
      "ahmed\n"
     ]
    }
   ],
   "source": [
    "class myClass:\n",
    "    def __init__(self):\n",
    "        self.x=2\n",
    "        self.y='ali'\n",
    "        self.z=[1, 5, 'mm']\n",
    "        \n",
    "    def setX(self, x):\n",
    "        self.x=x\n",
    "    def setY(self, value):\n",
    "        self.y=value    \n",
    "    def setZ(self, value):\n",
    "        self.z=value\n",
    "        \n",
    "    def getX(self):\n",
    "        return self.x\n",
    "    def getY(self):\n",
    "        return self.y    \n",
    "    def getZ(self):\n",
    "        return self.z\n",
    "\n",
    "obj=myClass()\n",
    "print(obj.getX())\n",
    "obj.setX('ahmed')\n",
    "print(obj.getX())"
   ]
  },
  {
   "cell_type": "code",
   "execution_count": 90,
   "metadata": {},
   "outputs": [
    {
     "name": "stdout",
     "output_type": "stream",
     "text": [
      "ali\n",
      "ahmed\n"
     ]
    }
   ],
   "source": [
    "class myClass:\n",
    "    def __init__(self, a, b, c):\n",
    "        self.x=a\n",
    "        self.y=b\n",
    "        self.z=c\n",
    "        \n",
    "    def setX(self, x):\n",
    "        self.x=x\n",
    "    def setY(self, value):\n",
    "        self.y=value    \n",
    "    def setZ(self, value):\n",
    "        self.z=value\n",
    "        \n",
    "    def getX(self):\n",
    "        return self.x\n",
    "    def getY(self):\n",
    "        return self.y    \n",
    "    def getZ(self):\n",
    "        return self.z\n",
    "\n",
    "name, age, address='ali', 23, 'Giza'\n",
    "obj=myClass(name, age, address)\n",
    "print(obj.getX())\n",
    "obj.setX('ahmed')\n",
    "print(obj.getX())"
   ]
  },
  {
   "cell_type": "markdown",
   "metadata": {},
   "source": [
    "## Delete a class property"
   ]
  },
  {
   "cell_type": "code",
   "execution_count": 91,
   "metadata": {},
   "outputs": [
    {
     "name": "stdout",
     "output_type": "stream",
     "text": [
      "ali\n"
     ]
    }
   ],
   "source": [
    "class myClass:\n",
    "    def __init__(s, a, b, c):\n",
    "        s.x=a\n",
    "        s.y=b\n",
    "        s.z=c\n",
    "        \n",
    "    def setX(self, x):\n",
    "        self.x=x\n",
    "    def setY(self, value):\n",
    "        self.y=value    \n",
    "    def setZ(self, value):\n",
    "        self.z=value\n",
    "        \n",
    "    def getX(self):\n",
    "        return self.x\n",
    "    def getY(self):\n",
    "        return self.y    \n",
    "    def getZ(s):\n",
    "        return s.z\n",
    "\n",
    "    def deleteX(self):\n",
    "        del self.x\n",
    "    def deleteY(s):\n",
    "        del s.y\n",
    "    def deleteZ(t):\n",
    "        del t.z\n",
    "    \n",
    "name, age, address='ali', 23, 'Giza'\n",
    "obj=myClass(name, age, address)\n",
    "print(obj.getX())\n",
    "obj.deleteX()\n",
    "#print(obj.getX())"
   ]
  },
  {
   "cell_type": "markdown",
   "metadata": {},
   "source": [
    "## Determine the class of an object"
   ]
  },
  {
   "cell_type": "code",
   "execution_count": 92,
   "metadata": {},
   "outputs": [
    {
     "name": "stdout",
     "output_type": "stream",
     "text": [
      "<class '__main__.myClass'>\n"
     ]
    }
   ],
   "source": [
    "print(type(obj))"
   ]
  },
  {
   "cell_type": "markdown",
   "metadata": {},
   "source": [
    "## Delete an object"
   ]
  },
  {
   "cell_type": "code",
   "execution_count": 93,
   "metadata": {},
   "outputs": [
    {
     "name": "stdout",
     "output_type": "stream",
     "text": [
      "<class '__main__.myClass'>\n"
     ]
    }
   ],
   "source": [
    "print(type(obj))\n",
    "del obj\n",
    "#print(type(obj))"
   ]
  },
  {
   "cell_type": "code",
   "execution_count": 94,
   "metadata": {},
   "outputs": [
    {
     "name": "stdout",
     "output_type": "stream",
     "text": [
      "ali\n"
     ]
    }
   ],
   "source": [
    "class myClass:\n",
    "    def __init__(s, a, b, c):\n",
    "        s.x=a\n",
    "        s.y=b\n",
    "        s.z=c\n",
    "        \n",
    "    def setX(self, x):\n",
    "        self.x=x\n",
    "    def setY(self, value):\n",
    "        self.y=value    \n",
    "    def setZ(self, value):\n",
    "        self.z=value\n",
    "        \n",
    "    def getX(self):\n",
    "        return self.x\n",
    "    def getY(self):\n",
    "        return self.y    \n",
    "    def getZ(s):\n",
    "        return s.z\n",
    "\n",
    "    def deleteX(self):\n",
    "        del self.x\n",
    "    def deleteY(s):\n",
    "        del s.y\n",
    "    def deleteZ(t):\n",
    "        del t.z\n",
    "    \n",
    "name, age, address='ali', 23, 'Giza'\n",
    "obj=myClass(name, age, address)\n",
    "print(obj.getX())\n",
    "obj.deleteX()\n",
    "#print(obj.getX())"
   ]
  },
  {
   "cell_type": "code",
   "execution_count": 95,
   "metadata": {},
   "outputs": [
    {
     "name": "stdout",
     "output_type": "stream",
     "text": [
      "ali\n",
      "23\n",
      "1\n",
      "2\n",
      "3\n"
     ]
    }
   ],
   "source": [
    "class Class2:\n",
    "    def __init__(s, a, b, c, d):\n",
    "        s.x=a\n",
    "        s.y=b\n",
    "        s.z=c\n",
    "        \n",
    "    def setX(self, x):\n",
    "        self.x=x\n",
    "    def setY(self, value):\n",
    "        self.y=value    \n",
    "    def setZ(self, value):\n",
    "        self.z=value\n",
    "        \n",
    "    def getX(self):\n",
    "        return self.x\n",
    "    def getY(self):\n",
    "        return self.y    \n",
    "    def getZ(s):\n",
    "        return s.z\n",
    "\n",
    "    def deleteX(self):\n",
    "        del self.x\n",
    "    def deleteY(s):\n",
    "        del s.y\n",
    "    def deleteZ(t):\n",
    "        del t.z\n",
    "    \n",
    "\n",
    "name, age, y='ali', 23, myClass(1, 2, 3)\n",
    "obj=myClass(name, age, y)\n",
    "print(obj.getX())\n",
    "print(obj.getY())\n",
    "print(obj.getZ().getX())\n",
    "print(obj.getZ().getY())\n",
    "print(obj.getZ().getZ())"
   ]
  },
  {
   "cell_type": "markdown",
   "metadata": {},
   "source": [
    "## Inheritance\n",
    "## base class"
   ]
  },
  {
   "cell_type": "code",
   "execution_count": 96,
   "metadata": {},
   "outputs": [],
   "source": [
    "class person:\n",
    "    def __init__(self, name, age, address):\n",
    "        self.name=name\n",
    "        self.age=age\n",
    "        \n",
    "    def setName(self, name):\n",
    "        self.name=name\n",
    "        \n",
    "    def setAge(self, age):\n",
    "        self.age=age\n",
    "            \n",
    "    def setAddress(self, address):\n",
    "        self.address=address\n",
    "    \n",
    "    def getName(self):\n",
    "        return self.name\n",
    "        \n",
    "    def getAge(self):\n",
    "        return self.age\n",
    "            \n",
    "    def getAddress(self):\n",
    "        return self.address"
   ]
  },
  {
   "cell_type": "markdown",
   "metadata": {},
   "source": [
    "## Child class"
   ]
  },
  {
   "cell_type": "code",
   "execution_count": 97,
   "metadata": {},
   "outputs": [],
   "source": [
    "class student(person):\n",
    "    pass"
   ]
  },
  {
   "cell_type": "code",
   "execution_count": 98,
   "metadata": {},
   "outputs": [
    {
     "name": "stdout",
     "output_type": "stream",
     "text": [
      "23\n"
     ]
    }
   ],
   "source": [
    "std1=student('ali', 23, 'Giza')\n",
    "print(std1.getAge())"
   ]
  },
  {
   "cell_type": "markdown",
   "metadata": {},
   "source": [
    "## override the constructor from the child class"
   ]
  },
  {
   "cell_type": "code",
   "execution_count": 99,
   "metadata": {},
   "outputs": [],
   "source": [
    "class person:\n",
    "    def __init__(self, name, age, address):\n",
    "        self.name=name\n",
    "        self.age=age\n",
    "        \n",
    "    def setName(self, name):\n",
    "        self.name=name\n",
    "        \n",
    "    def setAge(self, age):\n",
    "        self.age=age\n",
    "            \n",
    "    def setAddress(self, address):\n",
    "        self.address=address\n",
    "    \n",
    "    def getName(self):\n",
    "        return self.name\n",
    "        \n",
    "    def getAge(self):\n",
    "        return self.age\n",
    "            \n",
    "    def getAddress(self):\n",
    "        return self.address"
   ]
  },
  {
   "cell_type": "code",
   "execution_count": 100,
   "metadata": {},
   "outputs": [],
   "source": [
    "class student(person):\n",
    "    def __init__(self, name, age, address, studied_courses, current_courses):\n",
    "        self.name=name\n",
    "        self.age=age\n",
    "        self.address=address\n",
    "        self.studied_courses=studied_courses\n",
    "        self.current_courses=current_courses\n",
    "    \n",
    "    def setStudiedCourses(self, studiedCourses):\n",
    "        for i in range(len(studiedCourses)):\n",
    "            studied_courses[i:]=studiedCourses\n",
    "    \n",
    "    def setCurrentCourses(self, CurrentCourses):\n",
    "        for i in range(len(CurrentCourses)):\n",
    "            current_courses[i:]=CurrentCourses\n",
    "            \n",
    "    def getStudiedCourses(self):\n",
    "        return self.studied_courses\n",
    "\n",
    "    def getCurrentCourses(self):\n",
    "        return self.current_courses\n",
    "        \n",
    "    def printStudiedCourses(self):\n",
    "        sc=self.getStudiedCourses\n",
    "        for i in range(len(sc)):\n",
    "            print(sc[i])\n",
    "        \n",
    "    def printCurrentCourses(self):\n",
    "        cc=self.getCurrentCourses()\n",
    "        for i in range(len(cc)):\n",
    "            print(cc[i])"
   ]
  },
  {
   "cell_type": "code",
   "execution_count": 101,
   "metadata": {},
   "outputs": [
    {
     "name": "stdout",
     "output_type": "stream",
     "text": [
      "CS522\n",
      "CS505\n"
     ]
    }
   ],
   "source": [
    "std2=student('ali', current_courses=['CS522', 'CS505'], age=23, studied_courses=['CS500', 'IT500', 'OR500', 'MS500', 'DB500'], address='Cairo')\n",
    "std2.printCurrentCourses()"
   ]
  },
  {
   "cell_type": "markdown",
   "metadata": {},
   "source": [
    "## Calling the superclass constructor"
   ]
  },
  {
   "cell_type": "code",
   "execution_count": 109,
   "metadata": {},
   "outputs": [],
   "source": [
    "class person:\n",
    "    def __init__(self, name, age, address):\n",
    "        self.name=name\n",
    "        self.age=age\n",
    "        \n",
    "    def setName(self, name):\n",
    "        self.name=name\n",
    "        \n",
    "    def setAge(self, age):\n",
    "        self.age=age\n",
    "            \n",
    "    def setAddress(self, address):\n",
    "        self.address=address\n",
    "    \n",
    "    def getName(self):\n",
    "        return self.name\n",
    "        \n",
    "    def getAge(self):\n",
    "        return self.age\n",
    "            \n",
    "    def getAddress(self):\n",
    "        return self.address"
   ]
  },
  {
   "cell_type": "code",
   "execution_count": 112,
   "metadata": {},
   "outputs": [],
   "source": [
    "class student(person):\n",
    "    def __init__(self, name, age, address, studied_courses, current_courses):\n",
    "        person.__init__(self, name, age, address)\n",
    "        self.studied_courses=studied_courses\n",
    "        self.current_courses=current_courses\n",
    "    \n",
    "    def setStudiedCourses(self, studiedCourses):\n",
    "        for i in range(len(studiedCourses)):\n",
    "            studied_courses[i:]=studiedCourses\n",
    "    \n",
    "    def setCurrentCourses(self, CurrentCourses):\n",
    "        for i in range(len(CurrentCourses)):\n",
    "            current_courses[i:]=CurrentCourses\n",
    "            \n",
    "    def getStudiedCourses(self):\n",
    "        return self.studied_courses\n",
    "\n",
    "    def getCurrentCourses(self):\n",
    "        return self.current_courses\n",
    "        \n",
    "    def printStudiedCourses(self):\n",
    "        sc=self.getStudiedCourses\n",
    "        for i in range(len(sc)):\n",
    "            print(sc[i])\n",
    "        \n",
    "    def printCurrentCourses(self):\n",
    "        cc=self.getCurrentCourses()\n",
    "        for i in range(len(cc)):\n",
    "            print(cc[i])"
   ]
  },
  {
   "cell_type": "code",
   "execution_count": 113,
   "metadata": {},
   "outputs": [
    {
     "name": "stdout",
     "output_type": "stream",
     "text": [
      "CS522\n",
      "CS505\n"
     ]
    }
   ],
   "source": [
    "std2=student('ali', current_courses=['CS522', 'CS505'], age=23, studied_courses=['CS500', 'IT500', 'OR500', 'MS500', 'DB500'], address='Cairo')\n",
    "std2.printCurrentCourses()"
   ]
  },
  {
   "cell_type": "markdown",
   "metadata": {},
   "source": [
    "## Calling the superclass constructor using super()"
   ]
  },
  {
   "cell_type": "code",
   "execution_count": 114,
   "metadata": {},
   "outputs": [],
   "source": [
    "class person:\n",
    "    def __init__(self, name, age, address):\n",
    "        self.name=name\n",
    "        self.age=age\n",
    "        \n",
    "    def setName(self, name):\n",
    "        self.name=name\n",
    "        \n",
    "    def setAge(self, age):\n",
    "        self.age=age\n",
    "            \n",
    "    def setAddress(self, address):\n",
    "        self.address=address\n",
    "    \n",
    "    def getName(self):\n",
    "        return self.name\n",
    "        \n",
    "    def getAge(self):\n",
    "        return self.age\n",
    "            \n",
    "    def getAddress(self):\n",
    "        return self.address"
   ]
  },
  {
   "cell_type": "code",
   "execution_count": 115,
   "metadata": {},
   "outputs": [],
   "source": [
    "class student(person):\n",
    "    def __init__(self, name, age, address, studied_courses, current_courses):\n",
    "        super().__init__(name, age, address)\n",
    "        self.studied_courses=studied_courses\n",
    "        self.current_courses=current_courses\n",
    "    \n",
    "    def setStudiedCourses(self, studiedCourses):\n",
    "        for i in range(len(studiedCourses)):\n",
    "            studied_courses[i:]=studiedCourses\n",
    "    \n",
    "    def setCurrentCourses(self, CurrentCourses):\n",
    "        for i in range(len(CurrentCourses)):\n",
    "            current_courses[i:]=CurrentCourses\n",
    "            \n",
    "    def getStudiedCourses(self):\n",
    "        return self.studied_courses\n",
    "\n",
    "    def getCurrentCourses(self):\n",
    "        return self.current_courses\n",
    "        \n",
    "    def printStudiedCourses(self):\n",
    "        sc=self.getStudiedCourses\n",
    "        for i in range(len(sc)):\n",
    "            print(sc[i])\n",
    "        \n",
    "    def printCurrentCourses(self):\n",
    "        cc=self.getCurrentCourses()\n",
    "        for i in range(len(cc)):\n",
    "            print(cc[i])"
   ]
  },
  {
   "cell_type": "code",
   "execution_count": 116,
   "metadata": {},
   "outputs": [
    {
     "name": "stdout",
     "output_type": "stream",
     "text": [
      "CS522\n",
      "CS505\n"
     ]
    }
   ],
   "source": [
    "std2=student('ali', current_courses=['CS522', 'CS505'], age=23, studied_courses=['CS500', 'IT500', 'OR500', 'MS500', 'DB500'], address='Cairo')\n",
    "std2.printCurrentCourses()"
   ]
  },
  {
   "cell_type": "markdown",
   "metadata": {},
   "source": [
    "## Multi-level Inheritance\n"
   ]
  },
  {
   "cell_type": "code",
   "execution_count": 121,
   "metadata": {},
   "outputs": [],
   "source": [
    "class livingOrganism:\n",
    "    def __init__(self, class_type, can_eat, can_drink, can_sleep):\n",
    "        self.class_type=class_type\n",
    "        self.can_eat=can_eat\n",
    "        self.can_drink=can_drink\n",
    "        self.can_sleep=can_sleep\n",
    "        \n",
    "    def setType(self, class_type):\n",
    "        self.class_type=class_type\n",
    "      \n",
    "    def getType(self):\n",
    "        return self.class_type          "
   ]
  },
  {
   "cell_type": "code",
   "execution_count": 122,
   "metadata": {},
   "outputs": [],
   "source": [
    "class person(livingOrganism):\n",
    "    def __init__(self, name, age, address):\n",
    "        super().__init__('human',True, True, True )\n",
    "        self.name=name\n",
    "        self.age=age\n",
    "        \n",
    "    def setName(self, name):\n",
    "        self.name=name\n",
    "        \n",
    "    def setAge(self, age):\n",
    "        self.age=age\n",
    "            \n",
    "    def setAddress(self, address):\n",
    "        self.address=address\n",
    "    \n",
    "    def getName(self):\n",
    "        return self.name\n",
    "        \n",
    "    def getAge(self):\n",
    "        return self.age\n",
    "            \n",
    "    def getAddress(self):\n",
    "        return self.address"
   ]
  },
  {
   "cell_type": "code",
   "execution_count": 123,
   "metadata": {},
   "outputs": [],
   "source": [
    "class student(person):\n",
    "    def __init__(self, name, age, address, studied_courses, current_courses):\n",
    "        super().__init__(name, age, address)\n",
    "        self.studied_courses=studied_courses\n",
    "        self.current_courses=current_courses\n",
    "    \n",
    "    def setStudiedCourses(self, studiedCourses):\n",
    "        for i in range(len(studiedCourses)):\n",
    "            studied_courses[i:]=studiedCourses\n",
    "    \n",
    "    def setCurrentCourses(self, CurrentCourses):\n",
    "        for i in range(len(CurrentCourses)):\n",
    "            current_courses[i:]=CurrentCourses\n",
    "            \n",
    "    def getStudiedCourses(self):\n",
    "        return self.studied_courses\n",
    "\n",
    "    def getCurrentCourses(self):\n",
    "        return self.current_courses\n",
    "        \n",
    "    def printStudiedCourses(self):\n",
    "        sc=self.getStudiedCourses\n",
    "        for i in range(len(sc)):\n",
    "            print(sc[i])\n",
    "        \n",
    "    def printCurrentCourses(self):\n",
    "        cc=self.getCurrentCourses()\n",
    "        for i in range(len(cc)):\n",
    "            print(cc[i])"
   ]
  },
  {
   "cell_type": "code",
   "execution_count": 124,
   "metadata": {},
   "outputs": [
    {
     "name": "stdout",
     "output_type": "stream",
     "text": [
      "CS522\n",
      "CS505\n"
     ]
    },
    {
     "data": {
      "text/plain": [
       "'human'"
      ]
     },
     "execution_count": 124,
     "metadata": {},
     "output_type": "execute_result"
    }
   ],
   "source": [
    "std2=student('ali', current_courses=['CS522', 'CS505'], age=23, studied_courses=['CS500', 'IT500', 'OR500', 'MS500', 'DB500'], address='Cairo')\n",
    "std2.printCurrentCourses()\n",
    "std2.getType()"
   ]
  },
  {
   "cell_type": "markdown",
   "metadata": {},
   "source": [
    "##  Inheritance Example"
   ]
  },
  {
   "cell_type": "code",
   "execution_count": 16,
   "metadata": {},
   "outputs": [],
   "source": [
    "class livingOrganism:\n",
    "    def __init__(self, class_type, can_eat, can_drink, can_sleep):\n",
    "        self.class_type=class_type\n",
    "        self.can_eat=can_eat\n",
    "        self.can_drink=can_drink\n",
    "        self.can_sleep=can_sleep\n",
    "        \n",
    "    def setType(self, class_type):\n",
    "        self.class_type=class_type\n",
    "      \n",
    "    def getType(self):\n",
    "        return self.class_type          "
   ]
  },
  {
   "cell_type": "code",
   "execution_count": 22,
   "metadata": {},
   "outputs": [],
   "source": [
    "class person(livingOrganism):\n",
    "    def __init__(self, name, age, address):\n",
    "        super().__init__('human',True, True, True )\n",
    "        self.name=name\n",
    "        self.age=age\n",
    "        \n",
    "    def setName(self, name):\n",
    "        self.name=name\n",
    "        \n",
    "    def setAge(self, age):\n",
    "        self.age=age\n",
    "            \n",
    "    def setAddress(self, address):\n",
    "        self.address=address\n",
    "    \n",
    "    def getName(self):\n",
    "        return self.name\n",
    "        \n",
    "    def getAge(self):\n",
    "        return self.age\n",
    "            \n",
    "    def getAddress(self):\n",
    "        return self.address"
   ]
  },
  {
   "cell_type": "code",
   "execution_count": 23,
   "metadata": {},
   "outputs": [],
   "source": [
    "class employee(person):\n",
    "    def __init__(self, name, age, address, department):\n",
    "        person.__init__(self, name, age, address)\n",
    "        self.department=department\n",
    "    \n",
    "    def setDepartment(self, department):\n",
    "        self.department=department\n",
    "    \n",
    "    def getDepartment(self):\n",
    "        return self.department"
   ]
  },
  {
   "cell_type": "code",
   "execution_count": 27,
   "metadata": {},
   "outputs": [],
   "source": [
    "class instructorStuff(employee):\n",
    "    def __init__(self, name, age, address, department, degree):\n",
    "        super().__init__(name, age, address, department)\n",
    "        self.degree=degree\n",
    "    \n",
    "    def setDegree(self, degree):\n",
    "        self.degree=degree\n",
    "        \n",
    "    def getDegree(self):\n",
    "        return self.degree"
   ]
  },
  {
   "cell_type": "code",
   "execution_count": 28,
   "metadata": {},
   "outputs": [],
   "source": [
    "class adminstrationStuff(employee):\n",
    "    def __init__(self, name, age, address, department, position):\n",
    "        super().__init__(name, age, address, department)\n",
    "        self.position=position\n",
    "    \n",
    "    def setPosition(self, position):\n",
    "        self.position=position\n",
    "        \n",
    "    def getPosition(self):\n",
    "        return self.position\n",
    "    "
   ]
  },
  {
   "cell_type": "code",
   "execution_count": 32,
   "metadata": {},
   "outputs": [
    {
     "name": "stdout",
     "output_type": "stream",
     "text": [
      "manager\n",
      "dept2\n",
      "Msc\n"
     ]
    }
   ],
   "source": [
    "a=adminstrationStuff('a', 12, 'C', 'dept', 'manager')\n",
    "a2=adminstrationStuff('a2', 22, 'C2', 'dept2', 'hr')\n",
    "i=instructorStuff('i', 22, 'Giza', 'dept2', 'Msc')\n",
    "print(a.getPosition())\n",
    "print(a2.getDepartment())\n",
    "print(i.getDegree())"
   ]
  },
  {
   "cell_type": "markdown",
   "metadata": {},
   "source": [
    "## Multiple inheritance"
   ]
  },
  {
   "cell_type": "code",
   "execution_count": 42,
   "metadata": {},
   "outputs": [],
   "source": [
    "class A:\n",
    "    def __init__(self, a, b):\n",
    "        self.a=a\n",
    "        self.b=b\n",
    "    \n",
    "    def setA(self, a):\n",
    "        self.a=a\n",
    "    \n",
    "    def getA(self):\n",
    "        return self.a"
   ]
  },
  {
   "cell_type": "code",
   "execution_count": 43,
   "metadata": {},
   "outputs": [],
   "source": [
    "class B:\n",
    "    def __init__(self, x, y):\n",
    "        self.x=x\n",
    "        self.y=y\n",
    "    \n",
    "    def setY(self, y):\n",
    "        self.y=y\n",
    "    \n",
    "    def getY(self):\n",
    "        return self.y"
   ]
  },
  {
   "cell_type": "code",
   "execution_count": 65,
   "metadata": {},
   "outputs": [],
   "source": [
    "class C(A, B):\n",
    "    def __init__(self, a, b, x, y, m):\n",
    "        A.__init__(self, a, b)\n",
    "        B.__init__(self, x, y)\n",
    "        self.m=m\n",
    "    \n",
    "    def setM(self, m):\n",
    "        self.m=m\n",
    "        self.getM()\n",
    "    \n",
    "    def getM(self):\n",
    "        return self.m"
   ]
  },
  {
   "cell_type": "code",
   "execution_count": 67,
   "metadata": {},
   "outputs": [
    {
     "name": "stdout",
     "output_type": "stream",
     "text": [
      "1\n",
      "10\n"
     ]
    }
   ],
   "source": [
    "c=C(1, 2, 3, 4, 5)\n",
    "print(c.getA())\n",
    "c.setM(10)\n",
    "print(c.getM())"
   ]
  },
  {
   "cell_type": "markdown",
   "metadata": {},
   "source": [
    "## Static Variables"
   ]
  },
  {
   "cell_type": "code",
   "execution_count": 115,
   "metadata": {},
   "outputs": [],
   "source": [
    "class C(A, B):\n",
    "    #Static variable\n",
    "    stat=234\n",
    "    \n",
    "    def __init__(self, a, b, x, y, m):\n",
    "        A.__init__(self, a, b)\n",
    "        B.__init__(self, x, y)\n",
    "        self.m=m\n",
    "\n",
    "    \n",
    "    def setM(self, m):\n",
    "        self.m=m\n",
    "        self.getM()\n",
    "    \n",
    "    def getM(self):\n",
    "        return self.m + C.getStat()\n",
    "    \n",
    "    #@staticmethod\n",
    "    def setStat(stat):\n",
    "        C.stat=stat\n",
    "        \n",
    "    def getStat():\n",
    "        return C.stat"
   ]
  },
  {
   "cell_type": "code",
   "execution_count": 116,
   "metadata": {},
   "outputs": [
    {
     "name": "stdout",
     "output_type": "stream",
     "text": [
      "1\n",
      "244\n",
      "234\n",
      "23\n"
     ]
    }
   ],
   "source": [
    "c=C(1, 2, 3, 4, 5)\n",
    "print(c.getA())\n",
    "c.setM(10)\n",
    "print(c.getM())\n",
    "c=C(1, 2, 3, 4, 5)\n",
    "print(C.getStat())\n",
    "C.setStat(23)\n",
    "print(C.getStat())"
   ]
  },
  {
   "cell_type": "markdown",
   "metadata": {},
   "source": [
    "## Static method example"
   ]
  },
  {
   "cell_type": "code",
   "execution_count": 117,
   "metadata": {},
   "outputs": [
    {
     "name": "stdout",
     "output_type": "stream",
     "text": [
      "Welcome to Shape class\n",
      "This class is used for representing different shapes.\n",
      "\n",
      "Shape is of category:  Geometrical\n",
      "And shape is:  Triangle\n",
      "Shape is of category:  Geometrical\n",
      "And shape is:  Square\n",
      "Shape is of category:  Geometrical\n",
      "And shape is:  Circle\n"
     ]
    }
   ],
   "source": [
    "class Shape:\n",
    "    # class or static variable \n",
    "    cat = 'Geometrical'\n",
    "    \n",
    "    def __init__(self, type):\n",
    "        # instance variable\n",
    "        self.type = type\n",
    "    \n",
    "    # method to show data\n",
    "    def show(self):\n",
    "        # accessing class variable\n",
    "        print('Shape is of category: ', Shape.cat)\n",
    "        # accessing instance variable\n",
    "        print('And shape is: ', self.type)\n",
    "\n",
    "    def info(msg):\n",
    "        # show custom message\n",
    "        print(msg)\n",
    "        print(\"This class is used for representing different shapes.\\n\")\n",
    "\n",
    "        \n",
    "Shape.info('Welcome to Shape class')\n",
    "\n",
    "tr = Shape('Triangle')\n",
    "sq = Shape('Square')\n",
    "rec = Shape('Circle')\n",
    "\n",
    "\n",
    "tr.show()\n",
    "sq.show()\n",
    "rec.show()\n"
   ]
  },
  {
   "cell_type": "code",
   "execution_count": null,
   "metadata": {},
   "outputs": [],
   "source": []
  },
  {
   "cell_type": "code",
   "execution_count": null,
   "metadata": {},
   "outputs": [],
   "source": []
  }
 ],
 "metadata": {
  "kernelspec": {
   "display_name": "Python 3",
   "language": "python",
   "name": "python3"
  },
  "language_info": {
   "codemirror_mode": {
    "name": "ipython",
    "version": 3
   },
   "file_extension": ".py",
   "mimetype": "text/x-python",
   "name": "python",
   "nbconvert_exporter": "python",
   "pygments_lexer": "ipython3",
   "version": "3.7.6"
  }
 },
 "nbformat": 4,
 "nbformat_minor": 4
}
