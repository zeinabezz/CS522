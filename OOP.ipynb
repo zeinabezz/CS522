{
 "cells": [
  {
   "cell_type": "markdown",
   "metadata": {},
   "source": [
    "## Creating an empty Class"
   ]
  },
  {
   "cell_type": "code",
   "execution_count": 3,
   "metadata": {},
   "outputs": [],
   "source": [
    "class myClass:\n",
    "    pass"
   ]
  },
  {
   "cell_type": "markdown",
   "metadata": {},
   "source": [
    "## Creating a Class Property"
   ]
  },
  {
   "cell_type": "code",
   "execution_count": 4,
   "metadata": {},
   "outputs": [],
   "source": [
    "class myClass:\n",
    "    x=5\n",
    "    y=8\n",
    "    z=[1, 2 , 4, 5,]"
   ]
  },
  {
   "cell_type": "markdown",
   "metadata": {},
   "source": [
    "## Creating a Class Object"
   ]
  },
  {
   "cell_type": "code",
   "execution_count": 5,
   "metadata": {},
   "outputs": [],
   "source": [
    "class myClass:\n",
    "    x=5\n",
    "    y=8\n",
    "    z=[1, 2 , 4, 5,]\n",
    "obj=myClass()"
   ]
  },
  {
   "cell_type": "markdown",
   "metadata": {},
   "source": [
    "## Access a Class Property"
   ]
  },
  {
   "cell_type": "code",
   "execution_count": 118,
   "metadata": {},
   "outputs": [
    {
     "name": "stdout",
     "output_type": "stream",
     "text": [
      "5\n"
     ]
    }
   ],
   "source": [
    "class myClass:\n",
    "    x=5\n",
    "    y=8\n",
    "    z=[1, 2 , 4, 5,]\n",
    "\n",
    "print(myClass.x)"
   ]
  },
  {
   "cell_type": "markdown",
   "metadata": {},
   "source": [
    "## Modify a class member from object"
   ]
  },
  {
   "cell_type": "code",
   "execution_count": 1,
   "metadata": {},
   "outputs": [
    {
     "name": "stdout",
     "output_type": "stream",
     "text": [
      "5\n",
      "aaaa\n"
     ]
    }
   ],
   "source": [
    "class myClass:\n",
    "    x=5\n",
    "    y=8\n",
    "    z=[1, 2 , 4, 5,]\n",
    "\n",
    "print(myClass.x)\n",
    "myClass.x='aaaa'\n",
    "print(myClass.x)"
   ]
  },
  {
   "cell_type": "markdown",
   "metadata": {},
   "source": [
    "## Creating private class member"
   ]
  },
  {
   "cell_type": "code",
   "execution_count": 3,
   "metadata": {},
   "outputs": [
    {
     "ename": "AttributeError",
     "evalue": "type object 'myClass' has no attribute 'x'",
     "output_type": "error",
     "traceback": [
      "\u001b[0;31m---------------------------------------------------------------------------\u001b[0m",
      "\u001b[0;31mAttributeError\u001b[0m                            Traceback (most recent call last)",
      "\u001b[0;32m<ipython-input-3-c30dbdcfa2ff>\u001b[0m in \u001b[0;36m<module>\u001b[0;34m\u001b[0m\n\u001b[1;32m      4\u001b[0m     \u001b[0m__z\u001b[0m\u001b[0;34m=\u001b[0m\u001b[0;34m[\u001b[0m\u001b[0;36m1\u001b[0m\u001b[0;34m,\u001b[0m \u001b[0;36m2\u001b[0m \u001b[0;34m,\u001b[0m \u001b[0;36m4\u001b[0m\u001b[0;34m,\u001b[0m \u001b[0;36m5\u001b[0m\u001b[0;34m,\u001b[0m\u001b[0;34m]\u001b[0m\u001b[0;34m\u001b[0m\u001b[0;34m\u001b[0m\u001b[0m\n\u001b[1;32m      5\u001b[0m \u001b[0;34m\u001b[0m\u001b[0m\n\u001b[0;32m----> 6\u001b[0;31m \u001b[0mprint\u001b[0m\u001b[0;34m(\u001b[0m\u001b[0mmyClass\u001b[0m\u001b[0;34m.\u001b[0m\u001b[0mx\u001b[0m\u001b[0;34m)\u001b[0m\u001b[0;34m\u001b[0m\u001b[0;34m\u001b[0m\u001b[0m\n\u001b[0m\u001b[1;32m      7\u001b[0m \u001b[0mmyClass\u001b[0m\u001b[0;34m.\u001b[0m\u001b[0mx\u001b[0m\u001b[0;34m=\u001b[0m\u001b[0;34m'aaaa'\u001b[0m\u001b[0;34m\u001b[0m\u001b[0;34m\u001b[0m\u001b[0m\n\u001b[1;32m      8\u001b[0m \u001b[0mprint\u001b[0m\u001b[0;34m(\u001b[0m\u001b[0mmyClass\u001b[0m\u001b[0;34m.\u001b[0m\u001b[0mx\u001b[0m\u001b[0;34m)\u001b[0m\u001b[0;34m\u001b[0m\u001b[0;34m\u001b[0m\u001b[0m\n",
      "\u001b[0;31mAttributeError\u001b[0m: type object 'myClass' has no attribute 'x'"
     ]
    }
   ],
   "source": [
    "class myClass:\n",
    "    __x=5\n",
    "    __y=8\n",
    "    __z=[1, 2 , 4, 5,]\n",
    "\n",
    "print(myClass.x)\n",
    "myClass.x='aaaa'\n",
    "print(myClass.x)"
   ]
  },
  {
   "cell_type": "markdown",
   "metadata": {},
   "source": [
    "## Creating Class Members setter and getter"
   ]
  },
  {
   "cell_type": "code",
   "execution_count": 5,
   "metadata": {},
   "outputs": [],
   "source": [
    "class myClass:\n",
    "    __x=5\n",
    "    __y=8\n",
    "    __z=[1, 2 , 4, 5,]\n",
    "    \n",
    "    def setX(x):\n",
    "        myClass.__x=x\n",
    "    def setY(value):\n",
    "        myClass.__y=value\n",
    "    def getX():\n",
    "        return myClass.__x\n",
    "    def getY():\n",
    "        return myClass.__y"
   ]
  },
  {
   "cell_type": "markdown",
   "metadata": {},
   "source": [
    "## Access a Class Member from setter and getter"
   ]
  },
  {
   "cell_type": "code",
   "execution_count": 7,
   "metadata": {},
   "outputs": [
    {
     "name": "stdout",
     "output_type": "stream",
     "text": [
      "5\n",
      "25\n"
     ]
    }
   ],
   "source": [
    "class myClass:\n",
    "    __x=5\n",
    "    __y=8\n",
    "    __z=[1, 2 , 4, 5,]\n",
    "    \n",
    "    def setX(x):\n",
    "        myClass.__x=x\n",
    "    def setY(value):\n",
    "        myClass.__y=value\n",
    "    def getX():\n",
    "        return myClass.__x\n",
    "    def getY():\n",
    "        return myClass.__y\n",
    "\n",
    "print(myClass.getX())\n",
    "myClass.setX(25)\n",
    "print(myClass.getX())"
   ]
  },
  {
   "cell_type": "markdown",
   "metadata": {},
   "source": [
    "## Creating a Class Constructor"
   ]
  },
  {
   "cell_type": "code",
   "execution_count": 8,
   "metadata": {},
   "outputs": [
    {
     "name": "stdout",
     "output_type": "stream",
     "text": [
      "2\n",
      "ahmed\n"
     ]
    }
   ],
   "source": [
    "class myClass:\n",
    "    def __init__(self):\n",
    "        self.__x=2\n",
    "        self.__y='ali'\n",
    "        self.__z=[1, 5, 'mm']\n",
    "        \n",
    "    def setX(self, x):\n",
    "        self.__x=x\n",
    "    def setY(self, value):\n",
    "        self.__y=value    \n",
    "    def setZ(self, value):\n",
    "        self.__z=value\n",
    "        \n",
    "    def getX(self):\n",
    "        return self.__x\n",
    "    def getY(self):\n",
    "        return self.__y    \n",
    "    def getZ(self):\n",
    "        return self.__z\n",
    "\n",
    "obj=myClass()\n",
    "print(obj.getX())\n",
    "obj.setX('ahmed')\n",
    "print(obj.getX())"
   ]
  },
  {
   "cell_type": "markdown",
   "metadata": {},
   "source": [
    "## Creating instance variables and instance methods"
   ]
  },
  {
   "cell_type": "code",
   "execution_count": 9,
   "metadata": {},
   "outputs": [
    {
     "name": "stdout",
     "output_type": "stream",
     "text": [
      "ali\n",
      "ahmed\n"
     ]
    }
   ],
   "source": [
    "class myClass:\n",
    "    def __init__(self, a, b, c):\n",
    "        self.__x=a\n",
    "        self.__y=b\n",
    "        self.__z=c\n",
    "        \n",
    "    def setX(self, x):\n",
    "        self.__x=x\n",
    "        \n",
    "    def setY(self, value):\n",
    "        self.__y=value    \n",
    "        \n",
    "    def setZ(self, value):\n",
    "        self.__z=value\n",
    "        \n",
    "    def getX(self):\n",
    "        return self.__x\n",
    "    \n",
    "    def getY(self):\n",
    "        return self.__y   \n",
    "    \n",
    "    def getZ(self):\n",
    "        return self.__z\n",
    "\n",
    "name, age, address='ali', 23, 'Giza'\n",
    "obj=myClass(name, age, address)\n",
    "print(obj.getX())\n",
    "obj.setX('ahmed')\n",
    "print(obj.getX())"
   ]
  },
  {
   "cell_type": "markdown",
   "metadata": {},
   "source": [
    "## Delete a class property"
   ]
  },
  {
   "cell_type": "code",
   "execution_count": 12,
   "metadata": {},
   "outputs": [
    {
     "name": "stdout",
     "output_type": "stream",
     "text": [
      "ali\n"
     ]
    }
   ],
   "source": [
    "class myClass:\n",
    "    def __init__(s, a, b, c):\n",
    "        s.__x=a\n",
    "        s.__y=b\n",
    "        s.__z=c\n",
    "        \n",
    "    def setX(self, x):\n",
    "        self.__x=x\n",
    "    def setY(self, value):\n",
    "        self.__y=value    \n",
    "    def setZ(self, value):\n",
    "        self.__z=value\n",
    "        \n",
    "    def getX(self):\n",
    "        return self.__x\n",
    "    def getY(self):\n",
    "        return self.__y    \n",
    "    def getZ(s):\n",
    "        return s.__z\n",
    "\n",
    "    def deleteX(self):\n",
    "        del self.__x\n",
    "        \n",
    "    def deleteY(s):\n",
    "        del s.__y\n",
    "    def deleteZ(t):\n",
    "        del t.__z\n",
    "    \n",
    "name, age, address='ali', 23, 'Giza'\n",
    "obj=myClass(name, age, address)\n",
    "print(obj.getX())\n",
    "obj.deleteX()\n",
    "#print(obj.getX())"
   ]
  },
  {
   "cell_type": "markdown",
   "metadata": {},
   "source": [
    "## Determine the class of an object"
   ]
  },
  {
   "cell_type": "code",
   "execution_count": 13,
   "metadata": {},
   "outputs": [
    {
     "name": "stdout",
     "output_type": "stream",
     "text": [
      "<class '__main__.myClass'>\n"
     ]
    }
   ],
   "source": [
    "print(type(obj))"
   ]
  },
  {
   "cell_type": "markdown",
   "metadata": {},
   "source": [
    "## Delete an object"
   ]
  },
  {
   "cell_type": "code",
   "execution_count": 14,
   "metadata": {},
   "outputs": [
    {
     "name": "stdout",
     "output_type": "stream",
     "text": [
      "<class '__main__.myClass'>\n"
     ]
    }
   ],
   "source": [
    "print(type(obj))\n",
    "del obj\n",
    "#print(type(obj))"
   ]
  },
  {
   "cell_type": "code",
   "execution_count": 15,
   "metadata": {},
   "outputs": [
    {
     "name": "stdout",
     "output_type": "stream",
     "text": [
      "ali\n"
     ]
    }
   ],
   "source": [
    "class myClass:\n",
    "    def __init__(s, a, b, c):\n",
    "        s.__x=a\n",
    "        s.__y=b\n",
    "        s.__z=c\n",
    "        \n",
    "    def setX(self, x):\n",
    "        self.__x=x\n",
    "    def setY(self, value):\n",
    "        self.__y=value    \n",
    "    def setZ(self, value):\n",
    "        self.__z=value\n",
    "        \n",
    "    def getX(self):\n",
    "        return self.__x\n",
    "    def getY(self):\n",
    "        return self.__y    \n",
    "    def getZ(s):\n",
    "        return s.__z\n",
    "\n",
    "    def deleteX(self):\n",
    "        del self.__x\n",
    "    def deleteY(s):\n",
    "        del s.__y\n",
    "    def deleteZ(t):\n",
    "        del t.__z\n",
    "    \n",
    "name, age, address='ali', 23, 'Giza'\n",
    "obj=myClass(name, age, address)\n",
    "print(obj.getX())\n",
    "obj.deleteX()\n",
    "#print(obj.getX())"
   ]
  },
  {
   "cell_type": "code",
   "execution_count": 16,
   "metadata": {},
   "outputs": [
    {
     "name": "stdout",
     "output_type": "stream",
     "text": [
      "ali\n",
      "23\n",
      "1\n",
      "2\n",
      "3\n"
     ]
    }
   ],
   "source": [
    "class Class2:\n",
    "    def __init__(s, a, b, c, d):\n",
    "        s.__x=a\n",
    "        s.__y=b\n",
    "        s.__z=c\n",
    "        \n",
    "    def setX(self, x):\n",
    "        self.__x=x\n",
    "    def setY(self, value):\n",
    "        self.__y=value    \n",
    "    def setZ(self, value):\n",
    "        self.__z=value\n",
    "        \n",
    "    def getX(self):\n",
    "        return self.__x\n",
    "    def getY(self):\n",
    "        return self.__y    \n",
    "    def getZ(s):\n",
    "        return s.__z\n",
    "\n",
    "    def deleteX(self):\n",
    "        del self.__x\n",
    "    def deleteY(s):\n",
    "        del s.__y\n",
    "    def deleteZ(t):\n",
    "        del t.__z\n",
    "    \n",
    "\n",
    "name, age, y='ali', 23, myClass(1, 2, 3)\n",
    "obj=myClass(name, age, y)\n",
    "print(obj.getX())\n",
    "print(obj.getY())\n",
    "print(obj.getZ().getX())\n",
    "print(obj.getZ().getY())\n",
    "print(obj.getZ().getZ())"
   ]
  },
  {
   "cell_type": "markdown",
   "metadata": {},
   "source": [
    "## Access Modifiers\n",
    "## public access modifiers"
   ]
  },
  {
   "cell_type": "code",
   "execution_count": 1,
   "metadata": {},
   "outputs": [
    {
     "name": "stdout",
     "output_type": "stream",
     "text": [
      "Name:  R2J\n",
      "Age:  20\n"
     ]
    }
   ],
   "source": [
    "class Geek:\n",
    "       \n",
    "     # constructor\n",
    "     def __init__(self, name, age):\n",
    "            self.geekName = name\n",
    "            self.geekAge = age\n",
    "      \n",
    "     def displayAge(self):\n",
    "           #accessing public data member\n",
    "           print(\"Age: \", self.geekAge)\n",
    "  \n",
    "\n",
    "obj = Geek(\"R2J\", 20)\n",
    "  \n",
    "# accessing public data member\n",
    "print(\"Name: \", obj.geekName)\n",
    "  \n",
    "# calling public member function of the class\n",
    "obj.displayAge()"
   ]
  },
  {
   "cell_type": "markdown",
   "metadata": {},
   "source": [
    "## protected access modifier"
   ]
  },
  {
   "cell_type": "code",
   "execution_count": 4,
   "metadata": {},
   "outputs": [
    {
     "name": "stdout",
     "output_type": "stream",
     "text": [
      "Name:  R2J\n",
      "Roll:  1706256\n",
      "Branch:  Information Technology\n"
     ]
    }
   ],
   "source": [
    "class Student:\n",
    "     # protected data members\n",
    "        _name = None\n",
    "        _roll = None\n",
    "        _branch = None\n",
    "     \n",
    "     # constructor\n",
    "        def __init__(self, name, roll, branch):  \n",
    "            self._name = name\n",
    "            self._roll = roll\n",
    "            self._branch = branch\n",
    "     \n",
    "     # protected member function   \n",
    "        def _displayRollAndBranch(self):\n",
    "          # accessing protected data members\n",
    "            print(\"Roll: \", self._roll)\n",
    "            print(\"Branch: \", self._branch)\n",
    "    \n",
    "# derived class\n",
    "class Geek(Student):\n",
    "         # constructor \n",
    "        def __init__(self, name, roll, branch): \n",
    "                Student.__init__(self, name, roll, branch) \n",
    "          \n",
    "       # public member function \n",
    "        def displayDetails(self):\n",
    "                # accessing protected data members of super class \n",
    "                print(\"Name: \", self._name)   \n",
    "                 # accessing protected member functions of super class \n",
    "                self._displayRollAndBranch()\n",
    "  \n",
    "# creating objects of the derived class        \n",
    "obj = Geek(\"R2J\", 1706256, \"Information Technology\") \n",
    "  \n",
    "# calling public member functions of the class\n",
    "obj.displayDetails() "
   ]
  },
  {
   "cell_type": "markdown",
   "metadata": {},
   "source": [
    "## private access modifier"
   ]
  },
  {
   "cell_type": "code",
   "execution_count": 6,
   "metadata": {},
   "outputs": [
    {
     "name": "stdout",
     "output_type": "stream",
     "text": [
      "Name:  R2J\n",
      "Roll:  1706256\n",
      "Branch:  Information Technology\n"
     ]
    }
   ],
   "source": [
    "class Geek:\n",
    "     # private members\n",
    "        __name = None\n",
    "        __roll = None\n",
    "        __branch = None\n",
    "  \n",
    "     # constructor\n",
    "        def __init__(self, name, roll, branch):  \n",
    "            self.__name = name\n",
    "            self.__roll = roll\n",
    "            self.__branch = branch\n",
    "  \n",
    "     # private member function  \n",
    "        def __displayDetails(self):\n",
    "          # accessing private data members\n",
    "            print(\"Name: \", self.__name)\n",
    "            print(\"Roll: \", self.__roll)\n",
    "            print(\"Branch: \", self.__branch)\n",
    "     \n",
    "     # public member function\n",
    "        def accessPrivateFunction(self):    \n",
    "           # accesing private member function\n",
    "           self.__displayDetails()  \n",
    "  \n",
    " # creating object    \n",
    "obj = Geek(\"R2J\", 1706256, \"Information Technology\") \n",
    "# calling public member function of the class\n",
    "obj.accessPrivateFunction()"
   ]
  },
  {
   "cell_type": "markdown",
   "metadata": {},
   "source": [
    "## Inheritance\n",
    "## base class"
   ]
  },
  {
   "cell_type": "code",
   "execution_count": 17,
   "metadata": {},
   "outputs": [],
   "source": [
    "class person:\n",
    "    def __init__(self, name, age, address):\n",
    "        self.__name=name\n",
    "        self.__age=age\n",
    "        \n",
    "    def setName(self, name):\n",
    "        self.__name=name\n",
    "        \n",
    "    def setAge(self, age):\n",
    "        self.__age=age\n",
    "            \n",
    "    def setAddress(self, address):\n",
    "        self.__address=address\n",
    "    \n",
    "    def getName(self):\n",
    "        return self.__name\n",
    "        \n",
    "    def getAge(self):\n",
    "        return self.__age\n",
    "            \n",
    "    def getAddress(self):\n",
    "        return self.__address"
   ]
  },
  {
   "cell_type": "markdown",
   "metadata": {},
   "source": [
    "## Child class"
   ]
  },
  {
   "cell_type": "code",
   "execution_count": 18,
   "metadata": {},
   "outputs": [],
   "source": [
    "class student(person):\n",
    "    pass"
   ]
  },
  {
   "cell_type": "code",
   "execution_count": 19,
   "metadata": {},
   "outputs": [
    {
     "name": "stdout",
     "output_type": "stream",
     "text": [
      "23\n"
     ]
    }
   ],
   "source": [
    "std1=student('ali', 23, 'Giza')\n",
    "print(std1.getAge())"
   ]
  },
  {
   "cell_type": "markdown",
   "metadata": {},
   "source": [
    "## override the constructor from the child class"
   ]
  },
  {
   "cell_type": "code",
   "execution_count": 20,
   "metadata": {},
   "outputs": [],
   "source": [
    "class person:\n",
    "    def __init__(self, name, age, address):\n",
    "        self.__name=name\n",
    "        self.__age=age\n",
    "        \n",
    "    def setName(self, name):\n",
    "        self.__name=name\n",
    "        \n",
    "    def setAge(self, age):\n",
    "        self.__age=age\n",
    "            \n",
    "    def setAddress(self, address):\n",
    "        self.__address=address\n",
    "    \n",
    "    def getName(self):\n",
    "        return self.__name\n",
    "        \n",
    "    def getAge(self):\n",
    "        return self.__age\n",
    "            \n",
    "    def getAddress(self):\n",
    "        return self.__address"
   ]
  },
  {
   "cell_type": "code",
   "execution_count": 23,
   "metadata": {},
   "outputs": [],
   "source": [
    "class student(person):\n",
    "    def __init__(self, name, age, address, studied_courses, current_courses):\n",
    "        self.__name=name\n",
    "        self.__age=age\n",
    "        self.__address=address\n",
    "        self.__studied_courses=studied_courses\n",
    "        self.__current_courses=current_courses\n",
    "    \n",
    "    def setStudiedCourses(self, studiedCourses):\n",
    "        for i in range(len(studiedCourses)):\n",
    "            __studied_courses[i:]=studiedCourses\n",
    "    \n",
    "    def setCurrentCourses(self, CurrentCourses):\n",
    "        for i in range(len(CurrentCourses)):\n",
    "            __current_courses[i:]=CurrentCourses\n",
    "            \n",
    "    def getStudiedCourses(self):\n",
    "        return self.__studied_courses\n",
    "\n",
    "    def getCurrentCourses(self):\n",
    "        return self.__current_courses\n",
    "        \n",
    "    def printStudiedCourses(self):\n",
    "        sc=self.getStudiedCourses\n",
    "        for i in range(len(sc)):\n",
    "            print(sc[i])\n",
    "        \n",
    "    def printCurrentCourses(self):\n",
    "        cc=self.getCurrentCourses()\n",
    "        for i in range(len(cc)):\n",
    "            print(cc[i])"
   ]
  },
  {
   "cell_type": "code",
   "execution_count": 24,
   "metadata": {},
   "outputs": [
    {
     "name": "stdout",
     "output_type": "stream",
     "text": [
      "CS522\n",
      "CS505\n"
     ]
    }
   ],
   "source": [
    "std2=student('ali', current_courses=['CS522', 'CS505'], age=23, studied_courses=['CS500', 'IT500', 'OR500', 'MS500', 'DB500'], address='Cairo')\n",
    "std2.printCurrentCourses()"
   ]
  },
  {
   "cell_type": "markdown",
   "metadata": {},
   "source": [
    "## Calling the superclass constructor"
   ]
  },
  {
   "cell_type": "code",
   "execution_count": 25,
   "metadata": {},
   "outputs": [],
   "source": [
    "class person:\n",
    "    def __init__(self, name, age, address):\n",
    "        self.__name=name\n",
    "        self.__age=age\n",
    "        \n",
    "    def setName(self, name):\n",
    "        self.__name=name\n",
    "        \n",
    "    def setAge(self, age):\n",
    "        self.__age=age\n",
    "            \n",
    "    def setAddress(self, address):\n",
    "        self.__address=address\n",
    "    \n",
    "    def getName(self):\n",
    "        return self.__name\n",
    "        \n",
    "    def getAge(self):\n",
    "        return self.__age\n",
    "            \n",
    "    def getAddress(self):\n",
    "        return self.__address"
   ]
  },
  {
   "cell_type": "code",
   "execution_count": 30,
   "metadata": {},
   "outputs": [],
   "source": [
    "class student(person):\n",
    "    def __init__(self, name, age, address, studied_courses, current_courses):\n",
    "        person.__init__(self, name, age, address)\n",
    "        self.__studied_courses=studied_courses\n",
    "        self.__current_courses=current_courses\n",
    "    \n",
    "    def setStudiedCourses(self, studiedCourses):\n",
    "        for i in range(len(studiedCourses)):\n",
    "            __studied_courses[i:]=studiedCourses\n",
    "    \n",
    "    def setCurrentCourses(self, CurrentCourses):\n",
    "        for i in range(len(CurrentCourses)):\n",
    "            __current_courses[i:]=CurrentCourses\n",
    "            \n",
    "    def getStudiedCourses(self):\n",
    "        return self.__studied_courses\n",
    "\n",
    "    def getCurrentCourses(self):\n",
    "        return self.__current_courses\n",
    "        \n",
    "    def printStudiedCourses(self):\n",
    "        sc=self.getStudiedCourses()\n",
    "        for i in range(len(sc)):\n",
    "            print(sc[i])\n",
    "        \n",
    "    def printCurrentCourses(self):\n",
    "        cc=self.getCurrentCourses()\n",
    "        for i in range(len(cc)):\n",
    "            print(cc[i])"
   ]
  },
  {
   "cell_type": "code",
   "execution_count": 31,
   "metadata": {},
   "outputs": [
    {
     "name": "stdout",
     "output_type": "stream",
     "text": [
      "CS522\n",
      "CS505\n"
     ]
    }
   ],
   "source": [
    "std2=student('ali', current_courses=['CS522', 'CS505'], age=23, studied_courses=['CS500', 'IT500', 'OR500', 'MS500', 'DB500'], address='Cairo')\n",
    "std2.printCurrentCourses()"
   ]
  },
  {
   "cell_type": "markdown",
   "metadata": {},
   "source": [
    "## Calling the superclass constructor using super()"
   ]
  },
  {
   "cell_type": "code",
   "execution_count": 32,
   "metadata": {},
   "outputs": [],
   "source": [
    "class person:\n",
    "    def __init__(self, name, age, address):\n",
    "        self.__name=name\n",
    "        self.__age=age\n",
    "        \n",
    "    def setName(self, name):\n",
    "        self.__name=name\n",
    "        \n",
    "    def setAge(self, age):\n",
    "        self.__age=age\n",
    "            \n",
    "    def setAddress(self, address):\n",
    "        self.__address=address\n",
    "    \n",
    "    def getName(self):\n",
    "        return self.__name\n",
    "        \n",
    "    def getAge(self):\n",
    "        return self.__age\n",
    "            \n",
    "    def getAddress(self):\n",
    "        return self.__address"
   ]
  },
  {
   "cell_type": "code",
   "execution_count": 33,
   "metadata": {},
   "outputs": [],
   "source": [
    "class student(person):\n",
    "    def __init__(self, name, age, address, studied_courses, current_courses):\n",
    "        super().__init__(name, age, address)\n",
    "        self.__studied_courses=studied_courses\n",
    "        self.__current_courses=current_courses\n",
    "    \n",
    "    def setStudiedCourses(self, studiedCourses):\n",
    "        for i in range(len(studiedCourses)):\n",
    "            __studied_courses[i:]=studiedCourses\n",
    "    \n",
    "    def setCurrentCourses(self, CurrentCourses):\n",
    "        for i in range(len(CurrentCourses)):\n",
    "            __current_courses[i:]=CurrentCourses\n",
    "            \n",
    "    def getStudiedCourses(self):\n",
    "        return self.__studied_courses\n",
    "\n",
    "    def getCurrentCourses(self):\n",
    "        return self.__current_courses\n",
    "        \n",
    "    def printStudiedCourses(self):\n",
    "        sc=self.getStudiedCourses\n",
    "        for i in range(len(sc)):\n",
    "            print(sc[i])\n",
    "        \n",
    "    def printCurrentCourses(self):\n",
    "        cc=self.getCurrentCourses()\n",
    "        for i in range(len(cc)):\n",
    "            print(cc[i])"
   ]
  },
  {
   "cell_type": "code",
   "execution_count": 34,
   "metadata": {},
   "outputs": [
    {
     "name": "stdout",
     "output_type": "stream",
     "text": [
      "CS522\n",
      "CS505\n"
     ]
    }
   ],
   "source": [
    "std2=student('ali', current_courses=['CS522', 'CS505'], age=23, studied_courses=['CS500', 'IT500', 'OR500', 'MS500', 'DB500'], address='Cairo')\n",
    "std2.printCurrentCourses()"
   ]
  },
  {
   "cell_type": "markdown",
   "metadata": {},
   "source": [
    "## Multi-level Inheritance\n"
   ]
  },
  {
   "cell_type": "code",
   "execution_count": 35,
   "metadata": {},
   "outputs": [],
   "source": [
    "class livingOrganism:\n",
    "    def __init__(self, class_type, can_eat, can_drink, can_sleep):\n",
    "        self.__class_type=class_type\n",
    "        self.__can_eat=can_eat\n",
    "        self.__can_drink=can_drink\n",
    "        self.__can_sleep=can_sleep\n",
    "        \n",
    "    def setType(self, class_type):\n",
    "        self.__class_type=class_type\n",
    "      \n",
    "    def getType(self):\n",
    "        return self.__class_type          "
   ]
  },
  {
   "cell_type": "code",
   "execution_count": 36,
   "metadata": {},
   "outputs": [],
   "source": [
    "class person(livingOrganism):\n",
    "    def __init__(self, name, age, address):\n",
    "        super().__init__('human',True, True, True )\n",
    "        self.__name=name\n",
    "        self.__age=age\n",
    "        \n",
    "    def setName(self, name):\n",
    "        self.__name=name\n",
    "        \n",
    "    def setAge(self, age):\n",
    "        self.__age=age\n",
    "            \n",
    "    def setAddress(self, address):\n",
    "        self.__address=address\n",
    "    \n",
    "    def getName(self):\n",
    "        return self.__name\n",
    "        \n",
    "    def getAge(self):\n",
    "        return self.__age\n",
    "            \n",
    "    def getAddress(self):\n",
    "        return self.__address"
   ]
  },
  {
   "cell_type": "code",
   "execution_count": 37,
   "metadata": {},
   "outputs": [],
   "source": [
    "class student(person):\n",
    "    def __init__(self, name, age, address, studied_courses, current_courses):\n",
    "        super().__init__(name, age, address)\n",
    "        self.__studied_courses=studied_courses\n",
    "        self.__current_courses=current_courses\n",
    "    \n",
    "    def setStudiedCourses(self, studiedCourses):\n",
    "        for i in range(len(studiedCourses)):\n",
    "            __studied_courses[i:]=studiedCourses\n",
    "    \n",
    "    def setCurrentCourses(self, CurrentCourses):\n",
    "        for i in range(len(CurrentCourses)):\n",
    "            __current_courses[i:]=CurrentCourses\n",
    "            \n",
    "    def getStudiedCourses(self):\n",
    "        return self.__studied_courses\n",
    "\n",
    "    def getCurrentCourses(self):\n",
    "        return self.__current_courses\n",
    "        \n",
    "    def printStudiedCourses(self):\n",
    "        sc=self.getStudiedCourses\n",
    "        for i in range(len(sc)):\n",
    "            print(sc[i])\n",
    "        \n",
    "    def printCurrentCourses(self):\n",
    "        cc=self.getCurrentCourses()\n",
    "        for i in range(len(cc)):\n",
    "            print(cc[i])"
   ]
  },
  {
   "cell_type": "code",
   "execution_count": 38,
   "metadata": {},
   "outputs": [
    {
     "name": "stdout",
     "output_type": "stream",
     "text": [
      "CS522\n",
      "CS505\n"
     ]
    },
    {
     "data": {
      "text/plain": [
       "'human'"
      ]
     },
     "execution_count": 38,
     "metadata": {},
     "output_type": "execute_result"
    }
   ],
   "source": [
    "std2=student('ali', current_courses=['CS522', 'CS505'], age=23, studied_courses=['CS500', 'IT500', 'OR500', 'MS500', 'DB500'], address='Cairo')\n",
    "std2.printCurrentCourses()\n",
    "std2.getType()"
   ]
  },
  {
   "cell_type": "markdown",
   "metadata": {},
   "source": [
    "##  Inheritance Example"
   ]
  },
  {
   "cell_type": "code",
   "execution_count": 39,
   "metadata": {},
   "outputs": [],
   "source": [
    "class livingOrganism:\n",
    "    def __init__(self, class_type, can_eat, can_drink, can_sleep):\n",
    "        self.__class_type=class_type\n",
    "        self.__can_eat=can_eat\n",
    "        self.__can_drink=can_drink\n",
    "        self.__can_sleep=can_sleep\n",
    "        \n",
    "    def setType(self, class_type):\n",
    "        self.__class_type=class_type\n",
    "      \n",
    "    def getType(self):\n",
    "        return self.__class_type          "
   ]
  },
  {
   "cell_type": "code",
   "execution_count": 40,
   "metadata": {},
   "outputs": [],
   "source": [
    "class person(livingOrganism):\n",
    "    def __init__(self, name, age, address):\n",
    "        super().__init__('human',True, True, True )\n",
    "        self.__name=name\n",
    "        self.__age=age\n",
    "        \n",
    "    def setName(self, name):\n",
    "        self.__name=name\n",
    "        \n",
    "    def setAge(self, age):\n",
    "        self.__age=age\n",
    "            \n",
    "    def setAddress(self, address):\n",
    "        self.__address=address\n",
    "    \n",
    "    def getName(self):\n",
    "        return self.__name\n",
    "        \n",
    "    def getAge(self):\n",
    "        return self.__age\n",
    "            \n",
    "    def getAddress(self):\n",
    "        return self.__address"
   ]
  },
  {
   "cell_type": "code",
   "execution_count": 41,
   "metadata": {},
   "outputs": [],
   "source": [
    "class employee(person):\n",
    "    def __init__(self, name, age, address, department):\n",
    "        person.__init__(self, name, age, address)\n",
    "        self.__department=department\n",
    "    \n",
    "    def setDepartment(self, department):\n",
    "        self.__department=department\n",
    "    \n",
    "    def getDepartment(self):\n",
    "        return self.__department"
   ]
  },
  {
   "cell_type": "code",
   "execution_count": 44,
   "metadata": {},
   "outputs": [],
   "source": [
    "class instructorStuff(employee):\n",
    "    def __init__(self, name, age, address, department, degree):\n",
    "        super().__init__(name, age, address, department)\n",
    "        self.__degree=degree\n",
    "    \n",
    "    def setDegree(self, degree):\n",
    "        self.__degree=degree\n",
    "        \n",
    "    def getDegree(self):\n",
    "        return self.__degree"
   ]
  },
  {
   "cell_type": "code",
   "execution_count": 45,
   "metadata": {},
   "outputs": [],
   "source": [
    "class adminstrationStuff(employee):\n",
    "    def __init__(self, name, age, address, department, position):\n",
    "        super().__init__(name, age, address, department)\n",
    "        self.__position=position\n",
    "    \n",
    "    def setPosition(self, position):\n",
    "        self.__position=position\n",
    "        \n",
    "    def getPosition(self):\n",
    "        return self.__position\n",
    "    "
   ]
  },
  {
   "cell_type": "code",
   "execution_count": 46,
   "metadata": {},
   "outputs": [
    {
     "name": "stdout",
     "output_type": "stream",
     "text": [
      "manager\n",
      "dept2\n",
      "Msc\n"
     ]
    }
   ],
   "source": [
    "a=adminstrationStuff('a', 12, 'C', 'dept', 'manager')\n",
    "a2=adminstrationStuff('a2', 22, 'C2', 'dept2', 'hr')\n",
    "i=instructorStuff('i', 22, 'Giza', 'dept2', 'Msc')\n",
    "print(a.getPosition())\n",
    "print(a2.getDepartment())\n",
    "print(i.getDegree())"
   ]
  },
  {
   "cell_type": "markdown",
   "metadata": {},
   "source": [
    "## Multiple inheritance"
   ]
  },
  {
   "cell_type": "code",
   "execution_count": 47,
   "metadata": {},
   "outputs": [],
   "source": [
    "class A:\n",
    "    def __init__(self, a, b):\n",
    "        self.__a=a\n",
    "        self.__b=b\n",
    "    \n",
    "    def setA(self, a):\n",
    "        self.__a=a\n",
    "    \n",
    "    def getA(self):\n",
    "        return self.__a"
   ]
  },
  {
   "cell_type": "code",
   "execution_count": 48,
   "metadata": {},
   "outputs": [],
   "source": [
    "class B:\n",
    "    def __init__(self, x, y):\n",
    "        self.__x=x\n",
    "        self.__y=y\n",
    "    \n",
    "    def setY(self, y):\n",
    "        self.__y=y\n",
    "    \n",
    "    def getY(self):\n",
    "        return self.__y"
   ]
  },
  {
   "cell_type": "code",
   "execution_count": 53,
   "metadata": {},
   "outputs": [],
   "source": [
    "class C(A, B):\n",
    "    def __init__(self, a, b, x, y, m):\n",
    "        A.__init__(self, a, b)\n",
    "        B.__init__(self, x, y)\n",
    "        self.__m=m\n",
    "    \n",
    "    def setM(self, m):\n",
    "        self.__m=m\n",
    "        self.getM()\n",
    "    \n",
    "    def getM(self):\n",
    "        return self.__m"
   ]
  },
  {
   "cell_type": "code",
   "execution_count": 54,
   "metadata": {},
   "outputs": [
    {
     "name": "stdout",
     "output_type": "stream",
     "text": [
      "1\n",
      "10\n"
     ]
    }
   ],
   "source": [
    "c=C(1, 2, 3, 4, 5)\n",
    "print(c.getA())\n",
    "c.setM(10)\n",
    "print(c.getM())"
   ]
  },
  {
   "cell_type": "markdown",
   "metadata": {},
   "source": [
    "## Static Variables"
   ]
  },
  {
   "cell_type": "code",
   "execution_count": 55,
   "metadata": {},
   "outputs": [],
   "source": [
    "class C(A, B):\n",
    "    #Static variable\n",
    "    __stat=234\n",
    "    \n",
    "    def __init__(self, a, b, x, y, m):\n",
    "        A.__init__(self, a, b)\n",
    "        B.__init__(self, x, y)\n",
    "        self.__m=m\n",
    "\n",
    "    \n",
    "    def setM(self, m):\n",
    "        self.__m=m\n",
    "        self.getM()\n",
    "    \n",
    "    def getM(self):\n",
    "        return self.__m + C.getStat()\n",
    "    \n",
    "    #@staticmethod\n",
    "    def setStat(stat):\n",
    "        C.__stat=stat\n",
    "        \n",
    "    def getStat():\n",
    "        return C.__stat"
   ]
  },
  {
   "cell_type": "code",
   "execution_count": 56,
   "metadata": {},
   "outputs": [
    {
     "name": "stdout",
     "output_type": "stream",
     "text": [
      "1\n",
      "244\n",
      "234\n",
      "23\n"
     ]
    }
   ],
   "source": [
    "c=C(1, 2, 3, 4, 5)\n",
    "print(c.getA())\n",
    "c.setM(10)\n",
    "print(c.getM())\n",
    "c=C(1, 2, 3, 4, 5)\n",
    "print(C.getStat())\n",
    "C.setStat(23)\n",
    "print(C.getStat())"
   ]
  },
  {
   "cell_type": "markdown",
   "metadata": {},
   "source": [
    "## Static method example"
   ]
  },
  {
   "cell_type": "code",
   "execution_count": 62,
   "metadata": {},
   "outputs": [
    {
     "name": "stdout",
     "output_type": "stream",
     "text": [
      "Welcome to Shape class\n",
      "This class is used for representing different shapes.\n",
      "\n",
      "Shape is of category:  Geometrical\n",
      "And shape is:  Triangle\n",
      "Shape is of category:  Geometrical\n",
      "And shape is:  Square\n",
      "Shape is of category:  Geometrical\n",
      "And shape is:  rectangle\n",
      "Shape is of category:  Geometrical\n",
      "And shape is:  Triangle\n"
     ]
    }
   ],
   "source": [
    "class Shape:\n",
    "    # class or static variable \n",
    "    __cat = 'Geometrical'\n",
    "    \n",
    "    def __init__(self, type):\n",
    "        # instance variable\n",
    "        self.__type = type\n",
    "    \n",
    "    # method to show data\n",
    "    def show(self):\n",
    "        # accessing class variable\n",
    "        print('Shape is of category: ', Shape.__cat)\n",
    "        # accessing instance variable\n",
    "        print('And shape is: ', self.__type)\n",
    "\n",
    "    def info(msg):\n",
    "        # show custom message\n",
    "        print(msg)\n",
    "        print(\"This class is used for representing different shapes.\\n\")\n",
    "        #print(self.__type)\n",
    "        \n",
    "Shape.info('Welcome to Shape class')\n",
    "\n",
    "tr = Shape('Triangle')\n",
    "sq = Shape('Square')\n",
    "rec = Shape('rectangle')\n",
    "\n",
    "tr.show()\n",
    "sq.show()\n",
    "rec.show()\n",
    "\n",
    "Shape.show(tr)"
   ]
  },
  {
   "cell_type": "markdown",
   "metadata": {},
   "source": [
    "## Employee Example"
   ]
  },
  {
   "cell_type": "code",
   "execution_count": 63,
   "metadata": {},
   "outputs": [
    {
     "name": "stdout",
     "output_type": "stream",
     "text": [
      "0.5\n",
      "ahmed\n",
      "20000\n",
      "120000.0\n"
     ]
    }
   ],
   "source": [
    "class employee:\n",
    "    __stat=13\n",
    "    __tax=0.2\n",
    "    \n",
    "    def __init__(self, name, age, address, position, salary):\n",
    "        self.__name=name\n",
    "        self.__age=age\n",
    "        self.__position=position\n",
    "        self.__address=address\n",
    "        self.__salary=salary\n",
    "        \n",
    "    def setName(a, name):\n",
    "        a.__name=name\n",
    "\n",
    "    def getName(self):\n",
    "        return self.__name\n",
    "    \n",
    "    def setAge(self, age):\n",
    "        self.__age=age\n",
    "\n",
    "    def setposition(self, position):\n",
    "        self.__position=position\n",
    "\n",
    "    def getposition(self):\n",
    "        return self.__position\n",
    "        \n",
    "    def getName(self):\n",
    "        return self.__name\n",
    "    \n",
    "    def setSalary(self, salary):\n",
    "        self.__salary=salary\n",
    "    \n",
    "    def getSalary(self):\n",
    "        return self.__salary\n",
    "    \n",
    "    def setStat(stat):\n",
    "        employee.__stat=stat\n",
    "    \n",
    "    def getStat():\n",
    "        return employee.__stat\n",
    "    \n",
    "\n",
    "        \n",
    "    def setTax(tax):\n",
    "        employee.__tax=tax\n",
    "    \n",
    "    def getTax():\n",
    "        return employee.__tax\n",
    "    \n",
    "\n",
    "    \n",
    "    def calNetAnnualSalary(self):\n",
    "        return (self.getSalary()-(self.getSalary()*employee.getTax()))*12\n",
    "\n",
    "\n",
    "employee.setTax(0.5)\n",
    "print(employee.getTax())\n",
    "e=employee('ahmed', 34, 'Cairo', 'manager', 20000)\n",
    "print(e.getName())\n",
    "print(e.getSalary())\n",
    "print(e.calNetAnnualSalary())"
   ]
  },
  {
   "cell_type": "code",
   "execution_count": null,
   "metadata": {},
   "outputs": [],
   "source": []
  }
 ],
 "metadata": {
  "kernelspec": {
   "display_name": "Python 3",
   "language": "python",
   "name": "python3"
  },
  "language_info": {
   "codemirror_mode": {
    "name": "ipython",
    "version": 3
   },
   "file_extension": ".py",
   "mimetype": "text/x-python",
   "name": "python",
   "nbconvert_exporter": "python",
   "pygments_lexer": "ipython3",
   "version": "3.7.6"
  }
 },
 "nbformat": 4,
 "nbformat_minor": 4
}
